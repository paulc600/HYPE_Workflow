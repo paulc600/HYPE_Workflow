{
 "cells": [
  {
   "cell_type": "markdown",
   "id": "33dae467-a7f0-439d-a9aa-deb624b4de51",
   "metadata": {},
   "source": [
    "# Importing necessary libraries"
   ]
  },
  {
   "cell_type": "code",
   "execution_count": null,
   "id": "b545ba9c-8432-4cb6-b3b8-cffeb6140eef",
   "metadata": {},
   "outputs": [],
   "source": [
    "import os\n",
    "import geopandas as gpd\n",
    "import pandas as pd\n",
    "import numpy as np\n",
    "import math"
   ]
  },
  {
   "cell_type": "markdown",
   "id": "c96f04ef-8e13-4dfb-9049-4f1792afaac8",
   "metadata": {},
   "source": [
    "# Reading the `SLC` file generated using the `R` code"
   ]
  },
  {
   "cell_type": "markdown",
   "id": "363ba93a-be77-4424-a5ac-4f7226da9aa0",
   "metadata": {},
   "source": [
    "The `R` code produces the fractions of combinations of land cover and soil types within each sub-basin. The `R` code is available within this repository as well:"
   ]
  },
  {
   "cell_type": "code",
   "execution_count": null,
   "id": "7d7dcb9a-45fa-45ce-93d4-6ea10c1dd70b",
   "metadata": {},
   "outputs": [],
   "source": [
    "# read the csv file with SLC, soil and landuse info\n",
    "slc_path = '/home/paulc600/SMM/HYPE_geospatial/SLC_frac.csv' # path to the generated `SLC`\n",
    "slc = pd.read_csv(slc_path) # reading `slc` file in form of a Pandas.DataFrame"
   ]
  },
  {
   "cell_type": "code",
   "execution_count": null,
   "id": "261c7138-0386-4de0-a238-fa5c23edb72b",
   "metadata": {},
   "outputs": [],
   "source": [
    "# checking the output\n",
    "print(slc)"
   ]
  },
  {
   "cell_type": "markdown",
   "id": "9218dd9a-4df6-4af3-8eb5-6f0fb5ef74b0",
   "metadata": {},
   "source": [
    "A few manipulations on the `SLC` dataframe:"
   ]
  },
  {
   "cell_type": "code",
   "execution_count": null,
   "id": "7d6d0ef0-5405-4737-90a0-8457026d0dec",
   "metadata": {},
   "outputs": [],
   "source": [
    "# remove soil code from index\n",
    "slc = slc.reset_index()\n",
    "slc.loc[-1] = slc.columns\n",
    "slc.sort_index(inplace=True)"
   ]
  },
  {
   "cell_type": "code",
   "execution_count": null,
   "id": "6b50b4d5-8609-43ac-9234-ae1a18668a74",
   "metadata": {},
   "outputs": [],
   "source": [
    "# droping the 'index' column\n",
    "slc.drop('index', axis=1, inplace=True)"
   ]
  },
  {
   "cell_type": "code",
   "execution_count": null,
   "id": "9d77194f-4687-4648-b6b5-be057b7c78b2",
   "metadata": {},
   "outputs": [],
   "source": [
    "# checking:\n",
    "print(slc)"
   ]
  },
  {
   "cell_type": "code",
   "execution_count": null,
   "id": "48163154-0d7e-42dc-b036-b80f378ff62e",
   "metadata": {},
   "outputs": [],
   "source": [
    "# Remove uncecessary rows\n",
    "removed_slc = slc.iloc[:3]"
   ]
  },
  {
   "cell_type": "code",
   "execution_count": null,
   "id": "8800875a-e523-44a0-be93-974f48a7ccf3",
   "metadata": {},
   "outputs": [],
   "source": [
    "# checking\n",
    "print(removed_slc)"
   ]
  },
  {
   "cell_type": "code",
   "execution_count": null,
   "id": "1a85f89e-65b0-483f-a500-b39443171d30",
   "metadata": {},
   "outputs": [],
   "source": [
    "# Transpose the DataFrame\n",
    "slc_transposed = removed_slc.transpose().reset_index(drop=True)"
   ]
  },
  {
   "cell_type": "code",
   "execution_count": null,
   "id": "b0cfaefd-e436-4f8b-a155-ca85af88f056",
   "metadata": {},
   "outputs": [],
   "source": [
    "# Set the first row as the index header\n",
    "slc_transposed.set_axis(slc_transposed.iloc[0], axis=1, inplace=True)\n",
    "slc_transposed = slc_transposed[1:]"
   ]
  },
  {
   "cell_type": "code",
   "execution_count": null,
   "id": "6051d2e6-8488-4249-afa5-fa6e3854102b",
   "metadata": {},
   "outputs": [],
   "source": [
    "# re order columns\n",
    "new_order=['COMID\\SLC', 'Landuse code', 'soil code']"
   ]
  },
  {
   "cell_type": "code",
   "execution_count": null,
   "id": "71248493-3aec-409b-a044-8c425037ef2c",
   "metadata": {},
   "outputs": [],
   "source": [
    "# Rearrange the columns in the DataFrame\n",
    "slc_transposed = slc_transposed[new_order]"
   ]
  },
  {
   "cell_type": "code",
   "execution_count": null,
   "id": "1b7c0c96-7334-46b1-a49c-64a693ded1d5",
   "metadata": {},
   "outputs": [],
   "source": [
    "# Convert all columns to int by truncating decimals\n",
    "slc_transposed = slc_transposed.applymap(lambda x: int(float(x)) if isinstance(x, str) and '.' in x else int(x))"
   ]
  },
  {
   "cell_type": "code",
   "execution_count": null,
   "id": "73378fcb-6454-484a-a383-af8fc0211b8b",
   "metadata": {},
   "outputs": [],
   "source": [
    "#Rename the columns\n",
    "slc_transposed.rename(columns={'COMID\\SLC':'SLC' , 'soil code':'SOIL TYPE', 'Landuse code':'LULC'}, inplace=True)   "
   ]
  },
  {
   "cell_type": "code",
   "execution_count": null,
   "id": "3562611a-8920-4753-8590-3f7e96411f2f",
   "metadata": {},
   "outputs": [],
   "source": [
    "# checking\n",
    "print(slc_transposed)"
   ]
  },
  {
   "cell_type": "code",
   "execution_count": null,
   "id": "ca7b30c1-3445-4fa5-b137-fc257d1aeeff",
   "metadata": {},
   "outputs": [],
   "source": [
    "# Replace the values of 'COMID\\SLC' with a sequence of numbers\n",
    "slc_transposed['SLC'] = range(1, len(slc_transposed) + 1)"
   ]
  },
  {
   "cell_type": "code",
   "execution_count": null,
   "id": "e509513d-a897-449d-b422-fec353393fee",
   "metadata": {},
   "outputs": [],
   "source": [
    "# checking\n",
    "print(slc_transposed)"
   ]
  },
  {
   "cell_type": "code",
   "execution_count": null,
   "id": "9262d995-ee73-438d-afaf-53b0542f0dd3",
   "metadata": {},
   "outputs": [],
   "source": [
    "#amount of rows for the rest of the data\n",
    "array_rows=53"
   ]
  },
  {
   "cell_type": "code",
   "execution_count": null,
   "id": "79960421-3aea-4d53-be4a-f3333675d77d",
   "metadata": {},
   "outputs": [],
   "source": [
    "# Numbers to fill the columns with\n",
    "fill_numbers = [0, 0, 0, 1, 0, 0, 2.296, 3, 0.091, 0.493, 2.296]"
   ]
  },
  {
   "cell_type": "code",
   "execution_count": null,
   "id": "b514b916-1ad2-4e45-ac57-b5cac165d056",
   "metadata": {},
   "outputs": [],
   "source": [
    "# Create a dictionary with column names and fill numbers\n",
    "extra_data = {'Main crop cropid': [fill_numbers[0]] * array_rows,\n",
    "        'Second crop cropid': [fill_numbers[1]] * array_rows,\n",
    "        'Crop rotation group': [fill_numbers[2]] * array_rows,\n",
    "        'Vegetation type': [fill_numbers[3]] * array_rows,\n",
    "        'Special class code': [fill_numbers[4]] * array_rows,\n",
    "        'Tile depth': [fill_numbers[5]] * array_rows,\n",
    "        'Stream depth': [fill_numbers[6]] * array_rows,\n",
    "        'Number of soil layers': [fill_numbers[7]] * array_rows,\n",
    "        'Soil layer depth 1': [fill_numbers[8]] * array_rows,\n",
    "        'Soil layer depth 2': [fill_numbers[9]] * array_rows,\n",
    "        'Soil layer depth 3': [fill_numbers[10]] * array_rows}"
   ]
  },
  {
   "cell_type": "code",
   "execution_count": null,
   "id": "83470ad5-15b6-4831-a658-06f182a83934",
   "metadata": {},
   "outputs": [],
   "source": [
    "# Create the DataFrame\n",
    "full_data = pd.DataFrame(extra_data)"
   ]
  },
  {
   "cell_type": "code",
   "execution_count": null,
   "id": "a1d1f9d2-5712-4982-93fc-0a77e9b1659a",
   "metadata": {},
   "outputs": [],
   "source": [
    "# checking\n",
    "print(full_data)"
   ]
  },
  {
   "cell_type": "code",
   "execution_count": null,
   "id": "88e50183-5f31-4d09-82a8-b536806c6694",
   "metadata": {},
   "outputs": [],
   "source": [
    "# Merge the two DataFrames\n",
    "final_geoclass = pd.merge(slc_transposed, full_data, left_index=True, right_index=True)"
   ]
  },
  {
   "cell_type": "code",
   "execution_count": null,
   "id": "ecfe7ad3-d6a4-4c20-8647-c0908381d3bb",
   "metadata": {},
   "outputs": [],
   "source": [
    "# checking\n",
    "print(final_geoclass)"
   ]
  },
  {
   "cell_type": "code",
   "execution_count": null,
   "id": "c53cf5a8-b024-4fba-9832-d1aac26d0cf0",
   "metadata": {},
   "outputs": [],
   "source": [
    "# Output merged DataFrame to a .txt file\n",
    "output_file = '/home/paulc600/local/HYPE Inputs/GeoClass.txt' # modify as necessary"
   ]
  },
  {
   "cell_type": "code",
   "execution_count": null,
   "id": "6ceb1466-6599-4cf0-8cc7-f07ad8ae2f21",
   "metadata": {},
   "outputs": [],
   "source": [
    "# Add commented lines\n",
    "commented_lines = [\n",
    "\"\"\"! MODIS landcover\t\t\t\t\t\t\t\t\t\t\t\t\t\n",
    "! Add legend (raster value) and discription\t\t\t\t\t\t\t\t\t\t\t\t\t\n",
    "!\toriginal legend (raster_value)\tdescription\t\t\t\t\t\t\t\t\t\t\t\n",
    "!\t1\tEvergreen Needleleaf Forests \t\t\t\t\t\t\t\t\t\t\t\n",
    "!\t2\tEvergreen Broadleaf Forests \t\t\t\t\t\t\t\t\t\t\t\n",
    "!\t3\tDeciduous Needleleaf Forests \t\t\t\t\t\t\t\t\t\t\t\n",
    "!\t4\tDeciduous Broadleaf Forests \t\t\t\t\t\t\t\t\t\t\t\n",
    "!\t5\tMixed Forests \t\t\t\t\t\t\t\t\t\t\t\n",
    "!\t6\tClosed Shrublands \t\t\t\t\t\t\t\t\t\t\t\n",
    "!\t7\tOpen Shrublands \t\t\t\t\t\t\t\t\t\t\t\n",
    "!\t8\tWoody Savannas \t\t\t\t\t\t\t\t\t\t\t\n",
    "!\t9\tSavannas \t\t\t\t\t\t\t\t\t\t\t\n",
    "!\t10\tGrasslands \t\t\t\t\t\t\t\t\t\t\t\n",
    "!\t11\tPermanent Wetlands \t\t\t\t\t\t\t\t\t\t\t\n",
    "!\t12\tCroplands \t\t\t\t\t\t\t\t\t\t\t\n",
    "!\t13\tUrban and Built-up Lands \t\t\t\t\t\t\t\t\t\t\t\n",
    "!\t14\tCropland/ Natural Vegetation Mosmcs \t\t\t\t\t\t\t\t\t\t\t\n",
    "!\t15\tPermanent Snow and Ice \t\t\t\t\t\t\t\t\t\t\t\n",
    "!\t16\tBarren \t\t\t\t\t\t\t\t\t\t\t\n",
    "!\t17\tWater Bodies \t\t\t\t\t\t\t\t\t\t\t\n",
    "!\t\t\t\t\t\t\t\t\t\t\t\t\t\n",
    "!\t\t\t\t\t\t\t\t\t\t\t\t\t\n",
    "!\t\t\t\t\t\t\t\t\t\t\t\t\t\n",
    "! ----------------------------------------------------------------------------------------------------------------------------------------------------------------------------------------------------\t\t\t\t\t\t\t\t\t\t\t\t\t\n",
    "!\tSoilGrid V1\t\t\t\t\t\t\t\t\t\t\t\t\n",
    "!\t\toriginal legend (raster_value)\tdescription\t\t\t\t\t\t\t\t\t\t\n",
    "!\t C \t1\t clay\t\t\t\t\t\t\t\t\t\t\n",
    "!\t SIC \t2\t silty clay\t\t\t\t\t\t\t\t\t\t\n",
    "!\t SC \t3\t sandy clay\t\t\t\t\t\t\t\t\t\t\n",
    "!\t CL \t4\t clay loam\t\t\t\t\t\t\t\t\t\t\n",
    "!\t SICL \t5\t silty clay loam\t\t\t\t\t\t\t\t\t\t\n",
    "!\t SCL \t6\t sandy clay loam\t\t\t\t\t\t\t\t\t\t\n",
    "!\t L \t7\t loam\t\t\t\t\t\t\t\t\t\t\n",
    "!\t SIL \t8\t silty loam\t\t\t\t\t\t\t\t\t\t\n",
    "!\t SL \t9\t sandy loam\t\t\t\t\t\t\t\t\t\t\n",
    "!\t SI \t10\t silt\t\t\t\t\t\t\t\t\t\t\n",
    "!\t LS \t11\t loamy sand\t\t\t\t\t\t\t\t\t\t\n",
    "!\t S \t12\t  sand\t\t\t\t\t\t\t\t\t\t\n",
    "!\t\t\t\t\t\t\t\t\t\t\t\t\t\n",
    "!\t\t\t\t\t\t\t\t\t\t\t\t\t\n",
    "! ----------------------------------------------------------------------------------------------------------------------------------------------------------------------------------------------------\t\n",
    "!          SLC\tLULC\tSOIL TYPE\tMain crop cropid\tSecond crop cropid\tCrop rotation group\tVegetation type\tSpecial class code\tTile depth\tStream depth\tNumber of soil layers\tSoil layer depth 1\tSoil layer depth 2\tSoil layer depth 3\"\"\"\n",
    "]"
   ]
  },
  {
   "cell_type": "markdown",
   "id": "4a8f4042-ca94-48e7-b7ba-7e5bbd17a760",
   "metadata": {},
   "source": [
    "printing the `GeoClass.txt` file:"
   ]
  },
  {
   "cell_type": "code",
   "execution_count": null,
   "id": "29df07d8-b3de-4493-afdd-16c8a2ca5178",
   "metadata": {},
   "outputs": [],
   "source": [
    "# Open the file in write mode\n",
    "with open(output_file, 'w') as file:\n",
    "    # Write the commented lines\n",
    "    for line in commented_lines:\n",
    "        file.write(line + '\\n')"
   ]
  },
  {
   "cell_type": "code",
   "execution_count": null,
   "id": "b2abc6ef-b72c-40a9-8666-c95bb7c687f4",
   "metadata": {},
   "outputs": [],
   "source": [
    "# writing the `GeoClass.txt` file\n",
    "with open(output_file, 'a') as file:\n",
    "        final_geoclass.to_csv(file, sep='\\t', index=False, header=False, line_terminator='\\n')"
   ]
  }
 ],
 "metadata": {
  "kernelspec": {
   "display_name": "easymore-env",
   "language": "python",
   "name": "easymore-env"
  },
  "language_info": {
   "codemirror_mode": {
    "name": "ipython",
    "version": 3
   },
   "file_extension": ".py",
   "mimetype": "text/x-python",
   "name": "python",
   "nbconvert_exporter": "python",
   "pygments_lexer": "ipython3",
   "version": "3.11.2"
  }
 },
 "nbformat": 4,
 "nbformat_minor": 5
}
