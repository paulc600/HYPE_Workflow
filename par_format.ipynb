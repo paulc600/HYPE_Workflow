{
 "cells": [
  {
   "cell_type": "code",
   "execution_count": 1,
   "id": "f62d16ab-b502-4a4b-afd4-bee825105bb1",
   "metadata": {},
   "outputs": [],
   "source": [
    "import os\n",
    "import geopandas as gpd\n",
    "import pandas as pd\n",
    "import numpy as np\n",
    "import math"
   ]
  },
  {
   "cell_type": "code",
   "execution_count": 2,
   "id": "0840e7e2-850e-420a-be84-4b9eaa1e6881",
   "metadata": {},
   "outputs": [],
   "source": [
    "# Output par to a .txt file\n",
    "output_file = '/home/paulc600/local/HYPE Inputs/par.txt'"
   ]
  },
  {
   "cell_type": "code",
   "execution_count": 3,
   "id": "251c1f73-fffb-49f0-aa42-256f9fa13bcf",
   "metadata": {},
   "outputs": [],
   "source": [
    "# write out first text section\n",
    "s1= [\n",
    "\"\"\"!!\t=======================================================================================================\t\t\t\t\t\t\t\t\t\t\t\t\t\t\t\t\n",
    "!! Parameter file for: Milk River & St Mary River\t\t\t\t\t\t\t\t\t\t\t\t\t\t\t\t\t\n",
    "!!\t------------------------\t\t\t\t\t\t\t\t\t\t\t\t\t\t\t\t\n",
    "!!\t\t\t\t\t\t\t\t\t\t\t\t\t\t\t\t\t\n",
    "!!\t=======================================================================================================\t\t\t\t\t\t\t\t\t\t\t\t\t\t\t\t\n",
    "!! METEOROLOGICAL INPUT - general parameters related to temperature and precipitation corrections\t\t\t\t\t\t\t\t\t\t\t\t\t\t\t\t\t\n",
    "!!\t-----\t\t\t\t\t\t\t\t\t\t\t\t\t\t\t\t\n",
    "!!\tGeneral parameters - baseline parameters from EHYPE3: dry adiabatic T decrease (0.6deg/100m) and NO elevation corrections on P\t\t\t\t\t\t\t\t\t\t\t\t\t\t\t\t\"\"\"\n",
    "]"
   ]
  },
  {
   "cell_type": "code",
   "execution_count": 4,
   "id": "2002bd05-8135-48fe-99d1-ee138a0e0d92",
   "metadata": {},
   "outputs": [],
   "source": [
    "# write s1 in output file\n",
    "with open(output_file, 'w') as file:\n",
    "    # Write the commented lines\n",
    "    for line in s1:\n",
    "        file.write(line + '\\n')"
   ]
  },
  {
   "cell_type": "code",
   "execution_count": 5,
   "id": "87687c07-5924-4961-a733-233e66627b4f",
   "metadata": {},
   "outputs": [],
   "source": [
    "# create first dataframe\n",
    "df1_row=['tcobselev','tcalt','tcelevadd','pcaddg','pcusnow','pcurain']\n",
    "df1_val=[0,0,0,0,0,0]\n",
    "df1=pd.DataFrame(df1_val, index=df1_row, columns=None)"
   ]
  },
  {
   "cell_type": "code",
   "execution_count": 6,
   "id": "abae693c-093e-41ba-9062-f80892ab69e9",
   "metadata": {},
   "outputs": [],
   "source": [
    "# create the corresponding comments\n",
    "c1 = [\n",
    "    \"!! temperature lapse rate for correction from Tobs elevation to basin mean elevation temperature lapse rate for correction from Tobs elevation to basin mean elevation (deg C)\",\n",
    "    \"!! temperature lapse rate for correction from basin mean elevation to class elevation\",\n",
    "    \"!! temperature lapse rate for correction from sea-level to basin mean elevation\",\n",
    "    \"!! general fractional bias correction of precipitation\",\n",
    "    \"!! prec undercatch correction for snow\",\n",
    "    \"!! prec undercatch correction for rain\",\n",
    "]"
   ]
  },
  {
   "cell_type": "code",
   "execution_count": 7,
   "id": "03247174-6de2-4124-925a-e7da3622701e",
   "metadata": {},
   "outputs": [],
   "source": [
    "# append c1 and df1\n",
    "with open(output_file, 'a') as file:\n",
    "    # Iterate over DataFrame rows\n",
    "    for i, (index, row) in enumerate(df1.iterrows()):\n",
    "        # Check if there is a comment line for the current row\n",
    "        if i < len(c1):\n",
    "            # Write the row name, values, and comment on the same line\n",
    "            line = str(index) + '\\t' + '\\t'.join(str(val) for val in row.values) + '\\t' + c1[i] + '\\n'\n",
    "        else:\n",
    "            # Write the row name and values without comment on the same line\n",
    "            line = str(index) + '\\t' + '\\t'.join(str(val) for val in row.values) + '\\n'\n",
    "        \n",
    "        # Write the line to the file\n",
    "        file.write(line)"
   ]
  },
  {
   "cell_type": "code",
   "execution_count": 8,
   "id": "f1d31db4-c94a-45a6-8922-fc665a1bac36",
   "metadata": {},
   "outputs": [],
   "source": [
    "s2= [\n",
    "\"\"\"!!\t=======================================================================================================\t\t\t\t\t\t\t\t\t\t\t\t\t\t\t\t\n",
    "!!\t\"SNOW - MELT, ACCUMULATION, AND DISTRIBUTION; sublimation is sorted under Evapotranspiration\"\t\t\t\t\t\t\t\t\t\t\t\t\t\t\t\t\n",
    "!!\t-----\t\t\t\t\t\t\t\t\t\t\t\t\t\t\t\t\n",
    "!!\t\"General snow accumulation and melt related parameters (baseline values from SHYPE, unless noted otherwise)\"\t\t\t\t\t\t\t\t\t\t\t\t\t\t\t\t\"\"\"\n",
    "]"
   ]
  },
  {
   "cell_type": "code",
   "execution_count": 9,
   "id": "ee32faf5-071f-4f51-ab45-b044b0d7cd5c",
   "metadata": {},
   "outputs": [],
   "source": [
    "# write s2 in output file\n",
    "with open(output_file, 'a') as file:\n",
    "    # Write the commented lines\n",
    "    for line in s2:\n",
    "        file.write(line + '\\n')"
   ]
  },
  {
   "cell_type": "code",
   "execution_count": 10,
   "id": "d1e87678-b995-4485-9656-1f1ddbbf9cd0",
   "metadata": {},
   "outputs": [],
   "source": [
    "# create second dataframe\n",
    "df2_row=['ttpi','sdnsnew','snowdensdt','fsceff','cmrefr']\n",
    "df2_val=[1,0.10,0.001,1,0.05]\n",
    "df2=pd.DataFrame(df2_val, index=df2_row, columns=None)"
   ]
  },
  {
   "cell_type": "code",
   "execution_count": 11,
   "id": "054d6626-3624-4748-9e0e-2c7664360862",
   "metadata": {},
   "outputs": [],
   "source": [
    "# create the corresponding comments\n",
    "c2 = [\n",
    "    \"!! width of the temperature interval with mixed precipitation\",\n",
    "    \"!! density of fresh snow (kg/dm3)\",\n",
    "    \"!! snow densification parameter\",\n",
    "    \"!! efficiency of fractional snow cover to reduce melt and evap\",\n",
    "    \"!! snow refreeze capacity (fraction of degreeday melt factor) - baseline value from HBV (pers comm Barbro Johansson, but also in publications)\",\n",
    "]"
   ]
  },
  {
   "cell_type": "code",
   "execution_count": 12,
   "id": "a5216cb2-2ba0-4613-b738-08e87618cd21",
   "metadata": {},
   "outputs": [],
   "source": [
    "# append c2 and df2\n",
    "with open(output_file, 'a') as file:\n",
    "    # Iterate over DataFrame rows\n",
    "    for i, (index, row) in enumerate(df2.iterrows()):\n",
    "        # Check if there is a comment line for the current row\n",
    "        if i < len(c2):\n",
    "            # Write the row name, values, and comment on the same line\n",
    "            line = str(index) + '\\t' + '\\t'.join(str(val) for val in row.values) + '\\t' + c2[i] + '\\n'\n",
    "        else:\n",
    "            # Write the row name and values without comment on the same line\n",
    "            line = str(index) + '\\t' + '\\t'.join(str(val) for val in row.values) + '\\n'\n",
    "        \n",
    "        # Write the line to the file\n",
    "        file.write(line)"
   ]
  },
  {
   "cell_type": "code",
   "execution_count": 13,
   "id": "cd3195cb-a780-4a4b-9e42-a36c332f397d",
   "metadata": {
    "tags": []
   },
   "outputs": [],
   "source": [
    "s3= [\n",
    "\"\"\"!!\t-----\t\t\t\t\t\t\t\t\t\t\t\t\t\t\t\t\n",
    "!!\tLanduse dependent snow melt parameters\t\t\t\t\tpd.DataFrame(column_values, index=row_names, columns=None)\t\t\t\t\t\t\t\t\t\t\t\n",
    "!!LUSE:\tLU1\tLU2\tLU3\tLU4\tLU5\tLU6\tLU7\tLU8\tLU9\tLU10\tLU11\tLU12\tLU13\tLU14\tLU15\tLU16\tLU17\"\"\"\n",
    "]"
   ]
  },
  {
   "cell_type": "code",
   "execution_count": 14,
   "id": "e95e4099-aa05-442c-9c70-f58bd5598cca",
   "metadata": {},
   "outputs": [],
   "source": [
    "# write s3 in output file\n",
    "with open(output_file, 'a') as file:\n",
    "    # Write the commented lines\n",
    "    for line in s3:\n",
    "        file.write(line + '\\n')"
   ]
  },
  {
   "cell_type": "code",
   "execution_count": 15,
   "id": "629c2c13-3d9e-4b39-98aa-da68f6739947",
   "metadata": {},
   "outputs": [],
   "source": [
    "# create df3 for LU 1-17\n",
    "ttmp=[-9.774,-9.774,-9.774,-9.774,-9.774,-9.774,-9.774,-9.774,-9.774,-9.774,-9.774,-9.774,-9.774,-9.774,-9.774,-9.774,-9.774]\n",
    "cmlt=[9.7021,9.7021,9.7021,9.7021,9.7021,9.7021,9.7021,9.7021,9.7021,9.7021,9.7021,9.7021,9.7021,9.7021,9.7021,9.7021,9.7021]\n",
    "cmrad=[0.25,0.25,0.25,0.25,0.25,0.25,0.25,0.25,0.25,0.25,0.25,0.25,0.25,0.25,0.25,0.25,0.25]\n",
    "snalbmin=[0.5,0.5,0.5,0.5,0.5,0.5,0.5,0.5,0.5,0.5,0.5,0.5,0.5,0.5,0.5,0.5,0.5]\n",
    "snalbmax=[0.85,0.85,0.85,0.85,0.85,0.85,0.85,0.85,0.85,0.85,0.85,0.85,0.85,0.85,0.85,0.85,0.85]\n",
    "snalbkexp=[0.1,0.1,0.1,0.1,0.1,0.1,0.1,0.1,0.1,0.1,0.1,0.1,0.1,0.1,0.1,0.1,0.1]\n",
    "df3_row=['ttmp','cmlt','cmrad','snalbmin','snalbmax','snalbkexp']\n",
    "df3=pd.DataFrame([ttmp,cmlt,cmrad,snalbmin,snalbmax,snalbkexp], index=df3_row)"
   ]
  },
  {
   "cell_type": "code",
   "execution_count": 16,
   "id": "c4696ac6-a167-4693-af3f-2459a7afc745",
   "metadata": {},
   "outputs": [],
   "source": [
    "# create the corresponding comments\n",
    "#c3= nothing"
   ]
  },
  {
   "cell_type": "code",
   "execution_count": 17,
   "id": "1386d842-ef6a-463d-b2f7-16b151167b51",
   "metadata": {},
   "outputs": [],
   "source": [
    "# append df3\n",
    "with open(output_file, 'a') as file:\n",
    "    # Write the DataFrame to the file\n",
    "    df3.to_csv(file, sep='\\t', index=True, header=False, line_terminator='\\n')"
   ]
  },
  {
   "cell_type": "code",
   "execution_count": 18,
   "id": "b12cb867-9cac-402e-bedd-1c4a1f0f7a25",
   "metadata": {},
   "outputs": [],
   "source": [
    "s4= [\n",
    "\"\"\"!!\t-----\t\t\t\t\t\t\t\t\t\t\t\t\t\t\t\t\n",
    "!!\tGeneral and Landuse dependent fractional snow cover parameters - baseline from Rossby RCA model (Samuelsson et al 2006;Lindström et al)\t\t\t\t\t\t\t\t\t\t\t\t\t\t\t\t\n",
    "!!LUSE:\tLU1\tLU2\tLU3\tLU4\tLU5\tLU6\tLU7\tLU8\tLU9\tLU10\tLU11\tLU12\tLU13\tLU14\tLU15\tLU16\tLU17\"\"\"\n",
    "]"
   ]
  },
  {
   "cell_type": "code",
   "execution_count": 19,
   "id": "b642c145-519f-46b2-a1c3-102f6eaf0f07",
   "metadata": {},
   "outputs": [],
   "source": [
    "# write s4 in output file\n",
    "with open(output_file, 'a') as file:\n",
    "    # Write the commented lines\n",
    "    for line in s4:\n",
    "        file.write(line + '\\n')"
   ]
  },
  {
   "cell_type": "code",
   "execution_count": 20,
   "id": "dbcf8789-92ce-4668-a4f9-e35709b2879e",
   "metadata": {},
   "outputs": [],
   "source": [
    "# create df4 for LU 1-17\n",
    "fscdistmax=[0.8,0.8,0.8,0.8,0.8,0.8,0.8,0.8,0.8,0.8,0.8,0.8,0.8,0.8,0.8,0.8,0.8]\n",
    "fscdist0=[0.6,0.6,0.6,0.6,0.6,0.6,0.6,0.6,0.6,0.6,0.6,0.6,0.6,0.6,0.6,0.6,0.6]\n",
    "fscdist1=[0.001,0.001,0.001,0.001,0.001,0.001,0.001,0.001,0.001,0.001,0.001,0.001,0.001,0.001,0.001,0.001,0.001]\n",
    "df4_row=['fscdistmax','fscdist0','fscdist1']\n",
    "df4=pd.DataFrame([fscdistmax,fscdist0,fscdist1], index=df4_row)"
   ]
  },
  {
   "cell_type": "code",
   "execution_count": 21,
   "id": "ac3279c9-c40b-4033-80db-6ef405dd4d45",
   "metadata": {},
   "outputs": [],
   "source": [
    "# append df4\n",
    "with open(output_file, 'a') as file:\n",
    "    # Write the DataFrame to the file\n",
    "    df4.to_csv(file, sep='\\t', index=True, header=False, line_terminator='\\n')"
   ]
  },
  {
   "cell_type": "code",
   "execution_count": 22,
   "id": "1d9f6a5b-2579-48d4-8af7-10732e39137d",
   "metadata": {},
   "outputs": [],
   "source": [
    "# create df5\n",
    "df5_row=['fscmax','fscmin','fsclim','fsck1','fsckexp']\n",
    "df5_val=[1,0.01,0.001,0.2,0.000001]\n",
    "df5=pd.DataFrame(df5_val, index=df5_row, columns=None)"
   ]
  },
  {
   "cell_type": "code",
   "execution_count": 23,
   "id": "eef63b7f-424e-49bc-ae33-5896261789ce",
   "metadata": {},
   "outputs": [],
   "source": [
    "# create the corresponding comments\n",
    "c3 = [\n",
    "    \"!! Maximum fractional snow cover\",\n",
    "    \"!! Minimum fractional snow cove)\",\n",
    "    \"!! Threshold (below fsxmax) for switching FSC-function from Accumulation phase to Melting phase\",\n",
    "    \"!! Snowmass threshold (as fraction of current year snowmax) to start decreasing the internal snowmax variable towards the end of the melt season\",\n",
    "    \"!! Coefficient in exponential decrease of the internal Snowmax variable\",\n",
    "]"
   ]
  },
  {
   "cell_type": "code",
   "execution_count": 24,
   "id": "2d12d6e9-e913-4044-b194-2e7a29d919d1",
   "metadata": {},
   "outputs": [],
   "source": [
    "# append c3 and df5\n",
    "with open(output_file, 'a') as file:\n",
    "    # Iterate over DataFrame rows\n",
    "    for i, (index, row) in enumerate(df5.iterrows()):\n",
    "        # Check if there is a comment line for the current row\n",
    "        if i < len(c3):\n",
    "            # Write the row name, values, and comment on the same line\n",
    "            line = str(index) + '\\t' + '\\t'.join(str(val) for val in row.values) + '\\t' + c3[i] + '\\n'\n",
    "        else:\n",
    "            # Write the row name and values without comment on the same line\n",
    "            line = str(index) + '\\t' + '\\t'.join(str(val) for val in row.values) + '\\n'\n",
    "        \n",
    "        # Write the line to the file\n",
    "        file.write(line)"
   ]
  },
  {
   "cell_type": "code",
   "execution_count": 25,
   "id": "7f4c85bb-11e8-439b-b90e-5c0f91b00532",
   "metadata": {},
   "outputs": [],
   "source": [
    "# create s5\n",
    "s5= [\n",
    "\"\"\"!!\t=======================================================================================================\t\t\t\t\t\t\t\t\t\t\t\t\t\t\t\t\n",
    "!!\t\"GLACIER - parameters for volume-area scaling, accumulation and melt (sublimation sorted under Evapotranspiration)\"\t\t\t\t\t\t\t\t\t\t\t\t\t\t\t\t\n",
    "!!\t-----\t\t\t\t\t\t\t\t\t\t\t\t\t\t\t\t\n",
    "!!\tGlacier volume-area scaling\t\"\"\"\n",
    "]"
   ]
  },
  {
   "cell_type": "code",
   "execution_count": 26,
   "id": "67731fde-db62-4fc2-935f-65c96c5dfbca",
   "metadata": {},
   "outputs": [],
   "source": [
    "# write s5 in output file\n",
    "with open(output_file, 'a') as file:\n",
    "    # Write the commented lines\n",
    "    for line in s5:\n",
    "        file.write(line + '\\n')"
   ]
  },
  {
   "cell_type": "code",
   "execution_count": 27,
   "id": "6ab7e463-69b7-4d5e-96df-22739e7fbe6b",
   "metadata": {},
   "outputs": [],
   "source": [
    "# create df6\n",
    "df6_row=['glacvexp','glacvcoef','glacvexp1','glacvcoef1','glac2arlim','glacannmb']\n",
    "df6_val=[1.4,0.2,1.25,3,25000000,0]\n",
    "df6=pd.DataFrame(df6_val, index=df6_row, columns=None)"
   ]
  },
  {
   "cell_type": "code",
   "execution_count": 28,
   "id": "2ae3711c-7f6a-4380-b286-25282fab7d34",
   "metadata": {},
   "outputs": [],
   "source": [
    "# create the corresponding comments\n",
    "c4 = [\n",
    "    \"!! exponent for glaciers, should be considered a global constan\",\n",
    "    \"!! linear coef for glaciers, calibrated offline as described above\",\n",
    "    \"!! exponent for ice caps, should be considered a global constant\",\n",
    "    \"!! linear coef for ice caps, calibrated offline as described above\",\n",
    "    \"!! area threshold which is used only if glacier type is given in GlacierData.txt (as in this case)\",\n",
    "    \"!! annual mass balance (mm/year) used for modifying initial glacier volume, depending on the age of SLC information (glacdate in glacierdata) and start of simulation\",\n",
    "]"
   ]
  },
  {
   "cell_type": "code",
   "execution_count": 29,
   "id": "94b20a20-5218-4bf4-9048-5a41326d3ab4",
   "metadata": {},
   "outputs": [],
   "source": [
    "# append c4 and df6\n",
    "with open(output_file, 'a') as file:\n",
    "    # Iterate over DataFrame rows\n",
    "    for i, (index, row) in enumerate(df6.iterrows()):\n",
    "        # Check if there is a comment line for the current row\n",
    "        if i < len(c4):\n",
    "            # Write the row name, values, and comment on the same line\n",
    "            line = str(index) + '\\t' + '\\t'.join(str(val) for val in row.values) + '\\t' + c4[i] + '\\n'\n",
    "        else:\n",
    "            # Write the row name and values without comment on the same line\n",
    "            line = str(index) + '\\t' + '\\t'.join(str(val) for val in row.values) + '\\n'\n",
    "        \n",
    "        # Write the line to the file\n",
    "        file.write(line)"
   ]
  },
  {
   "cell_type": "code",
   "execution_count": 30,
   "id": "6f925513-5fda-4085-9ace-ffb9c73135e8",
   "metadata": {},
   "outputs": [],
   "source": [
    "# create s6\n",
    "s6= [\n",
    "\"\"\"!!\t-----\t\t\t\t\t\t\t\t\t\t\t\t\t\t\t\t\n",
    "!!\tGlacier melt parameters\t\t\t\t\t\t\t\t\t\t\t\t\t\t\t\t\n",
    "!!\t----\t\t\t\t\t\t\t\t\t\t\t\t\t\t\t\t\"\"\"\n",
    "]"
   ]
  },
  {
   "cell_type": "code",
   "execution_count": 31,
   "id": "dcc22abb-ed56-46cd-a4d0-a9d0311d9c13",
   "metadata": {},
   "outputs": [],
   "source": [
    "# write s6 in output file\n",
    "with open(output_file, 'a') as file:\n",
    "    # Write the commented lines\n",
    "    for line in s6:\n",
    "        file.write(line + '\\n')"
   ]
  },
  {
   "cell_type": "code",
   "execution_count": 32,
   "id": "d792dc29-5a7e-4398-a893-8a92528cb6d4",
   "metadata": {},
   "outputs": [],
   "source": [
    "# create df7\n",
    "df7_row=['glacttmp','glaccmlt','glaccmrad','glaccmrefr','glacalb']\n",
    "df7_val=[0,2,0.2,0.01,0.35]\n",
    "df7=pd.DataFrame(df7_val, index=df7_row, columns=None)"
   ]
  },
  {
   "cell_type": "code",
   "execution_count": 33,
   "id": "49c27254-c1f8-458a-9360-2309abc3130d",
   "metadata": {},
   "outputs": [],
   "source": [
    "# append df7\n",
    "with open(output_file, 'a') as file:\n",
    "    # Write the DataFrame to the file\n",
    "    df7.to_csv(file, sep='\\t', index=True, header=False, line_terminator='\\n')"
   ]
  },
  {
   "cell_type": "code",
   "execution_count": 34,
   "id": "0e8df88f-80ea-4015-8d08-54c1f61d8f75",
   "metadata": {},
   "outputs": [],
   "source": [
    "# create s7\n",
    "s7= [\n",
    "\"\"\"!!\t=======================================================================================================\t\t\t\t\t\t\t\t\t\t\t\t\t\t\t\t\n",
    "!!\tEVAPOTRANSPIRATION PARAMETERS\t\t\t\t\t\t\t\t\t\t\t\t\t\t\t\t\n",
    "!!\t-----\t\t\t\t\t\t\t\t\t\t\t\t\t\t\t\t\n",
    "!!\tGeneral evapotranspiration parameters\t\t\t\t\t\t\t\t\t\t\t\t\t\t\t\t\"\"\"\n",
    "]"
   ]
  },
  {
   "cell_type": "code",
   "execution_count": 35,
   "id": "08d76dd1-83b1-46c1-aa9b-ad9b9a66cdb2",
   "metadata": {},
   "outputs": [],
   "source": [
    "# write s7 in output file\n",
    "with open(output_file, 'a') as file:\n",
    "    # Write the commented lines\n",
    "    for line in s7:\n",
    "        file.write(line + '\\n')"
   ]
  },
  {
   "cell_type": "code",
   "execution_count": 36,
   "id": "87378426-e622-44d4-9cc9-116bc177ede9",
   "metadata": {},
   "outputs": [],
   "source": [
    "# create df8\n",
    "df8_row=['lp','epotdist','krs','fepotglac','jhtadd','jhtscale']\n",
    "df8_val=[0.5,6,0.2,0,5,100]\n",
    "df8=pd.DataFrame(df8_val, index=df8_row, columns=None)"
   ]
  },
  {
   "cell_type": "code",
   "execution_count": 37,
   "id": "38d4a72d-de4f-450b-8454-c1ce530bf7cd",
   "metadata": {},
   "outputs": [],
   "source": [
    "# create the corresponding comments\n",
    "c5 = [\n",
    "    \"!! Threshold for water content reduction of transpiration (fraction of field capacity) - baseline value from SHYPE because its more realistic with a value slightly below field capacity\",\n",
    "    \"!! Coefficient in exponential function for potential evapotranspiration's depth dependency - baseline from EHYPE and/or SHYPE (very similar)\",\n",
    "    \"!! Hargreaves Turbidity parameter - baseline value from FAO recommendation for inland conditions\",\n",
    "    \"!! Fraction of potential evapotranspiration used for Glacier subimation\",\n",
    "]"
   ]
  },
  {
   "cell_type": "code",
   "execution_count": 38,
   "id": "20687ff6-a858-462a-86cc-e8255acd74b1",
   "metadata": {},
   "outputs": [],
   "source": [
    "# append c5 and df8\n",
    "with open(output_file, 'a') as file:\n",
    "    # Iterate over DataFrame rows\n",
    "    for i, (index, row) in enumerate(df8.iterrows()):\n",
    "        # Check if there is a comment line for the current row\n",
    "        if i < len(c5):\n",
    "            # Write the row name, values, and comment on the same line\n",
    "            line = str(index) + '\\t' + '\\t'.join(str(val) for val in row.values) + '\\t' + c5[i] + '\\n'\n",
    "        else:\n",
    "            # Write the row name and values without comment on the same line\n",
    "            line = str(index) + '\\t' + '\\t'.join(str(val) for val in row.values) + '\\n'\n",
    "        \n",
    "        # Write the line to the file\n",
    "        file.write(line)"
   ]
  },
  {
   "cell_type": "code",
   "execution_count": 39,
   "id": "90d43e45-1792-45dc-93c8-3ed56933cd29",
   "metadata": {},
   "outputs": [],
   "source": [
    "# create s8\n",
    "s8= [\n",
    "\"\"\"!!\t-----\t\t\t\t\t\t\t\t\t\t\t\t\t\t\t\t\n",
    "!!\t\t\t\t\t\t\t\t\t\t\t\t\t\t\t\t\t\n",
    "!!LUSE:\tLU1\tLU2\tLU3\tLU4\tLU5\tLU6\tLU7\tLU8\tLU9\tLU10\tLU11\tLU12\tLU13\tLU14\tLU15\tLU16\tLU17\"\"\"\n",
    "]"
   ]
  },
  {
   "cell_type": "code",
   "execution_count": 40,
   "id": "24171ea6-746d-47f0-bb80-3bafb7242cfd",
   "metadata": {},
   "outputs": [],
   "source": [
    "# write s8 in output file\n",
    "with open(output_file, 'a') as file:\n",
    "    # Write the commented lines\n",
    "    for line in s8:\n",
    "        file.write(line + '\\n')"
   ]
  },
  {
   "cell_type": "code",
   "execution_count": 41,
   "id": "4e88d30c-fe70-4bea-87dd-47df2a15d5d9",
   "metadata": {},
   "outputs": [],
   "source": [
    "# create df9 for LU 1-17\n",
    "kc3=[1,1,1,1,1,1,1,1,1,1,1,1,1,1,1,1,1]\n",
    "alb=[0.6,0.6,0.6,0.6,0.6,0.6,0.6,0.6,0.6,0.6,0.6,0.6,0.6,0.6,0.6,0.6,0.6]\n",
    "ttrig=[0,0,0,0,0,0,0,0,0,0,0,0,0,0,0,0,0]\n",
    "treda=[0.8,0.8,0.8,0.8,0.8,0.8,0.8,0.8,0.8,0.8,0.8,0.8,0.8,0.8,0.8,0.8,0.8]\n",
    "tredb=[0.4,0.4,0.4,0.4,0.4,0.4,0.4,0.4,0.4,0.4,0.4,0.4,0.4,0.4,0.4,0.4,0.4]\n",
    "df9_row=['kc3','alb','ttrig','treda','tredb']\n",
    "df9=pd.DataFrame([kc3,alb,ttrig,treda,tredb], index=df9_row)"
   ]
  },
  {
   "cell_type": "code",
   "execution_count": 42,
   "id": "7d6347aa-2e66-46ec-a10c-0682b498f648",
   "metadata": {},
   "outputs": [],
   "source": [
    "# append df9\n",
    "with open(output_file, 'a') as file:\n",
    "    # Write the DataFrame to the file\n",
    "    df9.to_csv(file, sep='\\t', index=True, header=False, line_terminator='\\n')"
   ]
  },
  {
   "cell_type": "code",
   "execution_count": 43,
   "id": "11f6da75-e73a-4b35-b62d-f67deebef512",
   "metadata": {},
   "outputs": [],
   "source": [
    "# create s9\n",
    "s9= [\n",
    "\"\"\"!! cevp\t0.22\t0.22\t1.6\t1.9\t0.17\t0.17\t0.17\t0.17\t0.17\t0.1\t0.21\t0.07\t0.07\t0.07\t0.07\t0.07\t0.07\"\"\"\n",
    "]"
   ]
  },
  {
   "cell_type": "code",
   "execution_count": 44,
   "id": "42256d0f-6923-4d2c-9f63-55f7ca8ec4ed",
   "metadata": {},
   "outputs": [],
   "source": [
    "# write s9 in output file\n",
    "with open(output_file, 'a') as file:\n",
    "    # Write the commented lines\n",
    "    for line in s9:\n",
    "        file.write(line + '\\n')"
   ]
  },
  {
   "cell_type": "code",
   "execution_count": 45,
   "id": "49274f40-83cb-4033-8d8a-a771035e3ca1",
   "metadata": {},
   "outputs": [],
   "source": [
    "# create df10 for LU 1-17\n",
    "fepotsnow=[0.5,0.5,0.5,0.5,0.5,0.5,0.5,0.5,0.5,0.5,0.5,0.5,0.5,0.5,0.5,0.5,0.5]\n",
    "df10_row=['fepotsnow']\n",
    "df10=pd.DataFrame([fepotsnow], index=df10_row)"
   ]
  },
  {
   "cell_type": "code",
   "execution_count": 46,
   "id": "4d5a6347-1c1e-4a67-b5ad-b173d3d67c41",
   "metadata": {},
   "outputs": [],
   "source": [
    "# append df10\n",
    "with open(output_file, 'a') as file:\n",
    "    # Write the DataFrame to the file\n",
    "    df10.to_csv(file, sep='\\t', index=True, header=False, line_terminator='\\n')"
   ]
  },
  {
   "cell_type": "code",
   "execution_count": 47,
   "id": "3e5795ba-af38-4591-82c9-ad4ff46196d0",
   "metadata": {},
   "outputs": [],
   "source": [
    "# create s10\n",
    "s10= [\n",
    "\"\"\"!!\t\t\t\t\t\t\t\t\t\t\t\t\t\t\t\t\t\n",
    "!! Frozen soil infiltration parameters\t\t\t\t\t\t\t\t\t\t\t\t\t\t\t\t\t\n",
    "!! SOIL:\tS1\tS2\tS3\tS4\tS5\tS6\tS7\tS8\tS9\tS10\tS11\tS12\t\t\t\t\t\"\"\"\n",
    "]"
   ]
  },
  {
   "cell_type": "code",
   "execution_count": 48,
   "id": "8465b878-773f-4bdb-9128-25e1d8f04965",
   "metadata": {},
   "outputs": [],
   "source": [
    "# write s10 in output file\n",
    "with open(output_file, 'a') as file:\n",
    "    # Write the commented lines\n",
    "    for line in s10:\n",
    "        file.write(line + '\\n')"
   ]
  },
  {
   "cell_type": "code",
   "execution_count": 49,
   "id": "931d6289-01d7-4ab6-9126-5e28bb61ae87",
   "metadata": {},
   "outputs": [],
   "source": [
    "# create df11 for S1-12\n",
    "bfroznsoil=[2.1,2.1,2.1,2.1,2.1,2.1,2.1,2.1,2.1,2.1,2.1,2.1]\n",
    "logsatmp=[1,1,1,1,1,1,1,1,1,1,1,1]\n",
    "bcosby=[5,5,5,5,5,5,5,5,5,5,5,5]\n",
    "df11_row=['bfroznsoil','logsatmp','bcosby']\n",
    "df11=pd.DataFrame([bfroznsoil,logsatmp,bcosby], index=df11_row)"
   ]
  },
  {
   "cell_type": "code",
   "execution_count": 50,
   "id": "eaf24d7f-e993-4737-88cd-755cc0f779a9",
   "metadata": {},
   "outputs": [],
   "source": [
    "# append df11\n",
    "with open(output_file, 'a') as file:\n",
    "    # Write the DataFrame to the file\n",
    "    df11.to_csv(file, sep='\\t', index=True, header=False, line_terminator='\\n')"
   ]
  },
  {
   "cell_type": "code",
   "execution_count": 51,
   "id": "aedff227-aa29-4672-99ef-a34e0612bd9f",
   "metadata": {},
   "outputs": [],
   "source": [
    "# create s11\n",
    "s11= [\n",
    "\"\"\"!!\t=======================================================================================================\t\t\t\t\t\t\t\t\t\t\t\t\t\t\t\t\n",
    "!!\t\"SOIL/LAND HYDRAULIC RESPONSE PARAMETERS - recession coef., water retention, infiltration, macropore, surface runoff; etc.\"\t\t\t\t\t\t\t\t\t\t\t\t\t\t\t\t\n",
    "!!\t-----\t\t\t\t\t\t\t\t\t\t\t\t\t\t\t\t\n",
    "!!\tSoil-class parameters\t\t\t\t\t\t\t\t\t\t\t\t\t\t\t\t\n",
    "!!\tS1\tS2\tS3\tS4\tS5\tS6\tS7\tS8\tS9\tS10\tS11\tS12\t\t\t\t\t\"\"\"\n",
    "]"
   ]
  },
  {
   "cell_type": "code",
   "execution_count": 52,
   "id": "641bd8df-7e77-4241-96aa-94c3d81793f4",
   "metadata": {},
   "outputs": [],
   "source": [
    "# write s11 in output file\n",
    "with open(output_file, 'a') as file:\n",
    "    # Write the commented lines\n",
    "    for line in s11:\n",
    "        file.write(line + '\\n')"
   ]
  },
  {
   "cell_type": "code",
   "execution_count": 53,
   "id": "6be2e0d3-e496-4c2d-bfab-8f305cc16d5b",
   "metadata": {},
   "outputs": [],
   "source": [
    "# create df12 for S1-12\n",
    "rrcs1=[0.4,0.4,0.4,0.4,0.4,0.4,0.4,0.4,0.4,0.4,0.4,0.4]\n",
    "rrcs2=[0.2,0.2,0.2,0.2,0.2,0.2,0.2,0.2,0.2,0.2,0.2,0.2]\n",
    "rrcs3=[0.2]\n",
    "trrcs=[0.15,0.15,0.15,0.15,0.15,0.15,0.15,0.15,0.15,0.15,0.15,0.15]\n",
    "mperc1=[40,40,40,40,40,40,40,40,40,40,40,40,40,40,40,40,40]\n",
    "mperc2=[12,12,12,12,12,12,12,12,12,12,12,12,12,12,12,12,12]\n",
    "sfrost=[1,1,1,1,1,1,1,1,1,1,1,1,1,1,1,1,1]\n",
    "srrate=[0.5,0.5,0.5,0.5,0.5,0.5,0.5,0.5,0.5,0.5,0.5,0.5]\n",
    "wcwp1=[0.3,0.3,0.3,0.3,0.3,0.3,0.3,0.3,0.3,0.3,0.3,0.3]\n",
    "wcwp2=[0.3,0.3,0.3,0.3,0.3,0.3,0.3,0.3,0.3,0.3,0.3,0.3]\n",
    "wcwp3=[0.3,0.3,0.3,0.3,0.3,0.3,0.3,0.3,0.3,0.3,0.3,0.3]\n",
    "wcfc1=[0.3,0.3,0.3,0.3,0.3,0.3,0.3,0.3,0.3,0.3,0.3,0.3]\n",
    "wcfc2=[0.3,0.3,0.3,0.3,0.3,0.3,0.3,0.3,0.3,0.3,0.3,0.3]\n",
    "wcfc3=[0.3,0.3,0.3,0.3,0.3,0.3,0.3,0.3,0.3,0.3,0.3,0.3]\n",
    "wcep1=[0.3,0.3,0.3,0.3,0.3,0.3,0.3,0.3,0.3,0.3,0.3,0.3]\n",
    "wcep2=[0.3,0.3,0.3,0.3,0.3,0.3,0.3,0.3,0.3,0.3,0.3,0.3]\n",
    "wcep3=[0.3,0.3,0.3,0.3,0.3,0.3,0.3,0.3,0.3,0.3,0.3,0.3]\n",
    "df12_row=['rrcs1','rrcs2','rrcs3','treda','mperc1','mperc2','sfrost','srrate','wcwp1','wcwp2','wcwp3',\n",
    "         'wcfc1','wcfc2','wcfc3','wcep1','wcep2','wcep3']\n",
    "df12=pd.DataFrame([rrcs1,rrcs2,rrcs3,treda,mperc1,mperc2,sfrost,srrate,wcwp1,wcwp2,wcwp3,wcfc1,\n",
    "                  wcfc2,wcfc3,wcep1,wcep2,wcep3], index=df12_row)"
   ]
  },
  {
   "cell_type": "code",
   "execution_count": 54,
   "id": "cc3fb7d2-1099-447c-b9c8-5f9a00c32f98",
   "metadata": {},
   "outputs": [],
   "source": [
    "# append df12\n",
    "with open(output_file, 'a') as file:\n",
    "    # Write the DataFrame to the file\n",
    "    df12.to_csv(file, sep='\\t', index=True, header=False, line_terminator='\\n')"
   ]
  },
  {
   "cell_type": "code",
   "execution_count": 55,
   "id": "1634536b-3f5d-43bb-a91a-4705fbb85915",
   "metadata": {},
   "outputs": [],
   "source": [
    "# create s12\n",
    "s12= [\n",
    "\"\"\"!!\\\\\t-----\t\t\t\t\t\t\t\t\t\t\t\t\t\t\t\t\n",
    "!!\tLanduse-class parameters\tparameters\t\t\t\t\t\t\t\t\t\t\t\t\t\t\t\n",
    "!!LUSE:\tLU1\tLU2\tLU3\tLU4\tLU5\tLU6\tLU7\tLU8\tLU9\tLU10\tLU11\tLU12\tLU13\tLU14\tLU15\tLU16\tLU17\"\"\"\n",
    "]"
   ]
  },
  {
   "cell_type": "code",
   "execution_count": 56,
   "id": "718764e5-18fb-4d71-a455-1f689bbf3758",
   "metadata": {},
   "outputs": [],
   "source": [
    "# write s12 in output file\n",
    "with open(output_file, 'a') as file:\n",
    "    # Write the commented lines\n",
    "    for line in s12:\n",
    "        file.write(line + '\\n')"
   ]
  },
  {
   "cell_type": "code",
   "execution_count": 57,
   "id": "1b6dc8e6-83e4-4a85-9304-ad5184e41105",
   "metadata": {},
   "outputs": [],
   "source": [
    "# create df13 for S1-12\n",
    "srrcs=[0.1,0.1,0.1,0.1,0.1,0.1,0.1,0.1,0.1,0.1,0.1,0.1,0.1,0.1,0.1,0.1,0.1]\n",
    "df13_row=['srrcs']\n",
    "df13=pd.DataFrame([srrcs], index=df13_row)"
   ]
  },
  {
   "cell_type": "code",
   "execution_count": 58,
   "id": "c7e63850-3586-4151-9d18-93303b588055",
   "metadata": {},
   "outputs": [],
   "source": [
    "# append df13\n",
    "with open(output_file, 'a') as file:\n",
    "    # Write the DataFrame to the file\n",
    "    df13.to_csv(file, sep='\\t', index=True, header=False, line_terminator='\\n')"
   ]
  },
  {
   "cell_type": "code",
   "execution_count": 59,
   "id": "53f3cb7e-16fb-4e80-8f90-c030643c2252",
   "metadata": {},
   "outputs": [],
   "source": [
    "# create s13\n",
    "s13= [\n",
    "\"\"\"!!\t-----\t\t\t\t\t\t\t\t\t\t\t\t\t\t\t\t\n",
    "!!\tRegional groundwater outflow\t\t\t\t\t\t\t\t\t\t\t\t\t\t\t\t\"\"\"\n",
    "]"
   ]
  },
  {
   "cell_type": "code",
   "execution_count": 60,
   "id": "1f7475f2-5448-4c31-b531-b5d06369b3b1",
   "metadata": {},
   "outputs": [],
   "source": [
    "# write s13 in output file\n",
    "with open(output_file, 'a') as file:\n",
    "    # Write the commented lines\n",
    "    for line in s13:\n",
    "        file.write(line + '\\n')"
   ]
  },
  {
   "cell_type": "code",
   "execution_count": 61,
   "id": "70d48515-1545-422d-bbc9-45b382beee1e",
   "metadata": {},
   "outputs": [],
   "source": [
    "# create df14\n",
    "df14_row=['rcgrw']\n",
    "df14_val=[0]\n",
    "df14=pd.DataFrame(df14_val, index=df14_row, columns=None)"
   ]
  },
  {
   "cell_type": "code",
   "execution_count": 62,
   "id": "eccba46e-489b-4800-8aca-43ed02b545aa",
   "metadata": {},
   "outputs": [],
   "source": [
    "# create the corresponding comments\n",
    "c6 = [\n",
    "    \"!! recession coefficient for regional groundwater outflow from soil layers\",\n",
    "]"
   ]
  },
  {
   "cell_type": "code",
   "execution_count": 63,
   "id": "ed3caa6f-ca29-4c2b-bf09-99d5460cfff0",
   "metadata": {},
   "outputs": [],
   "source": [
    "# append c6 and df14\n",
    "with open(output_file, 'a') as file:\n",
    "    # Iterate over DataFrame rows\n",
    "    for i, (index, row) in enumerate(df14.iterrows()):\n",
    "        # Check if there is a comment line for the current row\n",
    "        if i < len(c6):\n",
    "            # Write the row name, values, and comment on the same line\n",
    "            line = str(index) + '\\t' + '\\t'.join(str(val) for val in row.values) + '\\t' + c6[i] + '\\n'\n",
    "        else:\n",
    "            # Write the row name and values without comment on the same line\n",
    "            line = str(index) + '\\t' + '\\t'.join(str(val) for val in row.values) + '\\n'\n",
    "        \n",
    "        # Write the line to the file\n",
    "        file.write(line)"
   ]
  },
  {
   "cell_type": "code",
   "execution_count": 64,
   "id": "d25a5e42-9437-420f-9209-417cfd5d0d29",
   "metadata": {},
   "outputs": [],
   "source": [
    "# create s14\n",
    "s14= [\n",
    "\"\"\"!!\t=======================================================================================================\t\t\t\t\t\t\t\t\t\t\t\t\t\t\t\t\n",
    "!!\tSOIL TEMPERATURE AND SOIL FROST DEPT\t\t\t\t\t\t\t\t\t\t\t\t\t\t\t\t\n",
    "!!\t-----\t\t\t\t\t\t\t\t\t\t\t\t\t\t\t\t\n",
    "!!\tGeneral\t\t\"\"\"\n",
    "]"
   ]
  },
  {
   "cell_type": "code",
   "execution_count": 65,
   "id": "89bd8bce-bc1d-4b40-a93c-d4227531e82e",
   "metadata": {},
   "outputs": [],
   "source": [
    "# write s14 in output file\n",
    "with open(output_file, 'a') as file:\n",
    "    # Write the commented lines\n",
    "    for line in s14:\n",
    "        file.write(line + '\\n')"
   ]
  },
  {
   "cell_type": "code",
   "execution_count": 66,
   "id": "231337b4-e55e-49f9-a93f-033e8fd37e45",
   "metadata": {},
   "outputs": [],
   "source": [
    "# create df15\n",
    "df15_row=['deepmem']\n",
    "df15_val=[1000]\n",
    "df15=pd.DataFrame(df15_val, index=df15_row, columns=None)"
   ]
  },
  {
   "cell_type": "code",
   "execution_count": 67,
   "id": "b56bc203-5f0d-4e9f-a267-d1b1d6cd599f",
   "metadata": {},
   "outputs": [],
   "source": [
    "# create the corresponding comments\n",
    "c7 = [\n",
    "    \"!! temperature memory of deep soil (days)\",\n",
    "]"
   ]
  },
  {
   "cell_type": "code",
   "execution_count": 68,
   "id": "819b8f1f-f907-4549-9c54-ea2e395f21de",
   "metadata": {},
   "outputs": [],
   "source": [
    "# append c7 and df15\n",
    "with open(output_file, 'a') as file:\n",
    "    # Iterate over DataFrame rows\n",
    "    for i, (index, row) in enumerate(df15.iterrows()):\n",
    "        # Check if there is a comment line for the current row\n",
    "        if i < len(c7):\n",
    "            # Write the row name, values, and comment on the same line\n",
    "            line = str(index) + '\\t' + '\\t'.join(str(val) for val in row.values) + '\\t' + c7[i] + '\\n'\n",
    "        else:\n",
    "            # Write the row name and values without comment on the same line\n",
    "            line = str(index) + '\\t' + '\\t'.join(str(val) for val in row.values) + '\\n'\n",
    "        \n",
    "        # Write the line to the file\n",
    "        file.write(line)"
   ]
  },
  {
   "cell_type": "code",
   "execution_count": 69,
   "id": "dd15160a-49fa-4515-afd5-574bd6256031",
   "metadata": {},
   "outputs": [],
   "source": [
    "# create s15\n",
    "s15= [\n",
    "\"\"\"!!iniT2\t0\t\"!! (error, doesnt read??!!) starting value in soil, concentration T2 - temperature (also for lake and river water T2 concentration)\"\t\t\t\t\t\t\t\t\t\t\t\t\t\t\t\n",
    "!!-----\t\t\t\t\t\t\t\t\t\t\t\t\t\t\t\t\t\n",
    "!!LUSE:\tLU1\tLU2\tLU3\tLU4\tLU5\tLU6\tLU7\tLU8\tLU9\tLU10\tLU11\tLU12\tLU13\tLU14\tLU15\tLU16\tLU17\"\"\"\n",
    "]"
   ]
  },
  {
   "cell_type": "code",
   "execution_count": 70,
   "id": "aa1ffed5-2567-49dd-95c0-04b63302953f",
   "metadata": {},
   "outputs": [],
   "source": [
    "# write s15 in output file\n",
    "with open(output_file, 'a') as file:\n",
    "    # Write the commented lines\n",
    "    for line in s15:\n",
    "        file.write(line + '\\n')"
   ]
  },
  {
   "cell_type": "code",
   "execution_count": 71,
   "id": "ce9450ca-2333-4eb0-8fbc-759e54caf6c6",
   "metadata": {},
   "outputs": [],
   "source": [
    "# create df16 for LU 1-17\n",
    "surfmem=[10,10,10,10,10,10,10,10,10,10,10,10,10,10,10,10,10]\n",
    "depthrel=[1,1,1,1,1,1,1,1,1,1,1,1,1,1,1,1,1]\n",
    "frost=[2,2,2,2,2,2,2,2,2,2,2,2,2,2,2,2,2]\n",
    "df16_row=['surfmem','depthrel','frost']\n",
    "df16=pd.DataFrame([surfmem,depthrel,frost], index=df16_row)"
   ]
  },
  {
   "cell_type": "code",
   "execution_count": 72,
   "id": "86378c5a-7ea8-4a10-a673-ea85fb5d4266",
   "metadata": {},
   "outputs": [],
   "source": [
    "# append df16\n",
    "with open(output_file, 'a') as file:\n",
    "    # Write the DataFrame to the file\n",
    "    df16.to_csv(file, sep='\\t', index=True, header=False, line_terminator='\\n')"
   ]
  },
  {
   "cell_type": "code",
   "execution_count": 73,
   "id": "a2c10d25-cd93-44b2-bcd8-327fb6703665",
   "metadata": {},
   "outputs": [],
   "source": [
    "# create s16\n",
    "s16= [\n",
    "\"\"\"!!\t-----\t\t\t\t\t\t\t\t\t\t\t\t\t\t\t\t\n",
    "!!\t=======================================================================================================\t\t\t\t\t\t\t\t\t\t\t\t\t\t\t\t\n",
    "!!\tLAKE DISCHARGE\t\t\t\t\t\t\t\t\t\t\t\t\t\t\t\t\n",
    "!!\t-----\t\t\t\"\"\"\n",
    "]"
   ]
  },
  {
   "cell_type": "code",
   "execution_count": 74,
   "id": "3768ee52-1eae-4467-b367-bc36c0be3a16",
   "metadata": {},
   "outputs": [],
   "source": [
    "# write s16 in output file\n",
    "with open(output_file, 'a') as file:\n",
    "    # Write the commented lines\n",
    "    for line in s16:\n",
    "        file.write(line + '\\n')"
   ]
  },
  {
   "cell_type": "code",
   "execution_count": 75,
   "id": "a73263e8-437d-4311-8965-6b2285ca1512",
   "metadata": {},
   "outputs": [],
   "source": [
    "# create df17\n",
    "df17_row=['gldepi','gldepo','gicatch','gratp','gratk','grata','limqprod']\n",
    "df17_val=[5,15,1,4,30,0.3,0.25]\n",
    "df17=pd.DataFrame(df17_val, index=df17_row, columns=None)"
   ]
  },
  {
   "cell_type": "code",
   "execution_count": 76,
   "id": "01d17770-2c99-4346-874e-e01294fb8e6a",
   "metadata": {},
   "outputs": [],
   "source": [
    "# create the corresponding comments\n",
    "c8 = [\n",
    "    \"!! General ilake depth [m] (used for ilakes without ilakeregion ilrldep parameter)\",\n",
    "    \"!! General olake depth [m] (used for olakes without olakeregion olrldep parameter or lake_depth from geodata/lakedata/damdata)\",\n",
    "    \"!! General ilakecatch [-] (used for ilake if not set in geodata or ilakeregion ilricatch)\",\n",
    "    \"!! discharge curve for lake (general) Q=gratk(w-wO)gratp\",\n",
    "    \"!! discharge curve for lake (general) Q=gratk(w-wO)gratp\",\n",
    "    \"!! upstream area dependence of discharge curve for lake (general), if >O, Q=(gratk*(uparea)grata)*(w-wO)gratp\",\n",
    "    \"!! limit for water stage with reduced production flow from dam (fraction of regulating volume)\"\n",
    "]"
   ]
  },
  {
   "cell_type": "code",
   "execution_count": 77,
   "id": "9bbe14ea-7871-4761-99e3-bdf05def1d86",
   "metadata": {},
   "outputs": [],
   "source": [
    "# append c8 and df17\n",
    "with open(output_file, 'a') as file:\n",
    "    # Iterate over DataFrame rows\n",
    "    for i, (index, row) in enumerate(df17.iterrows()):\n",
    "        # Check if there is a comment line for the current row\n",
    "        if i < len(c8):\n",
    "            # Write the row name, values, and comment on the same line\n",
    "            line = str(index) + '\\t' + '\\t'.join(str(val) for val in row.values) + '\\t' + c8[i] + '\\n'\n",
    "        else:\n",
    "            # Write the row name and values without comment on the same line\n",
    "            line = str(index) + '\\t' + '\\t'.join(str(val) for val in row.values) + '\\n'\n",
    "        \n",
    "        # Write the line to the file\n",
    "        file.write(line)"
   ]
  },
  {
   "cell_type": "code",
   "execution_count": 78,
   "id": "6f86cf13-d463-4d15-a82c-ce30600a522b",
   "metadata": {},
   "outputs": [],
   "source": [
    "# create s17\n",
    "s17= [\n",
    "\"\"\"!!\t-----\t\t\t\t\t\t\t\t\t\t\t\t\t\t\t\t\n",
    "!!\t\"ILAKE and OLAKE REGIONAL PARAMETERS (10 ilakeregions and 5 olakeregions, defined in geodata)\"\t\t\t\t\t\t\t\t\t\t\t\t\t\t\t\t\n",
    "!!\tILAKE parameters\t\t\t\t\t\t\t\t\t\t\t\t\t\t\t\t\n",
    "!!\tPPR (Prairie Pothole Region - regions 1:5) & Reg (non-prairie region 6:10)\t\t\t\t\t\t\t\t\t\t\t\t\t\t\t\t\n",
    "!! ilRegion\tPPR 1\tPPR 2\tPPR 3\tPPR 4\tPPR 5\tReg 6\tReg 7\tReg 8\tReg 9\tReg 10\"\"\"\n",
    "]"
   ]
  },
  {
   "cell_type": "code",
   "execution_count": 79,
   "id": "4084b2f1-f3a3-4405-9286-d4a289f69e56",
   "metadata": {},
   "outputs": [],
   "source": [
    "# write s17 in output file\n",
    "with open(output_file, 'a') as file:\n",
    "    # Write the commented lines\n",
    "    for line in s17:\n",
    "        file.write(line + '\\n')"
   ]
  },
  {
   "cell_type": "code",
   "execution_count": 114,
   "id": "f782a8aa-c0c5-43ba-870f-4d22f84af26a",
   "metadata": {},
   "outputs": [],
   "source": [
    "# create df18 for PPR 1-10\n",
    "ilratk=[50,50,50,50,50,50,50,50,50,50]\n",
    "ilratp=[2,2,2,2,2,2,2,2,2,2]\n",
    "illdepth=[5,5,5,5,5,5,5,5,5,5]\n",
    "ilicatch=[0.5,0.5,0.5,0.5,0.5,0.5,0.5,0.5,0.5,0.5]\n",
    "df18_row=['ilratk','ilratp','illdepth','ilicatch']\n",
    "df18=pd.DataFrame([ilratk,ilratp,illdepth,ilicatch], index=df18_row)"
   ]
  },
  {
   "cell_type": "code",
   "execution_count": 81,
   "id": "c5ee0e92-860d-40b1-ac16-922097ca154b",
   "metadata": {},
   "outputs": [],
   "source": [
    "# append df18\n",
    "with open(output_file, 'a') as file:\n",
    "    # Write the DataFrame to the file\n",
    "    df18.to_csv(file, sep='\\t', index=True, header=False, line_terminator='\\n')"
   ]
  },
  {
   "cell_type": "code",
   "execution_count": 82,
   "id": "94cd65ff-0975-4af3-b134-de228447e8de",
   "metadata": {},
   "outputs": [],
   "source": [
    "# create s18\n",
    "s18= [\n",
    "\"\"\"!! \tOLAKE parameters\t\t\t\t\t\t\t\t\t\t\t\t\t\t\t\t\n",
    "!! Olregion\tolregion 1\tolregion 2\tolregion 3\tolregion 4\tolregion 5\t\t\t\"\"\"\n",
    "]"
   ]
  },
  {
   "cell_type": "code",
   "execution_count": 83,
   "id": "43048cc1-c999-4ffe-91ae-3df869e8f067",
   "metadata": {},
   "outputs": [],
   "source": [
    "# write s18 in output file\n",
    "with open(output_file, 'a') as file:\n",
    "    # Write the commented lines\n",
    "    for line in s18:\n",
    "        file.write(line + '\\n')"
   ]
  },
  {
   "cell_type": "code",
   "execution_count": 84,
   "id": "34fd801e-ec0d-4177-958f-bd4aa0eab9fa",
   "metadata": {},
   "outputs": [],
   "source": [
    "# create df19 for region 1-5\n",
    "olratk=[70,70,70,70,70]\n",
    "olratp=[2,2,2,2,2]\n",
    "olldepth=[15,15,15,15,15]\n",
    "df19_row=['olratk','olratp','olldepth']\n",
    "df19=pd.DataFrame([olratk,olratp,olldepth], index=df19_row)"
   ]
  },
  {
   "cell_type": "code",
   "execution_count": 85,
   "id": "65fcd5e8-0521-47f9-96c5-6a5d0b7dbac2",
   "metadata": {},
   "outputs": [],
   "source": [
    "# append df18\n",
    "with open(output_file, 'a') as file:\n",
    "    # Write the DataFrame to the file\n",
    "    df19.to_csv(file, sep='\\t', index=True, header=False, line_terminator='\\n')"
   ]
  },
  {
   "cell_type": "code",
   "execution_count": 86,
   "id": "37f5b7b9-643d-4b79-9e79-383dadfb79bc",
   "metadata": {},
   "outputs": [],
   "source": [
    "# create s19\n",
    "s19= [\n",
    "\"\"\"!!\t\t\t\t\t\t\t\t\t\t\t\t\t\t\t\t\t\n",
    "!!\t=======================================================================================================\t\t\t\t\t\t\t\t\t\t\t\t\t\t\t\t\n",
    "!!\tRIVER ROUTING\t\t\t\t\t\t\t\t\t\t\t\t\t\t\t\t\n",
    "!!\t-----\t\t\t\"\"\"\n",
    "]"
   ]
  },
  {
   "cell_type": "code",
   "execution_count": 87,
   "id": "c2e94c67-71dd-41e3-a601-0040fa2862f9",
   "metadata": {},
   "outputs": [],
   "source": [
    "# write s19 in output file\n",
    "with open(output_file, 'a') as file:\n",
    "    # Write the commented lines\n",
    "    for line in s19:\n",
    "        file.write(line + '\\n')"
   ]
  },
  {
   "cell_type": "code",
   "execution_count": 88,
   "id": "20a72e8d-27f7-4629-8d03-43f4817d5a69",
   "metadata": {},
   "outputs": [],
   "source": [
    "# create df19\n",
    "df19_row=['damp','rivvel','qmean']\n",
    "df19_val=[0.2,10,200]\n",
    "df19=pd.DataFrame(df19_val, index=df19_row, columns=None)"
   ]
  },
  {
   "cell_type": "code",
   "execution_count": 89,
   "id": "555af63b-d329-4895-a213-2a166f3b5660",
   "metadata": {},
   "outputs": [],
   "source": [
    "# create the corresponding comments\n",
    "c9 = [\n",
    "    \"!! fraction of delay in the watercourse which also causes damping\",\n",
    "    \"!! celerity of flood in watercourse (rivvel>0)\",\n",
    "    \"!! initial value for calculation of mean flow (mm/yr) - can also be given in LakeData\",\n",
    "]"
   ]
  },
  {
   "cell_type": "code",
   "execution_count": 90,
   "id": "a73c61d1-bba3-4874-87de-3f44e308f560",
   "metadata": {},
   "outputs": [],
   "source": [
    "# append c9 and df19\n",
    "with open(output_file, 'a') as file:\n",
    "    # Iterate over DataFrame rows\n",
    "    for i, (index, row) in enumerate(df19.iterrows()):\n",
    "        # Check if there is a comment line for the current row\n",
    "        if i < len(c9):\n",
    "            # Write the row name, values, and comment on the same line\n",
    "            line = str(index) + '\\t' + '\\t'.join(str(val) for val in row.values) + '\\t' + c9[i] + '\\n'\n",
    "        else:\n",
    "            # Write the row name and values without comment on the same line\n",
    "            line = str(index) + '\\t' + '\\t'.join(str(val) for val in row.values) + '\\n'\n",
    "        \n",
    "        # Write the line to the file\n",
    "        file.write(line)"
   ]
  },
  {
   "cell_type": "code",
   "execution_count": 91,
   "id": "ad46f232-476a-44f8-8a88-65d556c7a9c0",
   "metadata": {},
   "outputs": [],
   "source": [
    "# create s20\n",
    "s20= [\n",
    "\"\"\"!!\t=======================================================================================================\t\t\t\t\t\t\t\t\t\t\t\t\t\t\t\t\n",
    "!!\t\"WATER TEMPERATURE - initial water temperature is set by iniT2, sorted under soil temperature\"\t\t\t\t\t\t\t\t\t\t\t\t\t\t\t\t\n",
    "!!\t-----\t\"\"\"\n",
    "]"
   ]
  },
  {
   "cell_type": "code",
   "execution_count": 92,
   "id": "19301af1-d459-4fc6-8eed-55c087f21a08",
   "metadata": {},
   "outputs": [],
   "source": [
    "# write s20 in output file\n",
    "with open(output_file, 'a') as file:\n",
    "    # Write the commented lines\n",
    "    for line in s20:\n",
    "        file.write(line + '\\n')"
   ]
  },
  {
   "cell_type": "code",
   "execution_count": 93,
   "id": "5c7d88c4-8111-4f69-8c9d-bcc38233bb23",
   "metadata": {},
   "outputs": [],
   "source": [
    "# create df20\n",
    "df20_row=['upper2deep','tcfriver','scfriver','ccfriver','lcfriver','tcflake','scflake','ccflake','lcflake','stbcorr1','stbcorr2','stbcorr3']\n",
    "df20_val=[2.5,30,0.4,-0.3,-0.1,40,0.63,0,0,0.4,0.25,0]\n",
    "df20=pd.DataFrame(df20_val, index=df20_row, columns=None)"
   ]
  },
  {
   "cell_type": "code",
   "execution_count": 94,
   "id": "baa2ae9c-0ed3-439b-a59d-83c24006dcdc",
   "metadata": {},
   "outputs": [],
   "source": [
    "# create the corresponding comments\n",
    "c10 = [\n",
    "    \"!! heat transfer parameter for water temperature Ttwo between upper and lower lake layers\",\n",
    "    \"!! air-riverwater heat flow, temperature difference coefficient\",\n",
    "    \"!! air-riverwater heat flow, solar radiation coefficient\",\n",
    "    \"!! air-riverwater heat flow, constant coefficient\",\n",
    "    \"!! air-riverwater heat flow, linear coefficient\",\n",
    "    \"!! air-lakewater heat flow, temperature difference coefficient\",\n",
    "    \"!! air-lakewater heat flow, solar radiation coefficient\",\n",
    "    \"!! air-lakewater heat flow, constant coefficient\",\n",
    "    \"!! air-lakewater heat flow, linear coefficient\"\n",
    "    \"!! parameter for stability correction\",\n",
    "    \"!! parameter for stability correction\",\n",
    "    \"!! parameter for stability correction\",\n",
    "]"
   ]
  },
  {
   "cell_type": "code",
   "execution_count": 95,
   "id": "db69d62f-2e9c-41a8-8138-063ce1b13544",
   "metadata": {},
   "outputs": [],
   "source": [
    "# append c10 and df20\n",
    "with open(output_file, 'a') as file:\n",
    "    # Iterate over DataFrame rows\n",
    "    for i, (index, row) in enumerate(df20.iterrows()):\n",
    "        # Check if there is a comment line for the current row\n",
    "        if i < len(c10):\n",
    "            # Write the row name, values, and comment on the same line\n",
    "            line = str(index) + '\\t' + '\\t'.join(str(val) for val in row.values) + '\\t' + c10[i] + '\\n'\n",
    "        else:\n",
    "            # Write the row name and values without comment on the same line\n",
    "            line = str(index) + '\\t' + '\\t'.join(str(val) for val in row.values) + '\\n'\n",
    "        \n",
    "        # Write the line to the file\n",
    "        file.write(line)"
   ]
  },
  {
   "cell_type": "code",
   "execution_count": 96,
   "id": "604fedb1-6ad8-4453-b490-51fedabcd54b",
   "metadata": {},
   "outputs": [],
   "source": [
    "# create s21\n",
    "s21= [\n",
    "\"\"\"!!\t=======================================================================================================\t\t\t\t\t\t\t\t\t\t\t\t\t\t\t\t\n",
    "!!\tLAKE AND RIVER ICE\t\t\t\t\t\t\t\t\t\t\t\t\t\t\t\t\n",
    "!!\t-----\t\"\"\"\n",
    "]"
   ]
  },
  {
   "cell_type": "code",
   "execution_count": 97,
   "id": "01cc61fc-1f76-4816-b480-09ccc1061838",
   "metadata": {},
   "outputs": [],
   "source": [
    "# write s21 in output file\n",
    "with open(output_file, 'a') as file:\n",
    "    # Write the commented lines\n",
    "    for line in s21:\n",
    "        file.write(line + '\\n')"
   ]
  },
  {
   "cell_type": "code",
   "execution_count": 98,
   "id": "89d9378b-0e96-4442-8582-610cb2a88fbc",
   "metadata": {},
   "outputs": [],
   "source": [
    "# create df21\n",
    "df21_row=['licewme','licetf','licesndens','licekika','licekexp','licetmelt','licewcorr']\n",
    "df21_val=[0.1,0,0.0024,10,1.88,1.25,0.5]\n",
    "df21=pd.DataFrame(df21_val, index=df21_row, columns=None)"
   ]
  },
  {
   "cell_type": "code",
   "execution_count": 99,
   "id": "9a7c92c6-6374-4faf-8b7e-72d6777a9788",
   "metadata": {},
   "outputs": [],
   "source": [
    "# create the corresponding comments\n",
    "c11 = [\n",
    "    \"!! lake ice, water temperature melt efficiency (licewme)??\",\n",
    "    \"!! lake ice, freezing temperature\",\n",
    "    \"!! lake ice, snow compaction parameter\",\n",
    "    \"!! lake ice, ki/ka\",\n",
    "    \"!! lake ice, ks = ki*(dsnow(dice)^kexp\",\n",
    "    \"!! lake ice, degreeday factor for ice melt\",\n",
    "    \"!! lake ice, snow fall reduction for winddrift (multiplicative)\",\n",
    "]"
   ]
  },
  {
   "cell_type": "code",
   "execution_count": 100,
   "id": "d4f56d7b-891b-4725-97d4-26bda4370342",
   "metadata": {},
   "outputs": [],
   "source": [
    "# append c11 and df21\n",
    "with open(output_file, 'a') as file:\n",
    "    # Iterate over DataFrame rows\n",
    "    for i, (index, row) in enumerate(df21.iterrows()):\n",
    "        # Check if there is a comment line for the current row\n",
    "        if i < len(c11):\n",
    "            # Write the row name, values, and comment on the same line\n",
    "            line = str(index) + '\\t' + '\\t'.join(str(val) for val in row.values) + '\\t' + c11[i] + '\\n'\n",
    "        else:\n",
    "            # Write the row name and values without comment on the same line\n",
    "            line = str(index) + '\\t' + '\\t'.join(str(val) for val in row.values) + '\\n'\n",
    "        \n",
    "        # Write the line to the file\n",
    "        file.write(line)"
   ]
  },
  {
   "cell_type": "code",
   "execution_count": 101,
   "id": "0c6a065a-4475-43b4-9d2d-6506d49aa60d",
   "metadata": {},
   "outputs": [],
   "source": [
    "# create s22\n",
    "s22= [\n",
    "\"\"\"!!\t-----\t\t\"\"\"\n",
    "]"
   ]
  },
  {
   "cell_type": "code",
   "execution_count": 102,
   "id": "46a69aa6-bdb0-43e9-b230-250b466af801",
   "metadata": {},
   "outputs": [],
   "source": [
    "# write s22 in output file\n",
    "with open(output_file, 'a') as file:\n",
    "    # Write the commented lines\n",
    "    for line in s22:\n",
    "        file.write(line + '\\n')"
   ]
  },
  {
   "cell_type": "code",
   "execution_count": 103,
   "id": "aa99cd6d-60e2-4f1e-8bbd-a7ccd86bc2a9",
   "metadata": {},
   "outputs": [],
   "source": [
    "# create df22\n",
    "df22_row=['ricewme','ricetf','ricesndens','ricekika','ricekexp','ricetmelt']\n",
    "df22_val=[0.2,0,0.0024,10,1.88,1.25]\n",
    "df22=pd.DataFrame(df22_val, index=df22_row, columns=None)"
   ]
  },
  {
   "cell_type": "code",
   "execution_count": 104,
   "id": "a3ce59df-8ade-4536-89a2-c0a72edda544",
   "metadata": {},
   "outputs": [],
   "source": [
    "# create the corresponding comments\n",
    "c12 = [\n",
    "    \"!! river ice, water temperature melt efficiency\",\n",
    "    \"!! river ice, freezing temperature\",\n",
    "    \"!! river ice, snow compaction parameter\",\n",
    "    \"!! river ice, ki/ka\",\n",
    "    \"!! river ice, ki/ks\",\n",
    "    \"!! river ice, degreeday factor for ice melt\",\n",
    "]"
   ]
  },
  {
   "cell_type": "code",
   "execution_count": 105,
   "id": "1ac73f1b-d251-4a2c-9160-974565b81962",
   "metadata": {},
   "outputs": [],
   "source": [
    "# append c12 and df22\n",
    "with open(output_file, 'a') as file:\n",
    "    # Iterate over DataFrame rows\n",
    "    for i, (index, row) in enumerate(df22.iterrows()):\n",
    "        # Check if there is a comment line for the current row\n",
    "        if i < len(c12):\n",
    "            # Write the row name, values, and comment on the same line\n",
    "            line = str(index) + '\\t' + '\\t'.join(str(val) for val in row.values) + '\\t' + c12[i] + '\\n'\n",
    "        else:\n",
    "            # Write the row name and values without comment on the same line\n",
    "            line = str(index) + '\\t' + '\\t'.join(str(val) for val in row.values) + '\\n'\n",
    "        \n",
    "        # Write the line to the file\n",
    "        file.write(line)"
   ]
  },
  {
   "cell_type": "code",
   "execution_count": 106,
   "id": "a2d84866-cf1b-43b6-a785-dcbfe4c6cc5c",
   "metadata": {},
   "outputs": [],
   "source": [
    "# create s23\n",
    "s23= [\n",
    "\"\"\"!!\t\t\t\t\t\t\t\t\t\t\t\t\t\t\t\t\t\n",
    "!!=======================================================================================================\t\t\t\t\t\t\t\t\t\t\t\t\t\t\t\t\t\n",
    "!!  IRRIGATION:\t\t\t\t\t\t\t\t\t\t\t\t\t\t\t\t\t\n",
    "!!__________\t\"\"\"\n",
    "]"
   ]
  },
  {
   "cell_type": "code",
   "execution_count": 107,
   "id": "ea3a3faa-bbf1-4ede-9a82-d44126f8775b",
   "metadata": {},
   "outputs": [],
   "source": [
    "# write s23 in output file\n",
    "with open(output_file, 'a') as file:\n",
    "    # Write the commented lines\n",
    "    for line in s23:\n",
    "        file.write(line + '\\n')"
   ]
  },
  {
   "cell_type": "code",
   "execution_count": 108,
   "id": "4b15bc3a-a739-4c7d-a6fe-25952b780f0a",
   "metadata": {},
   "outputs": [],
   "source": [
    "# create df23\n",
    "df23_row=['sswcorr','iwdfrac','regirr','immdepth','irrcomp']\n",
    "df23_val=[0.66,1,1,30,0]\n",
    "df23=pd.DataFrame(df23_val, index=df23_row, columns=None)"
   ]
  },
  {
   "cell_type": "code",
   "execution_count": 109,
   "id": "5c4f2776-01f7-4da0-a51e-e56b9bc2b745",
   "metadata": {},
   "outputs": [],
   "source": [
    "# append df23\n",
    "with open(output_file, 'a') as file:\n",
    "    # Write the DataFrame to the file\n",
    "    df23.to_csv(file, sep='\\t', index=True, header=False, line_terminator='\\n')"
   ]
  },
  {
   "cell_type": "code",
   "execution_count": 110,
   "id": "98bf409d-7c2b-4af5-ac02-b334a44cccc9",
   "metadata": {},
   "outputs": [],
   "source": [
    "# create s24\n",
    "s24= [\n",
    "\"\"\"!!\t\t\t\t\t\t\t\t\t\t\t\t\t\t\t\t\t\n",
    "!!\t=======================================================================================================\t\t\t\t\t\t\t\t\t\t\t\t\t\t\t\t\n",
    "!!\tParameters introduced for T2 model purposes - they are not calibrated\t\"\"\"\n",
    "]"
   ]
  },
  {
   "cell_type": "code",
   "execution_count": 111,
   "id": "2ff60e06-ae45-406e-a5de-a21eb6e2e2fe",
   "metadata": {},
   "outputs": [],
   "source": [
    "# write s24 in output file\n",
    "with open(output_file, 'a') as file:\n",
    "    # Write the commented lines\n",
    "    for line in s24:\n",
    "        file.write(line + '\\n')"
   ]
  },
  {
   "cell_type": "code",
   "execution_count": 112,
   "id": "939115b4-7805-4597-b597-341c9e96e446",
   "metadata": {},
   "outputs": [],
   "source": [
    "# create df24\n",
    "df24_row=['maxwidth','limt2exch','deadl','deadm','fraxe','fraxm','t2mix']\n",
    "df24_val=[1000,0.05,0.005,0.005,1,0,0]\n",
    "df24=pd.DataFrame(df24_val, index=df24_row, columns=None)"
   ]
  },
  {
   "cell_type": "code",
   "execution_count": 113,
   "id": "53f07968-3b26-47d3-99e3-a937d24fdc76",
   "metadata": {},
   "outputs": [],
   "source": [
    "# append df24\n",
    "with open(output_file, 'a') as file:\n",
    "    # Write the DataFrame to the file\n",
    "    df24.to_csv(file, sep='\\t', index=True, header=False, line_terminator='\\n')"
   ]
  }
 ],
 "metadata": {
  "kernelspec": {
   "display_name": "easymore-env",
   "language": "python",
   "name": "easymore-env"
  },
  "language_info": {
   "codemirror_mode": {
    "name": "ipython",
    "version": 3
   },
   "file_extension": ".py",
   "mimetype": "text/x-python",
   "name": "python",
   "nbconvert_exporter": "python",
   "pygments_lexer": "ipython3",
   "version": "3.8.10"
  }
 },
 "nbformat": 4,
 "nbformat_minor": 5
}
