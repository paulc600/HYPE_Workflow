{
 "cells": [
  {
   "cell_type": "code",
   "execution_count": 1,
   "id": "f62d16ab-b502-4a4b-afd4-bee825105bb1",
   "metadata": {},
   "outputs": [],
   "source": [
    "import os\n",
    "import geopandas as gpd\n",
    "import pandas as pd\n",
    "import numpy as np\n",
    "import math"
   ]
  },
  {
   "cell_type": "code",
   "execution_count": 2,
   "id": "0840e7e2-850e-420a-be84-4b9eaa1e6881",
   "metadata": {},
   "outputs": [],
   "source": [
    "# Output par to a .txt file\n",
    "output_file = '/home/paulc600/local/HYPE/08_inputs/par.txt'"
   ]
  },
  {
   "cell_type": "markdown",
   "id": "c8fba83a-8ce0-4a2a-97f7-445a149aa503",
   "metadata": {
    "tags": []
   },
   "source": [
    "Temperature and Precipitation correction factors"
   ]
  },
  {
   "cell_type": "code",
   "execution_count": 3,
   "id": "251c1f73-fffb-49f0-aa42-256f9fa13bcf",
   "metadata": {},
   "outputs": [],
   "source": [
    "# write out first text section\n",
    "s1= [\n",
    "\"\"\"!!\t=======================================================================================================\t\t\t\t\t\t\t\t\t\t\t\t\t\t\t\t\n",
    "!! Parameter file for: Milk River & St Mary River\t\t\t\t\t\t\t\t\t\t\t\t\t\t\t\t\t\n",
    "!!\t------------------------\t\t\t\t\t\t\t\t\t\t\t\t\t\t\t\t\n",
    "!!\t\t\t\t\t\t\t\t\t\t\t\t\t\t\t\t\t\n",
    "!!\t=======================================================================================================\t\t\t\t\t\t\t\t\t\t\t\t\t\t\t\t\n",
    "!! METEOROLOGICAL INPUT - general parameters related to temperature and precipitation corrections\t\t\t\t\t\t\t\t\t\t\t\t\t\t\t\t\t\n",
    "!!\t-----\t\t\t\t\t\t\t\t\t\t\t\t\t\t\t\t\n",
    "!! All of these will be kept as 0 because we are not correcting the temperature or the precpitation\t\t\t\t\t\t\t\t\t\t\t\t\t\t\t\t\"\"\"\n",
    "]"
   ]
  },
  {
   "cell_type": "code",
   "execution_count": 4,
   "id": "2002bd05-8135-48fe-99d1-ee138a0e0d92",
   "metadata": {},
   "outputs": [],
   "source": [
    "# write s1 in output file\n",
    "with open(output_file, 'w') as file:\n",
    "    # Write the commented lines\n",
    "    for line in s1:\n",
    "        file.write(line + '\\n')"
   ]
  },
  {
   "cell_type": "code",
   "execution_count": 5,
   "id": "87687c07-5924-4961-a733-233e66627b4f",
   "metadata": {},
   "outputs": [],
   "source": [
    "# create temperature and precipitation correction factors\n",
    "df1_row=['tcobselev','tcalt','tcelevadd','pcaddg','pcusnow','pcurain']\n",
    "df1_val=[0,0,0,0,0,0]\n",
    "df1=pd.DataFrame(df1_val, index=df1_row, columns=None)"
   ]
  },
  {
   "cell_type": "code",
   "execution_count": 6,
   "id": "abae693c-093e-41ba-9062-f80892ab69e9",
   "metadata": {},
   "outputs": [],
   "source": [
    "# create the corresponding comments\n",
    "c1 = [\n",
    "    \"!! parameter for temperature correction due to observation elevation deviation from subbasin elevation (deg C)\",\n",
    "    \"!! parameter for temperature’s elevation dependence\",\n",
    "    \"!! parameter for temperature’s elevation dependence\",\n",
    "    \"!! correction parameter for precipitation\",\n",
    "    \"!! undercatch correction for snowfall\",\n",
    "    \"!! undercatch correction for rainfall\",\n",
    "]"
   ]
  },
  {
   "cell_type": "code",
   "execution_count": 7,
   "id": "03247174-6de2-4124-925a-e7da3622701e",
   "metadata": {},
   "outputs": [],
   "source": [
    "# append c1 and df1\n",
    "with open(output_file, 'a') as file:\n",
    "    # Iterate over DataFrame rows\n",
    "    for i, (index, row) in enumerate(df1.iterrows()):\n",
    "        # Check if there is a comment line for the current row\n",
    "        if i < len(c1):\n",
    "            # Write the row name, values, and comment on the same line\n",
    "            line = str(index) + '\\t' + '\\t'.join(str(val) for val in row.values) + '\\t' + c1[i] + '\\n'\n",
    "        else:\n",
    "            # Write the row name and values without comment on the same line\n",
    "            line = str(index) + '\\t' + '\\t'.join(str(val) for val in row.values) + '\\n'\n",
    "        \n",
    "        # Write the line to the file\n",
    "        file.write(line)"
   ]
  },
  {
   "cell_type": "markdown",
   "id": "8c75ec2e-adc6-47db-87f6-c82d0a3daad8",
   "metadata": {},
   "source": [
    "Snow melt, accumutation and distribution parameters"
   ]
  },
  {
   "cell_type": "code",
   "execution_count": 8,
   "id": "f1d31db4-c94a-45a6-8922-fc665a1bac36",
   "metadata": {},
   "outputs": [],
   "source": [
    "s2= [\n",
    "\"\"\"!!\t=======================================================================================================\t\t\t\t\t\t\t\t\t\t\t\t\t\t\t\t\n",
    "!!\t\"SNOWMELT, DISTRIBUTION, DENSITY, HEAT; sublimation is sorted under Evapotranspiration\"\t\t\t\t\t\t\t\t\t\t\t\t\t\t\t\t\n",
    "!!\t-----\t\t\t\t\t\t\t\t\t\t\t\t\t\t\t\t\n",
    "!!\t\"General snow accumulation and melt related parameters (baseline values from SHYPE, unless noted otherwise)\"\t\t\t\t\t\t\t\t\t\t\t\t\t\t\t\t\n",
    "!! Snow distribution submodel: 0, snow melt submodel: 2, snow density submodel: 0, snow heat submodel: 1 (including snkika below)\"\"\"\n",
    "]"
   ]
  },
  {
   "cell_type": "code",
   "execution_count": 9,
   "id": "ee32faf5-071f-4f51-ab45-b044b0d7cd5c",
   "metadata": {},
   "outputs": [],
   "source": [
    "# write s2 in output file\n",
    "with open(output_file, 'a') as file:\n",
    "    # Write the commented lines\n",
    "    for line in s2:\n",
    "        file.write(line + '\\n')"
   ]
  },
  {
   "cell_type": "code",
   "execution_count": 10,
   "id": "d1e87678-b995-4485-9656-1f1ddbbf9cd0",
   "metadata": {},
   "outputs": [],
   "source": [
    "# create second dataframe\n",
    "df2_row=['ttpi','sdnsnew','snowdensdt','fsceff','cmrefr','whcsnow']\n",
    "df2_val=[1.7083,0.13,0.0016,0.99,0.05,0.08]\n",
    "df2=pd.DataFrame(df2_val, index=df2_row, columns=None)"
   ]
  },
  {
   "cell_type": "code",
   "execution_count": 11,
   "id": "054d6626-3624-4748-9e0e-2c7664360862",
   "metadata": {},
   "outputs": [],
   "source": [
    "# create the corresponding comments\n",
    "c2 = [\n",
    "    \"!! half of temperature interval with mixed snow and rainfall\",\n",
    "    \"!! density of new-fallen snow (kg/dm3)\",\n",
    "    \"!! increase of snow density per day\",\n",
    "    \"!! efficiency of snow cover to influence snow melt and snow evaporation \",\n",
    "    \"!! refreeze efficiency compared to the degree-day snow melt factor Used for second snow melt model\",\n",
    "    \"!! water holding capacity of snow \"\n",
    "]"
   ]
  },
  {
   "cell_type": "code",
   "execution_count": 12,
   "id": "a5216cb2-2ba0-4613-b738-08e87618cd21",
   "metadata": {},
   "outputs": [],
   "source": [
    "# append c2 and df2\n",
    "with open(output_file, 'a') as file:\n",
    "    # Iterate over DataFrame rows\n",
    "    for i, (index, row) in enumerate(df2.iterrows()):\n",
    "        # Check if there is a comment line for the current row\n",
    "        if i < len(c2):\n",
    "            # Write the row name, values, and comment on the same line\n",
    "            line = str(index) + '\\t' + '\\t'.join(str(val) for val in row.values) + '\\t' + c2[i] + '\\n'\n",
    "        else:\n",
    "            # Write the row name and values without comment on the same line\n",
    "            line = str(index) + '\\t' + '\\t'.join(str(val) for val in row.values) + '\\n'\n",
    "        \n",
    "        # Write the line to the file\n",
    "        file.write(line)"
   ]
  },
  {
   "cell_type": "markdown",
   "id": "1de986b7-7cf5-44b0-8c5e-11c34c730d32",
   "metadata": {},
   "source": [
    "Landuse dependent snowmelt parameters"
   ]
  },
  {
   "cell_type": "code",
   "execution_count": 13,
   "id": "cd3195cb-a780-4a4b-9e42-a36c332f397d",
   "metadata": {
    "tags": []
   },
   "outputs": [],
   "source": [
    "s3= [\n",
    "\"\"\"!!\t-----\t\t\t\t\t\t\t\t\t\t\t\t\t\t\t\t\n",
    "!!\tSNOWMELT Landuse dependent parameters\t\t\t\t\t\t\t\t\t\t\t\t\t\n",
    "!!LUSE:\tLU1\tLU2\tLU3\tLU4\tLU5\tLU6\tLU7\tLU8\tLU9\tLU10\tLU11\tLU12\tLU13\tLU14\tLU15\tLU16\tLU17\n",
    "!! snowmelt submodel:2, snow heat submodel: 1\"\"\"\n",
    "]"
   ]
  },
  {
   "cell_type": "code",
   "execution_count": 14,
   "id": "e95e4099-aa05-442c-9c70-f58bd5598cca",
   "metadata": {},
   "outputs": [],
   "source": [
    "# write s3 in output file\n",
    "with open(output_file, 'a') as file:\n",
    "    # Write the commented lines\n",
    "    for line in s3:\n",
    "        file.write(line + '\\n')"
   ]
  },
  {
   "cell_type": "code",
   "execution_count": 15,
   "id": "629c2c13-3d9e-4b39-98aa-da68f6739947",
   "metadata": {
    "tags": []
   },
   "outputs": [],
   "source": [
    "# create df3 for LU 1-17\n",
    "ttmp=[-9.774,-2.4419,2.5478,-3.8724,2.9143,-7.2759,-6.1012,-6.5266,-1.8872,-1.2143,-9.9603,-5.4364,-9.774,-9.774,-9.774,-9.774,-9.774]\n",
    "cmlt=[9.7021,6.0035,1.1786,9.3525,1.7176,5.8523,4.1957,8.6383,8.009,5.4865,1.101,5.515,9.7021,9.7021,9.7021,9.7021,9.7021]\n",
    "cmrad=[0.249065876,0.249065876,1.5,0.176534861,0.685361445,0.174564317,0.174564317,0.174564317,0.174564317,0.685361445,0.501842737,0.011482887,0.249065876,0.249065876,0.249065876,0.249065876,0.249065876]\n",
    "snalbmin=[0.524781764,0.524781764,0.45,0.250044137,0.243925437,0.251664609,0.251664609,0.251664609,0.251664609,0.243925437,0.409460604,0.22856541,0.524781764,0.524781764,0.524781764,0.524781764,0.524781764]\n",
    "snalbmax=[0.85,0.85,0.85,0.85,0.85,0.85,0.85,0.85,0.85,0.85,0.85,0.85,0.85,0.85,0.85,0.85,0.85]\n",
    "snalbkexp=[0.1,0.1,0.1,0.1,0.1,0.1,0.1,0.1,0.1,0.1,0.1,0.1,0.1,0.1,0.1,0.1,0.1]\n",
    "snkika=[50,50,50,50,50,50,50,50,50,50,50,50,50,50,50,50,50]\n",
    "df3_row=['ttmp','cmlt','cmrad','snalbmin','snalbmax','snalbkexp','snkika']\n",
    "df3=pd.DataFrame([ttmp,cmlt,cmrad,snalbmin,snalbmax,snalbkexp,snkika], index=df3_row)"
   ]
  },
  {
   "cell_type": "code",
   "execution_count": 16,
   "id": "c4696ac6-a167-4693-af3f-2459a7afc745",
   "metadata": {
    "tags": []
   },
   "outputs": [],
   "source": [
    "# create the corresponding comments\n",
    "c22 = [\n",
    "    \"!! threshold temperature for snow melt snow density and evapotranspiration\",\n",
    "    \"!! melting parameter for snow\",\n",
    "    \"!! coefficient for radiation snow melt, parameter for second snowmelt model\",\n",
    "    \"!! parameter for second snowmelt model\",\n",
    "    \"!! parameter for second snowmelt model\",\n",
    "    \"!! parameter for second snowmelt model\",\n",
    "    \"!! snow heat model, relation between snow thermal conductivity and surface heat exchange coefficient\"\n",
    "]\n"
   ]
  },
  {
   "cell_type": "code",
   "execution_count": 17,
   "id": "1386d842-ef6a-463d-b2f7-16b151167b51",
   "metadata": {},
   "outputs": [],
   "source": [
    "# append c22 and df3\n",
    "with open(output_file, 'a') as file:\n",
    "    # Iterate over DataFrame rows\n",
    "    for i, (index, row) in enumerate(df3.iterrows()):\n",
    "        # Check if there is a comment line for the current row\n",
    "        if i < len(c22):\n",
    "            # Write the row name, values, and comment on the same line\n",
    "            line = str(index) + '\\t' + '\\t'.join(str(val) for val in row.values) + '\\t' + c22[i] + '\\n'\n",
    "        else:\n",
    "            # Write the row name and values without comment on the same line\n",
    "            line = str(index) + '\\t' + '\\t'.join(str(val) for val in row.values) + '\\n'\n",
    "        \n",
    "        # Write the line to the file\n",
    "        file.write(line)"
   ]
  },
  {
   "cell_type": "markdown",
   "id": "7e14e00d-4fa1-43cf-a7bf-9c14d5860045",
   "metadata": {},
   "source": [
    "Snowcover parameters"
   ]
  },
  {
   "cell_type": "code",
   "execution_count": 18,
   "id": "b12cb867-9cac-402e-bedd-1c4a1f0f7a25",
   "metadata": {},
   "outputs": [],
   "source": [
    "s4= [\n",
    "\"\"\"!!\t-----\t\t\t\t\t\t\t\t\t\t\t\t\t\t\t\t\n",
    "!!\tSNOWCOVER parameters (general and landuse) - baseline from Rossby RCA model (Samuelsson et al 2006;Lindström et al)\t\t\t\t\t\t\t\t\t\t\t\t\t\t\t\t\n",
    "!!LUSE:\tLU1\tLU2\tLU3\tLU4\tLU5\tLU6\tLU7\tLU8\tLU9\tLU10\tLU11\tLU12\tLU13\tLU14\tLU15\tLU16\tLU17\n",
    "!! used in SNOWMELT submodel:2 \"\"\"\n",
    "]"
   ]
  },
  {
   "cell_type": "code",
   "execution_count": 19,
   "id": "b642c145-519f-46b2-a1c3-102f6eaf0f07",
   "metadata": {},
   "outputs": [],
   "source": [
    "# write s4 in output file\n",
    "with open(output_file, 'a') as file:\n",
    "    # Write the commented lines\n",
    "    for line in s4:\n",
    "        file.write(line + '\\n')"
   ]
  },
  {
   "cell_type": "code",
   "execution_count": 20,
   "id": "dbcf8789-92ce-4668-a4f9-e35709b2879e",
   "metadata": {},
   "outputs": [],
   "source": [
    "# create df4 for LU 1-17\n",
    "fscdistmax=[0.8,0.8,0.8,0.8,0.8,0.8,0.8,0.8,0.8,0.8,0.8,0.8,0.8,0.8,0.8,0.8,0.8]\n",
    "fscdist0=[0.571998656,0.571998656,0.6,0.672227979,0.718591213,0.672161579,0.672161579,0.672161579,0.672161579,0.718591213,0.302164137,0.663832068,0.663832068,0.663832068,0.663832068,0.663832068,0.663832068]\n",
    "fscdist1=[0.001,0.001,0.001,0.001,0.001,0.001,0.001,0.001,0.001,0.001,0.001,0.001,0.001,0.001,0.001,0.001,0.001]\n",
    "df4_row=['fscdistmax','fscdist0','fscdist1']\n",
    "df4=pd.DataFrame([fscdistmax,fscdist0,fscdist1], index=df4_row)"
   ]
  },
  {
   "cell_type": "code",
   "execution_count": 21,
   "id": "ffa8b1e9-adb4-4c18-85b8-c87147455b3c",
   "metadata": {},
   "outputs": [],
   "source": [
    "# create the corresponding comments\n",
    "c33 = [\n",
    "    \"!! maximum snow distribution factor\",\n",
    "    \"!! minimum snow distribution factor\",\n",
    "    \"!! std coefficient for snow distribution factor parameter for second snowmelt model\"\n",
    "]"
   ]
  },
  {
   "cell_type": "code",
   "execution_count": 22,
   "id": "ac3279c9-c40b-4033-80db-6ef405dd4d45",
   "metadata": {},
   "outputs": [],
   "source": [
    "# append c33 and df4\n",
    "with open(output_file, 'a') as file:\n",
    "    # Iterate over DataFrame rows\n",
    "    for i, (index, row) in enumerate(df4.iterrows()):\n",
    "        # Check if there is a comment line for the current row\n",
    "        if i < len(c33):\n",
    "            # Write the row name, values, and comment on the same line\n",
    "            line = str(index) + '\\t' + '\\t'.join(str(val) for val in row.values) + '\\t' + c33[i] + '\\n'\n",
    "        else:\n",
    "            # Write the row name and values without comment on the same line\n",
    "            line = str(index) + '\\t' + '\\t'.join(str(val) for val in row.values) + '\\n'\n",
    "        \n",
    "        # Write the line to the file\n",
    "        file.write(line)"
   ]
  },
  {
   "cell_type": "code",
   "execution_count": 23,
   "id": "1d9f6a5b-2579-48d4-8af7-10732e39137d",
   "metadata": {},
   "outputs": [],
   "source": [
    "# create df5\n",
    "df5_row=['fscmax','fscmin','fsclim','fsck1','fsckexp']\n",
    "df5_val=[1,0.01,0.001,0.2,0.000001]\n",
    "df5=pd.DataFrame(df5_val, index=df5_row, columns=None)"
   ]
  },
  {
   "cell_type": "code",
   "execution_count": 24,
   "id": "eef63b7f-424e-49bc-ae33-5896261789ce",
   "metadata": {},
   "outputs": [],
   "source": [
    "# create the corresponding comments\n",
    "c3 = [\n",
    "    \"!! maximum fractional snow cover area\",\n",
    "    \"!! minimum fractional snow cover area\",\n",
    "    \"!! limit of fractional snow cover area for onset of snowmax\",\n",
    "    \"!! Snowmass threshold to start decreasing the internal snowmax variable towards the end of the melt season\",\n",
    "    \"!! Coefficient in exponential decrease of the internal Snowmax variable\",\n",
    "]"
   ]
  },
  {
   "cell_type": "code",
   "execution_count": 25,
   "id": "2d12d6e9-e913-4044-b194-2e7a29d919d1",
   "metadata": {},
   "outputs": [],
   "source": [
    "# append c3 and df5\n",
    "with open(output_file, 'a') as file:\n",
    "    # Iterate over DataFrame rows\n",
    "    for i, (index, row) in enumerate(df5.iterrows()):\n",
    "        # Check if there is a comment line for the current row\n",
    "        if i < len(c3):\n",
    "            # Write the row name, values, and comment on the same line\n",
    "            line = str(index) + '\\t' + '\\t'.join(str(val) for val in row.values) + '\\t' + c3[i] + '\\n'\n",
    "        else:\n",
    "            # Write the row name and values without comment on the same line\n",
    "            line = str(index) + '\\t' + '\\t'.join(str(val) for val in row.values) + '\\n'\n",
    "        \n",
    "        # Write the line to the file\n",
    "        file.write(line)"
   ]
  },
  {
   "cell_type": "markdown",
   "id": "3b020c5c-258b-47a1-98a1-accfc4b8331e",
   "metadata": {},
   "source": [
    "Glacier parameters"
   ]
  },
  {
   "cell_type": "code",
   "execution_count": 26,
   "id": "7f4c85bb-11e8-439b-b90e-5c0f91b00532",
   "metadata": {},
   "outputs": [],
   "source": [
    "# create s5\n",
    "s5= [\n",
    "\"\"\"!!\t=======================================================================================================\t\t\t\t\t\t\t\t\t\t\t\t\t\t\t\t\n",
    "!!\t\"GLACIER - parameters for volume-area scaling, accumulation and melt (sublimation sorted under Evapotranspiration)\"\t\t\t\t\t\t\t\t\t\t\t\t\t\t\t\t\n",
    "!!\t-----\t\t\t\t\t\t\t\t\t\t\t\t\t\t\t\t\n",
    "!!\tGlacier volume-area scaling\t\n",
    "!! the parameters used calculate the area of the glaciers\"\"\"\n",
    "]"
   ]
  },
  {
   "cell_type": "code",
   "execution_count": 27,
   "id": "67731fde-db62-4fc2-935f-65c96c5dfbca",
   "metadata": {},
   "outputs": [],
   "source": [
    "# write s5 in output file\n",
    "with open(output_file, 'a') as file:\n",
    "    # Write the commented lines\n",
    "    for line in s5:\n",
    "        file.write(line + '\\n')"
   ]
  },
  {
   "cell_type": "code",
   "execution_count": 28,
   "id": "6ab7e463-69b7-4d5e-96df-22739e7fbe6b",
   "metadata": {},
   "outputs": [],
   "source": [
    "# create df6\n",
    "df6_row=['glacvexp','glacvcoef','glacvexp1','glacvcoef1','glac2arlim','glacannmb']\n",
    "df6_val=[1.395,0.17157,1.25,2.88364,25000000,0]\n",
    "df6=pd.DataFrame(df6_val, index=df6_row, columns=None)"
   ]
  },
  {
   "cell_type": "code",
   "execution_count": 29,
   "id": "2ae3711c-7f6a-4380-b286-25282fab7d34",
   "metadata": {},
   "outputs": [],
   "source": [
    "# create the corresponding comments\n",
    "c4 = [\n",
    "    \"!! exponent of glacier area-volume relationship for glacier of type zero\",\n",
    "    \"!! coefficient of glacier area-volume relationship for glacier of type zero\",\n",
    "    \"!! exponent of glacier area-volume relationship for glacier of type one)\",\n",
    "    \"!! coefficient of glacier area-volume relationship for glacier of type one\",\n",
    "    \"!! area limit for determine glacier type which is used only if glacier type is given in GlacierData.txt\",\n",
    "    \"!! annual mass balance for correction of initial glacier volume\",\n",
    "]"
   ]
  },
  {
   "cell_type": "code",
   "execution_count": 30,
   "id": "94b20a20-5218-4bf4-9048-5a41326d3ab4",
   "metadata": {},
   "outputs": [],
   "source": [
    "# append c4 and df6\n",
    "with open(output_file, 'a') as file:\n",
    "    # Iterate over DataFrame rows\n",
    "    for i, (index, row) in enumerate(df6.iterrows()):\n",
    "        # Check if there is a comment line for the current row\n",
    "        if i < len(c4):\n",
    "            # Write the row name, values, and comment on the same line\n",
    "            line = str(index) + '\\t' + '\\t'.join(str(val) for val in row.values) + '\\t' + c4[i] + '\\n'\n",
    "        else:\n",
    "            # Write the row name and values without comment on the same line\n",
    "            line = str(index) + '\\t' + '\\t'.join(str(val) for val in row.values) + '\\n'\n",
    "        \n",
    "        # Write the line to the file\n",
    "        file.write(line)"
   ]
  },
  {
   "cell_type": "code",
   "execution_count": 31,
   "id": "6f925513-5fda-4085-9ace-ffb9c73135e8",
   "metadata": {},
   "outputs": [],
   "source": [
    "# create s6\n",
    "s6= [\n",
    "\"\"\"!!\t-----\t\t\t\t\t\t\t\t\t\t\t\t\t\t\t\t\n",
    "!!\tGlacier melt parameters \t\t\t\t\t\t\t\t\t\t\t\t\t\t\t\t\n",
    "!!\t----\t\t\t\t\t\t\t\t\t\t\t\t\t\t\t\t\n",
    "!! considered with snowevaporation submodel: 1, snowmelt submodel 2\"\"\"\n",
    "]"
   ]
  },
  {
   "cell_type": "code",
   "execution_count": 32,
   "id": "dcc22abb-ed56-46cd-a4d0-a9d0311d9c13",
   "metadata": {},
   "outputs": [],
   "source": [
    "# write s6 in output file\n",
    "with open(output_file, 'a') as file:\n",
    "    # Write the commented lines\n",
    "    for line in s6:\n",
    "        file.write(line + '\\n')"
   ]
  },
  {
   "cell_type": "code",
   "execution_count": 33,
   "id": "d792dc29-5a7e-4398-a893-8a92528cb6d4",
   "metadata": {},
   "outputs": [],
   "source": [
    "# create df7\n",
    "df7_row=['glacttmp','glaccmlt','glaccmrad','glaccmrefr','glacalb','fepotglac']\n",
    "df7_val=[0,1.58595482,0.19090136,0.06259448,0.35,0]\n",
    "df7=pd.DataFrame(df7_val, index=df7_row, columns=None)"
   ]
  },
  {
   "cell_type": "code",
   "execution_count": 34,
   "id": "2db10a41-e145-4d71-8d4d-7b73fe2d6f97",
   "metadata": {},
   "outputs": [],
   "source": [
    "# create the corresponding comments\n",
    "c44 = [\n",
    "    \"!! threshold temperature for glacier melt\",\n",
    "    \"!! melting parameter for glacier\",\n",
    "    \"!! coefficient for radiation glacier melt parameter for second snowmelt model\",\n",
    "    \"!! refreeze efficiency compared to the degree-day glacier melt factor parameter for second snow meltmodel\",\n",
    "    \"!! albedo for glacier ice\",\n",
    "    \"!! fraction of snow-free potential evapotranspiration for first snowevaporation model\"\n",
    "]"
   ]
  },
  {
   "cell_type": "code",
   "execution_count": 35,
   "id": "49c27254-c1f8-458a-9360-2309abc3130d",
   "metadata": {},
   "outputs": [],
   "source": [
    "# append c44 and df7\n",
    "with open(output_file, 'a') as file:\n",
    "    # Iterate over DataFrame rows\n",
    "    for i, (index, row) in enumerate(df7.iterrows()):\n",
    "        # Check if there is a comment line for the current row\n",
    "        if i < len(c44):\n",
    "            # Write the row name, values, and comment on the same line\n",
    "            line = str(index) + '\\t' + '\\t'.join(str(val) for val in row.values) + '\\t' + c44[i] + '\\n'\n",
    "        else:\n",
    "            # Write the row name and values without comment on the same line\n",
    "            line = str(index) + '\\t' + '\\t'.join(str(val) for val in row.values) + '\\n'\n",
    "        \n",
    "        # Write the line to the file\n",
    "        file.write(line)"
   ]
  },
  {
   "cell_type": "markdown",
   "id": "f909b9dc-bd71-4938-a76e-503776d886af",
   "metadata": {},
   "source": [
    "Evapotransipration parameters"
   ]
  },
  {
   "cell_type": "code",
   "execution_count": 36,
   "id": "0e8df88f-80ea-4015-8d08-54c1f61d8f75",
   "metadata": {},
   "outputs": [],
   "source": [
    "# create s7\n",
    "s7= [\n",
    "\"\"\"!!\t=======================================================================================================\t\t\t\t\t\t\t\t\t\t\t\t\t\t\t\t\n",
    "!!\tEVAPOTRANSPIRATION PARAMETERS\t\t\t\t\t\t\t\t\t\t\t\t\t\t\t\t\n",
    "!!\t-----\t\t\t\t\t\t\t\t\t\t\t\t\t\t\t\t\n",
    "!!\tGeneral evapotranspiration parameters\t\t\t\t\t\t\t\t\t\t\t\t\t\t\t\t\n",
    "!! used for petmodel\"\"\"\n",
    "]"
   ]
  },
  {
   "cell_type": "code",
   "execution_count": 37,
   "id": "08d76dd1-83b1-46c1-aa9b-ad9b9a66cdb2",
   "metadata": {},
   "outputs": [],
   "source": [
    "# write s7 in output file\n",
    "with open(output_file, 'a') as file:\n",
    "    # Write the commented lines\n",
    "    for line in s7:\n",
    "        file.write(line + '\\n')"
   ]
  },
  {
   "cell_type": "code",
   "execution_count": 38,
   "id": "87378426-e622-44d4-9cc9-116bc177ede9",
   "metadata": {},
   "outputs": [],
   "source": [
    "# create df8\n",
    "df8_row=['lp','epotdist','krs','jhtadd','jhtscale']\n",
    "df8_val=[0.546,5.8197,0.16,4.95,94.2]\n",
    "df8=pd.DataFrame(df8_val, index=df8_row, columns=None)"
   ]
  },
  {
   "cell_type": "code",
   "execution_count": 39,
   "id": "38d4a72d-de4f-450b-8454-c1ce530bf7cd",
   "metadata": {},
   "outputs": [],
   "source": [
    "# create the corresponding comments\n",
    "c5 = [\n",
    "    \"!! Threshold for water content reduction of transpiration as fraction of field capacity\",\n",
    "    \"!! Coefficient in exponential function for potential evapotranspiration's depth dependency\",\n",
    "    \"!! parameter for estimating shortwave radiation used in the third petmodel\",\n",
    "    \"!! parameter for second petmodel\",\n",
    "    \"!! parameter for second petmodel\"\n",
    "]"
   ]
  },
  {
   "cell_type": "code",
   "execution_count": 40,
   "id": "20687ff6-a858-462a-86cc-e8255acd74b1",
   "metadata": {},
   "outputs": [],
   "source": [
    "# append c5 and df8\n",
    "with open(output_file, 'a') as file:\n",
    "    # Iterate over DataFrame rows\n",
    "    for i, (index, row) in enumerate(df8.iterrows()):\n",
    "        # Check if there is a comment line for the current row\n",
    "        if i < len(c5):\n",
    "            # Write the row name, values, and comment on the same line\n",
    "            line = str(index) + '\\t' + '\\t'.join(str(val) for val in row.values) + '\\t' + c5[i] + '\\n'\n",
    "        else:\n",
    "            # Write the row name and values without comment on the same line\n",
    "            line = str(index) + '\\t' + '\\t'.join(str(val) for val in row.values) + '\\n'\n",
    "        \n",
    "        # Write the line to the file\n",
    "        file.write(line)"
   ]
  },
  {
   "cell_type": "code",
   "execution_count": 41,
   "id": "90d43e45-1792-45dc-93c8-3ed56933cd29",
   "metadata": {},
   "outputs": [],
   "source": [
    "# create s8\n",
    "s8= [\n",
    "\"\"\"!!\t-----\t\t\t\t\t\t\t\t\t\t\t\t\t\t\t\t\n",
    "!!\t\t\t\t\t\t\t\t\t\t\t\t\t\t\t\t\t\n",
    "!!LUSE:\tLU1\tLU2\tLU3\tLU4\tLU5\tLU6\tLU7\tLU8\tLU9\tLU10\tLU11\tLU12\tLU13\tLU14\tLU15\tLU16\tLU17\"\"\"\n",
    "]"
   ]
  },
  {
   "cell_type": "code",
   "execution_count": 42,
   "id": "24171ea6-746d-47f0-bb80-3bafb7242cfd",
   "metadata": {},
   "outputs": [],
   "source": [
    "# write s8 in output file\n",
    "with open(output_file, 'a') as file:\n",
    "    # Write the commented lines\n",
    "    for line in s8:\n",
    "        file.write(line + '\\n')"
   ]
  },
  {
   "cell_type": "code",
   "execution_count": 43,
   "id": "4e88d30c-fe70-4bea-87dd-47df2a15d5d9",
   "metadata": {},
   "outputs": [],
   "source": [
    "# create df9 for LU 1-17\n",
    "kc3=[1.017511845,1.017511845,1.201224208,1.334493399,1.265059352,1.020708799,1.020708799,1.020708799,1.020708799,1.265059352,1.342448354,1.024959087,1.024959087,1.024959087,1.024959087,1.024959087,1.024959087]\n",
    "alb=[0.476534277,0.476534277,0.7,0.45542863,0.669192433,0.799822092,0.799822092,0.799822092,0.799822092,0.669192433,0.400103867,0.479658425,0.479658425,0.479658425,0.479658425,0.479658425,0.479658425]\n",
    "ttrig=[0,0,0,0,0,0,0,0,0,0,0,0,0,0,0,0,0]\n",
    "treda=[0.84,0.84,0.84,0.84,0.95,0.95,0.95,0.95,0.95,0.7,0.9,0.8,0.8,0.8,0.8,0.8,0.8]\n",
    "tredb=[0.4,0.4,0.4,0.4,0.4,0.4,0.4,0.4,0.4,0.4,0.4,0.4,0.4,0.4,0.4,0.4,0.4]\n",
    "cevp=[0.22,0.22,1.6,1.9,0.17,0.17,0.17,0.17,0.17,0.1,0.21,0.07,0.07,0.07,0.07,0.07,0.07]\n",
    "fepotsnow=[0.912879467,0.912879467,0.18,0.533387661,0.460848987,0.12002416,0.12002416,0.12002416,0.12002416,0.460848987,0.206956849,0.197802201,0.197802201,0.197802201,0.197802201,0.197802201,0.197802201]\n",
    "df9_row=['kc3','alb','ttrig','treda','tredb','cevp','fepotsnow']\n",
    "df9=pd.DataFrame([kc3,alb,ttrig,treda,tredb,cevp,fepotsnow], index=df9_row)"
   ]
  },
  {
   "cell_type": "code",
   "execution_count": 44,
   "id": "78f1d433-42dd-46d2-9caf-5b9643a42aae",
   "metadata": {},
   "outputs": [],
   "source": [
    "# create the corresponding comments\n",
    "c55 = [\n",
    "    \"!! crop coefficient for third petmodel\",\n",
    "    \"!! albedo for petmodels\",\n",
    "    \"!! temperature threshold for soil temperature control on soil evapotranspiration\",\n",
    "    \"!! soil temperature control on soil evapotranspiration\",\n",
    "    \"!! soil temperature control on soil evapotranspiration\",\n",
    "    \"!! evapotranspiration parameter\",\n",
    "    \"!! fraction of snow-free potential evapotranspiration, used for calculation of snow evaporation\"\n",
    "]"
   ]
  },
  {
   "cell_type": "code",
   "execution_count": 45,
   "id": "7d6347aa-2e66-46ec-a10c-0682b498f648",
   "metadata": {},
   "outputs": [],
   "source": [
    "# append c55 and df9\n",
    "with open(output_file, 'a') as file:\n",
    "    # Iterate over DataFrame rows\n",
    "    for i, (index, row) in enumerate(df9.iterrows()):\n",
    "        # Check if there is a comment line for the current row\n",
    "        if i < len(c55):\n",
    "            # Write the row name, values, and comment on the same line\n",
    "            line = str(index) + '\\t' + '\\t'.join(str(val) for val in row.values) + '\\t' + c55[i] + '\\n'\n",
    "        else:\n",
    "            # Write the row name and values without comment on the same line\n",
    "            line = str(index) + '\\t' + '\\t'.join(str(val) for val in row.values) + '\\n'\n",
    "        \n",
    "        # Write the line to the file\n",
    "        file.write(line)"
   ]
  },
  {
   "cell_type": "markdown",
   "id": "cc9080f4-6eb3-4608-8808-4b28fcccdfef",
   "metadata": {},
   "source": [
    "Frozen soil parameters"
   ]
  },
  {
   "cell_type": "code",
   "execution_count": 46,
   "id": "3e5795ba-af38-4591-82c9-ad4ff46196d0",
   "metadata": {},
   "outputs": [],
   "source": [
    "# create s9\n",
    "s9= [\n",
    "\"\"\"!!======================================================\t\t\t\t\t\t\t\t\t\t\t\t\t\t\t\t\t\n",
    "!! Frozen soil infiltration parameters\t\t\t\t\t\t\t\t\t\t\t\t\t\t\t\t\t\n",
    "!! General frozen soil \n",
    "!! SOIL:\tS1\tS2\tS3\tS4\tS5\tS6\tS7\tS8\tS9\tS10\tS11\tS12\t\t\t\t\t\n",
    "!! for frozen soil submodel: 2\"\"\"\n",
    "]"
   ]
  },
  {
   "cell_type": "code",
   "execution_count": 47,
   "id": "8465b878-773f-4bdb-9128-25e1d8f04965",
   "metadata": {},
   "outputs": [],
   "source": [
    "# write s9 in output file\n",
    "with open(output_file, 'a') as file:\n",
    "    # Write the commented lines\n",
    "    for line in s9:\n",
    "        file.write(line + '\\n')"
   ]
  },
  {
   "cell_type": "code",
   "execution_count": 48,
   "id": "818500a1-44f8-41cb-bcfc-82f2316fb077",
   "metadata": {},
   "outputs": [],
   "source": [
    "# create df10\n",
    "df10_row=['deepmem']\n",
    "df10_val=[1000]\n",
    "df10=pd.DataFrame(df10_val, index=df10_row, columns=None)"
   ]
  },
  {
   "cell_type": "code",
   "execution_count": 49,
   "id": "b84722e6-0dce-4292-82c4-ba1e174fe6e3",
   "metadata": {},
   "outputs": [],
   "source": [
    "# create corresponding comments\n",
    "# create the corresponding comments\n",
    "c5555 = [\n",
    "    \"!! deep soil temperature memory\"\n",
    "]"
   ]
  },
  {
   "cell_type": "code",
   "execution_count": 50,
   "id": "ac8df02e-006c-4594-a516-71d277b29271",
   "metadata": {},
   "outputs": [],
   "source": [
    "# append c5555 and df10\n",
    "with open(output_file, 'a') as file:\n",
    "    # Iterate over DataFrame rows\n",
    "    for i, (index, row) in enumerate(df10.iterrows()):\n",
    "        # Check if there is a comment line for the current row\n",
    "        if i < len(c5555):\n",
    "            # Write the row name, values, and comment on the same line\n",
    "            line = str(index) + '\\t' + '\\t'.join(str(val) for val in row.values) + '\\t' + c5555[i] + '\\n'\n",
    "        else:\n",
    "            # Write the row name and values without comment on the same line\n",
    "            line = str(index) + '\\t' + '\\t'.join(str(val) for val in row.values) + '\\n'\n",
    "        \n",
    "        # Write the line to the file\n",
    "        file.write(line)"
   ]
  },
  {
   "cell_type": "code",
   "execution_count": 51,
   "id": "4f652e40-3f34-472f-a9f6-f0f07c0a61ad",
   "metadata": {},
   "outputs": [],
   "source": [
    "# create s10\n",
    "s10= [\n",
    "\"\"\"!!---------------\t\t\t\t\t\t\t\t\t\t\t\t\t\t\t\t\t\n",
    "!! Frozen soil infiltration parameters\t\t\t\t\t\t\t\t\t\t\t\t\t\t\t\t\t\n",
    "!! Soil type parameters\n",
    "!! SOIL:\tS1\tS2\tS3\tS4\tS5\tS6\tS7\tS8\tS9\tS10\tS11\tS12\t\t\t\t\t\"\"\"\n",
    "]"
   ]
  },
  {
   "cell_type": "code",
   "execution_count": 52,
   "id": "74d5f831-f05a-42db-a3b8-4d5cb5c0d42f",
   "metadata": {},
   "outputs": [],
   "source": [
    "# write s10 in output file\n",
    "with open(output_file, 'a') as file:\n",
    "    # Write the commented lines\n",
    "    for line in s10:\n",
    "        file.write(line + '\\n')"
   ]
  },
  {
   "cell_type": "code",
   "execution_count": 53,
   "id": "931d6289-01d7-4ab6-9126-5e28bb61ae87",
   "metadata": {},
   "outputs": [],
   "source": [
    "# create df11 for S1-12\n",
    "bfroznsoil=[2.1,2.1,2.1,2.1,2.1,2.1,2.1,2.1,2.1,2.1,2.1,2.1]\n",
    "logsatmp=[1.15,1.15,1.88,1.59,1.88,2.17,2.46,2.46,2.46,2.46,2.46,2.46]\n",
    "bcosby=[4.74,4.74,5.33,7.22,5.33,3.44,1.55,1.55,1.55,1.55,1.55,1.55]\n",
    "df11_row=['bfroznsoil','logsatmp','bcosby']\n",
    "df11=pd.DataFrame([bfroznsoil,logsatmp,bcosby,], index=df11_row)"
   ]
  },
  {
   "cell_type": "code",
   "execution_count": 54,
   "id": "4ddfb1d7-421b-450f-967b-346f8b76c737",
   "metadata": {},
   "outputs": [],
   "source": [
    "# create the corresponding comments\n",
    "c555 = [\n",
    "    \"!! ??\",\n",
    "    \"!! coefficient in unfrozen soil water content function\",\n",
    "    \"!! coefficient in unfrozen soil water content function\",\n",
    "]"
   ]
  },
  {
   "cell_type": "code",
   "execution_count": 55,
   "id": "eaf24d7f-e993-4737-88cd-755cc0f779a9",
   "metadata": {},
   "outputs": [],
   "source": [
    "# append c555 and df11\n",
    "with open(output_file, 'a') as file:\n",
    "    # Iterate over DataFrame rows\n",
    "    for i, (index, row) in enumerate(df11.iterrows()):\n",
    "        # Check if there is a comment line for the current row\n",
    "        if i < len(c555):\n",
    "            # Write the row name, values, and comment on the same line\n",
    "            line = str(index) + '\\t' + '\\t'.join(str(val) for val in row.values) + '\\t' + c555[i] + '\\n'\n",
    "        else:\n",
    "            # Write the row name and values without comment on the same line\n",
    "            line = str(index) + '\\t' + '\\t'.join(str(val) for val in row.values) + '\\n'\n",
    "        \n",
    "        # Write the line to the file\n",
    "        file.write(line)"
   ]
  },
  {
   "cell_type": "code",
   "execution_count": 56,
   "id": "dd15160a-49fa-4515-afd5-574bd6256031",
   "metadata": {},
   "outputs": [],
   "source": [
    "# create s15\n",
    "s15= [\n",
    "\"\"\"!! ------------\n",
    "!! Frozen soil infiltration parameters\t\t\t\t\t\t\t\t\t\t\t\t\t\t\t\n",
    "!!Land use parameters\t\t\t\t\t\t\t\t\t\t\t\t\t\t\t\t\t\n",
    "!!LUSE:\tLU1\tLU2\tLU3\tLU4\tLU5\tLU6\tLU7\tLU8\tLU9\tLU10\tLU11\tLU12\tLU13\tLU14\tLU15\tLU16\tLU17\"\"\"\n",
    "]"
   ]
  },
  {
   "cell_type": "code",
   "execution_count": 57,
   "id": "aa1ffed5-2567-49dd-95c0-04b63302953f",
   "metadata": {},
   "outputs": [],
   "source": [
    "# write s15 in output file\n",
    "with open(output_file, 'a') as file:\n",
    "    # Write the commented lines\n",
    "    for line in s15:\n",
    "        file.write(line + '\\n')"
   ]
  },
  {
   "cell_type": "code",
   "execution_count": 58,
   "id": "ce9450ca-2333-4eb0-8fbc-759e54caf6c6",
   "metadata": {},
   "outputs": [],
   "source": [
    "# create df16 for LU 1-17\n",
    "surfmem=[17.8,17.8,17.8,17.8,5.15,5.15,5.15,5.15,5.15,5.15,5.15,5.15,5.15,5.15,5.15,5.15,5.15]\n",
    "depthrel=[1.1152,1.1152,1.1152,1.1152,2.47,2.47,2.47,2.47,2.47,2.47,2.47,2.47,2.47,2.47,2.47,2.47,2.47]\n",
    "frost=[2,2,2,2,2,2,2,2,2,2,2,2,2,2,2,2,2]\n",
    "df16_row=['surfmem','depthrel','frost']\n",
    "df16=pd.DataFrame([surfmem,depthrel,frost], index=df16_row)"
   ]
  },
  {
   "cell_type": "code",
   "execution_count": 59,
   "id": "28d319ad-ba9d-4f98-ba4b-e0da8934a462",
   "metadata": {},
   "outputs": [],
   "source": [
    "# create the corresponding comments\n",
    "c7 = [\n",
    "    \"!! upper soil layer soil temperature memory\",\n",
    "    \"!! depth relation for soil temperature memory\",\n",
    "    \"!! frost depth parameter\"\n",
    "]"
   ]
  },
  {
   "cell_type": "code",
   "execution_count": 60,
   "id": "86378c5a-7ea8-4a10-a673-ea85fb5d4266",
   "metadata": {},
   "outputs": [],
   "source": [
    "# append c7 and df16\n",
    "with open(output_file, 'a') as file:\n",
    "    # Iterate over DataFrame rows\n",
    "    for i, (index, row) in enumerate(df16.iterrows()):\n",
    "        # Check if there is a comment line for the current row\n",
    "        if i < len(c7):\n",
    "            # Write the row name, values, and comment on the same line\n",
    "            line = str(index) + '\\t' + '\\t'.join(str(val) for val in row.values) + '\\t' + c7[i] + '\\n'\n",
    "        else:\n",
    "            # Write the row name and values without comment on the same line\n",
    "            line = str(index) + '\\t' + '\\t'.join(str(val) for val in row.values) + '\\n'\n",
    "        \n",
    "        # Write the line to the file\n",
    "        file.write(line)"
   ]
  },
  {
   "cell_type": "markdown",
   "id": "6b3cfbc3-302a-49c0-b09b-1f1f09df6f6d",
   "metadata": {},
   "source": [
    "Runoff parameters"
   ]
  },
  {
   "cell_type": "code",
   "execution_count": 61,
   "id": "aedff227-aa29-4672-99ef-a34e0612bd9f",
   "metadata": {},
   "outputs": [],
   "source": [
    "# create s11\n",
    "s11= [\n",
    "\"\"\"!!\t=======================================================================================================\t\t\t\t\t\t\t\t\t\t\t\t\t\t\t\t\n",
    "!!\t\"SOIL/LAND HYDRAULIC RESPONSE PARAMETERS - recession coef., water retention, infiltration, macropore, surface runoff; etc.\"\t\t\t\t\t\t\t\t\t\t\t\t\t\t\t\t\n",
    "!!\t-----\t\t\t\t\t\t\t\t\t\t\t\t\t\t\t\t\n",
    "!!\tSoil-class parameters\t\t\t\t\t\t\t\t\t\t\t\t\t\t\t\t\n",
    "!!\tS1\tS2\tS3\tS4\tS5\tS6\tS7\tS8\tS9\tS10\tS11\tS12\t\t\t\t\t\n",
    "!! surfacerunoff submodel: 0, soilleakage submodel: 0\"\"\"\n",
    "]"
   ]
  },
  {
   "cell_type": "code",
   "execution_count": 62,
   "id": "641bd8df-7e77-4241-96aa-94c3d81793f4",
   "metadata": {},
   "outputs": [],
   "source": [
    "# write s11 in output file\n",
    "with open(output_file, 'a') as file:\n",
    "    # Write the commented lines\n",
    "    for line in s11:\n",
    "        file.write(line + '\\n')"
   ]
  },
  {
   "cell_type": "code",
   "execution_count": 63,
   "id": "6be2e0d3-e496-4c2d-bfab-8f305cc16d5b",
   "metadata": {},
   "outputs": [],
   "source": [
    "# create df12 for S1-12\n",
    "rrcs1=[0.3201,0.2982,0.2663,0.451,0.1637,0.1637,0.1637,0.1637,0.1637,0.1637,0.1637,0.1637]\n",
    "rrcs2=[0.1612,0.0858,0.1422,0.0112,0.1914,0.1914,0.1914,0.1914,0.1914,0.1914,0.1914,0.1914]\n",
    "trrcs=[0.15,0.15,0.15,0.15,0.15,0.15,0.15,0.15,0.15,0.15,0.15,0.15]\n",
    "mperc1=[63.9842,119.5863,93.9854,111.8318,20.1177,20.1177,20.1177,20.1177,20.1177,20.1177,20.1177,20.1177]\n",
    "mperc2=[97.6492,12.5429,20.0276,79.481,12.0754,12.0754,12.0754,12.0754,12.0754,12.0754,12.0754,12.0754]\n",
    "sfrost=[1,1,1,1,1,1,1,1,1,1,1,1]\n",
    "srrate=[0.4975,0.4489,0.1874,0.4499,0.4956,0.4956,0.4956,0.4956,0.4956,0.4956,0.4956,0.4956]\n",
    "wcwp1=[0.2732,0.214,0.1479,0.4233,0.4941,0.4941,0.4941,0.4941,0.4941,0.4941,0.4941,0.4941]\n",
    "wcwp2=[0.2293,0.256,0.0984,0.4303,0.1308,0.1308,0.1308,0.1308,0.1308,0.1308,0.1308,0.1308]\n",
    "wcwp3=[0.3257,0.058,0.3639,0.0433,0.3632,0.3632,0.3632,0.3632,0.3632,0.3632,0.3632,0.3632]\n",
    "wcfc1=[0.4344,0.1758,0.3526,0.4812,0.4894,0.4894,0.4894,0.4894,0.4894,0.4894,0.4894,0.4894]\n",
    "wcfc2=[0.1392,0.1966,0.3818,0.1163,0.2385,0.2385,0.2385,0.2385,0.2385,0.2385,0.2385,0.2385]\n",
    "wcfc3=[0.2307,0.2075,0.4055,0.077,0.343,0.343,0.343,0.343,0.343,0.343,0.343,0.343]\n",
    "wcep1=[0.8729,0.4168,0.8743,0.5142,0.0117,0.0117,0.0117,0.0117,0.0117,0.0117,0.0117,0.0117]\n",
    "wcep2=[0.1177,0.2773,0.0329,0.8547,0.087,0.087,0.087,0.087,0.087,0.087,0.087,0.087]\n",
    "wcep3=[0.3064,0.8004,0.5832,0.474,0.8299,0.8299,0.8299,0.8299,0.8299,0.8299,0.8299,0.8299]\n",
    "df12_row=['rrcs1','rrcs2','trrcs','mperc1','mperc2','sfrost','srrate','wcwp1','wcwp2','wcwp3',\n",
    "         'wcfc1','wcfc2','wcfc3','wcep1','wcep2','wcep3']\n",
    "df12=pd.DataFrame([rrcs1,rrcs2,trrcs,mperc1,mperc2,sfrost,srrate,wcwp1,wcwp2,wcwp3,wcfc1,\n",
    "                  wcfc2,wcfc3,wcep1,wcep2,wcep3], index=df12_row)"
   ]
  },
  {
   "cell_type": "code",
   "execution_count": 64,
   "id": "d70a6072-bdb8-42b6-9788-1ef3f661b9ae",
   "metadata": {},
   "outputs": [],
   "source": [
    "# create the corresponding comments\n",
    "c66 = [\n",
    "    \"!! recession coefficient for uppermost soil layer\",\n",
    "    \"!! recession coefficient for lowest soil layer\",\n",
    "    \"!! recession coefficient for tile drains\",\n",
    "    \"!! maximum percolation capacity from soil layer one to soil layer two\",\n",
    "    \"!! maximum percolation capacity from soil layer two to soil layer three\",\n",
    "    \"!! frost depth parameter\",\n",
    "    \"!! fraction for surface runoff\",\n",
    "    \"!! wilting point as a fraction for uppermost soil layer\",\n",
    "    \"!! wilting point as a fraction for second soil layer\",\n",
    "    \"!! wilting point as a fraction for lowest soil layer\",\n",
    "    \"!! fraction of soil available for evapotranspiration but not for runoff for uppermost soil layer\",\n",
    "    \"!! fraction of soil available for evapotranspiration but not for runoff for second soil layer\",\n",
    "    \"!! fraction of soil available for evapotranspiration but not for runoff for lowest soil layer\",\n",
    "    \"!! effective porosity as a fraction for uppermost soil layer\",\n",
    "    \"!! effective porosity as a fraction for second soil layer\",\n",
    "    \"!! effective porosity as a fraction for lowest soil layer\",\n",
    "    \"!! recession coefficient for surface runoff should be set to one for lake and riverclasses with floodplains\"\n",
    "]"
   ]
  },
  {
   "cell_type": "code",
   "execution_count": 65,
   "id": "cc3fb7d2-1099-447c-b9c8-5f9a00c32f98",
   "metadata": {},
   "outputs": [],
   "source": [
    "# append c66 and df12\n",
    "with open(output_file, 'a') as file:\n",
    "    # Iterate over DataFrame rows\n",
    "    for i, (index, row) in enumerate(df12.iterrows()):\n",
    "        # Check if there is a comment line for the current row\n",
    "        if i < len(c66):\n",
    "            # Write the row name, values, and comment on the same line\n",
    "            line = str(index) + '\\t' + '\\t'.join(str(val) for val in row.values) + '\\t' + c66[i] + '\\n'\n",
    "        else:\n",
    "            # Write the row name and values without comment on the same line\n",
    "            line = str(index) + '\\t' + '\\t'.join(str(val) for val in row.values) + '\\n'\n",
    "        \n",
    "        # Write the line to the file\n",
    "        file.write(line)"
   ]
  },
  {
   "cell_type": "code",
   "execution_count": 66,
   "id": "911a2131-311e-4c3c-a3e9-abe95c419216",
   "metadata": {},
   "outputs": [],
   "source": [
    "# create df13\n",
    "df13_row=['rrcs3']\n",
    "df13_val=[[0.1612]]\n",
    "df13=pd.DataFrame(df13_val, index=df13_row, columns=None)"
   ]
  },
  {
   "cell_type": "code",
   "execution_count": 67,
   "id": "8b7f78e0-0594-4c43-9e1e-82617043c220",
   "metadata": {},
   "outputs": [],
   "source": [
    "# create the corresponding comments\n",
    "c2745 = [\n",
    "    \"!! recession coefficient for slope dependence (upper layer)\",\n",
    "]"
   ]
  },
  {
   "cell_type": "code",
   "execution_count": 68,
   "id": "a3333b91-b5a1-4e8a-9d0a-46ddec42173b",
   "metadata": {},
   "outputs": [],
   "source": [
    "# append c2745 and df13\n",
    "with open(output_file, 'a') as file:\n",
    "    # Iterate over DataFrame rows\n",
    "    for i, (index, row) in enumerate(df13.iterrows()):\n",
    "        # Check if there is a comment line for the current row\n",
    "        if i < len(c2745):\n",
    "            # Write the row name, values, and comment on the same line\n",
    "            line = str(index) + '\\t' + '\\t'.join(str(val) for val in row.values) + '\\t' + c2745[i] + '\\n'\n",
    "        else:\n",
    "            # Write the row name and values without comment on the same line\n",
    "            line = str(index) + '\\t' + '\\t'.join(str(val) for val in row.values) + '\\n'\n",
    "        \n",
    "        # Write the line to the file\n",
    "        file.write(line)"
   ]
  },
  {
   "cell_type": "code",
   "execution_count": 69,
   "id": "88ab8cf1-037b-482f-9bf2-eaa29653874b",
   "metadata": {},
   "outputs": [],
   "source": [
    "#create df147\n",
    "df147_row=['srrcs']\n",
    "srrcs=[0.1259,0.0701,0.187,0.1977,0.0951,0.1208,0.1594,0.0694,0.1136,0.0575,1,0.1213,0.1213,0.1213,0.1213,0.1213,0.1213]\n",
    "df147=pd.DataFrame([srrcs], index=df147_row)"
   ]
  },
  {
   "cell_type": "code",
   "execution_count": 70,
   "id": "7288170f-4a39-4ed1-b9e9-d2784ed46ff8",
   "metadata": {},
   "outputs": [],
   "source": [
    "# create the corresponding comments\n",
    "c458 = [\n",
    "    \"!! (landuse) recession coefficient for surface runoff should be set to one for lake and riverclasses with floodplains\"\n",
    "]"
   ]
  },
  {
   "cell_type": "code",
   "execution_count": 71,
   "id": "d9c19430-1431-4ca1-b2dd-f2f639db0959",
   "metadata": {},
   "outputs": [],
   "source": [
    "# append c458 and df147\n",
    "with open(output_file, 'a') as file:\n",
    "    # Iterate over DataFrame rows\n",
    "    for i, (index, row) in enumerate(df147.iterrows()):\n",
    "        # Check if there is a comment line for the current row\n",
    "        if i < len(c458):\n",
    "            # Write the row name, values, and comment on the same line\n",
    "            line = str(index) + '\\t' + '\\t'.join(str(val) for val in row.values) + '\\t' + c458[i] + '\\n'\n",
    "        else:\n",
    "            # Write the row name and values without comment on the same line\n",
    "            line = str(index) + '\\t' + '\\t'.join(str(val) for val in row.values) + '\\n'\n",
    "        \n",
    "        # Write the line to the file\n",
    "        file.write(line)"
   ]
  },
  {
   "cell_type": "markdown",
   "id": "b37341d3-c375-4791-9258-149acf324896",
   "metadata": {},
   "source": [
    "Groundwater flow parameters"
   ]
  },
  {
   "cell_type": "code",
   "execution_count": 72,
   "id": "53f3cb7e-16fb-4e80-8f90-c030643c2252",
   "metadata": {},
   "outputs": [],
   "source": [
    "# create s13\n",
    "s13= [\n",
    "\"\"\"!!\t-----\t\t\t\t\t\t\t\t\t\t\t\t\t\t\t\t\n",
    "!!\tRegional groundwater outflow\t\t\t\t\t\t\t\t\t\t\t\t\t\t\t\t\n",
    "!! for deepground submodel: 0\"\"\"\n",
    "]"
   ]
  },
  {
   "cell_type": "code",
   "execution_count": 73,
   "id": "1f7475f2-5448-4c31-b531-b5d06369b3b1",
   "metadata": {},
   "outputs": [],
   "source": [
    "# write s13 in output file\n",
    "with open(output_file, 'a') as file:\n",
    "    # Write the commented lines\n",
    "    for line in s13:\n",
    "        file.write(line + '\\n')"
   ]
  },
  {
   "cell_type": "code",
   "execution_count": 74,
   "id": "70d48515-1545-422d-bbc9-45b382beee1e",
   "metadata": {},
   "outputs": [],
   "source": [
    "# create df14\n",
    "df14_row=['rcgrw']\n",
    "df14_val=[0]\n",
    "df14=pd.DataFrame(df14_val, index=df14_row, columns=None)"
   ]
  },
  {
   "cell_type": "code",
   "execution_count": 75,
   "id": "eccba46e-489b-4800-8aca-43ed02b545aa",
   "metadata": {},
   "outputs": [],
   "source": [
    "# create the corresponding comments\n",
    "c6 = [\n",
    "    \"!! recession coefficient for regional groundwater outflow from soil layers (set to zero because we are not considering deepground)\",\n",
    "]"
   ]
  },
  {
   "cell_type": "code",
   "execution_count": 76,
   "id": "ed3caa6f-ca29-4c2b-bf09-99d5460cfff0",
   "metadata": {},
   "outputs": [],
   "source": [
    "# append c6 and df14\n",
    "with open(output_file, 'a') as file:\n",
    "    # Iterate over DataFrame rows\n",
    "    for i, (index, row) in enumerate(df14.iterrows()):\n",
    "        # Check if there is a comment line for the current row\n",
    "        if i < len(c6):\n",
    "            # Write the row name, values, and comment on the same line\n",
    "            line = str(index) + '\\t' + '\\t'.join(str(val) for val in row.values) + '\\t' + c6[i] + '\\n'\n",
    "        else:\n",
    "            # Write the row name and values without comment on the same line\n",
    "            line = str(index) + '\\t' + '\\t'.join(str(val) for val in row.values) + '\\n'\n",
    "        \n",
    "        # Write the line to the file\n",
    "        file.write(line)"
   ]
  },
  {
   "cell_type": "markdown",
   "id": "275b8b29-757e-416b-8e5f-d71612103bfd",
   "metadata": {},
   "source": [
    "Lake and river parameters"
   ]
  },
  {
   "cell_type": "code",
   "execution_count": 77,
   "id": "a2c10d25-cd93-44b2-bcd8-327fb6703665",
   "metadata": {},
   "outputs": [],
   "source": [
    "# create s16\n",
    "s16= [\n",
    "\"\"\"!!\t-----\t\t\t\t\t\t\t\t\t\t\t\t\t\t\t\t\n",
    "!!\t=======================================================================================================\t\t\t\t\t\t\t\t\t\t\t\t\t\t\t\t\n",
    "!!\tLAKE DISCHARGE\t\t\t\t\t\t\t\t\t\t\t\t\t\t\t\t\n",
    "!! for ilake and olake\n",
    "!!\t-----\t\t\t\"\"\"\n",
    "]"
   ]
  },
  {
   "cell_type": "code",
   "execution_count": 78,
   "id": "3768ee52-1eae-4467-b367-bc36c0be3a16",
   "metadata": {},
   "outputs": [],
   "source": [
    "# write s16 in output file\n",
    "with open(output_file, 'a') as file:\n",
    "    # Write the commented lines\n",
    "    for line in s16:\n",
    "        file.write(line + '\\n')"
   ]
  },
  {
   "cell_type": "code",
   "execution_count": 79,
   "id": "a73263e8-437d-4311-8965-6b2285ca1512",
   "metadata": {},
   "outputs": [],
   "source": [
    "# create df17\n",
    "df17_row=['gldepi','gldepo','gicatch','gratp','gratk','grata','limqprod']\n",
    "df17_val=[5,15,1,4.1172,28.8373,0.2658,0.25] # this number makes no sense\n",
    "df17=pd.DataFrame(df17_val, index=df17_row, columns=None)"
   ]
  },
  {
   "cell_type": "code",
   "execution_count": 80,
   "id": "01d17770-2c99-4346-874e-e01294fb8e6a",
   "metadata": {},
   "outputs": [],
   "source": [
    "# create the corresponding comments\n",
    "c8 = [\n",
    "    \"!! depth for all ilakes\",\n",
    "    \"!! depth of olake used if lake_depth in GeoData/LakeData/DamData is zero or negative\",\n",
    "    \"!! fraction of local runoff that goes through ilake\",\n",
    "    \"!! parameter of rating curve for ilake outflow\",\n",
    "    \"!! discharge curve for lake\",\n",
    "    \"!! upstream area dependence of discharge curve for lake \",\n",
    "    \"!! limit for water stage with reduced production flow from dam\"\n",
    "]"
   ]
  },
  {
   "cell_type": "code",
   "execution_count": 81,
   "id": "9bbe14ea-7871-4761-99e3-bdf05def1d86",
   "metadata": {},
   "outputs": [],
   "source": [
    "# append c8 and df17\n",
    "with open(output_file, 'a') as file:\n",
    "    # Iterate over DataFrame rows\n",
    "    for i, (index, row) in enumerate(df17.iterrows()):\n",
    "        # Check if there is a comment line for the current row\n",
    "        if i < len(c8):\n",
    "            # Write the row name, values, and comment on the same line\n",
    "            line = str(index) + '\\t' + '\\t'.join(str(val) for val in row.values) + '\\t' + c8[i] + '\\n'\n",
    "        else:\n",
    "            # Write the row name and values without comment on the same line\n",
    "            line = str(index) + '\\t' + '\\t'.join(str(val) for val in row.values) + '\\n'\n",
    "        \n",
    "        # Write the line to the file\n",
    "        file.write(line)"
   ]
  },
  {
   "cell_type": "code",
   "execution_count": 82,
   "id": "6f86cf13-d463-4d15-a82c-ce30600a522b",
   "metadata": {},
   "outputs": [],
   "source": [
    "# create s17\n",
    "s17= [\n",
    "\"\"\"!!\t-----\t\t\t\t\t\t\t\t\t\t\t\t\t\t\t\t\n",
    "!!\t\"ILAKE and OLAKE REGIONAL PARAMETERS (10 ilakeregions and 5 olakeregions, defined in geodata)\"\t\t\t\t\t\t\t\t\t\t\t\t\t\t\t\t\n",
    "!!\tILAKE parameters\t\t\t\t\t\t\t\t\t\t\t\t\t\t\t\t\n",
    "!!\tPPR (Prairie Pothole Region - regions 1:5) & Reg (non-prairie region 6:10)\t\t\t\t\t\t\t\t\t\t\t\t\t\t\t\t\n",
    "!! ilRegion\tPPR 1\tPPR 2\tPPR 3\tPPR 4\tPPR 5\tReg 6\tReg 7\tReg 8\tReg 9\tReg 10\n",
    "!! regions are not defined in GeoData so will try to comment out the extra ones\"\"\"\n",
    "]"
   ]
  },
  {
   "cell_type": "code",
   "execution_count": 83,
   "id": "4084b2f1-f3a3-4405-9286-d4a289f69e56",
   "metadata": {},
   "outputs": [],
   "source": [
    "# write s17 in output file\n",
    "with open(output_file, 'a') as file:\n",
    "    # Write the commented lines\n",
    "    for line in s17:\n",
    "        file.write(line + '\\n')"
   ]
  },
  {
   "cell_type": "code",
   "execution_count": 84,
   "id": "f782a8aa-c0c5-43ba-870f-4d22f84af26a",
   "metadata": {},
   "outputs": [],
   "source": [
    "# create df18 for PPR 1-10\n",
    "ilratk=[77.1954] #,70.9398,69.6528,58.19,54.4187,48.58838,42.75806,36.92774,31.09742,25.2671]\n",
    "ilratp=[2.7478] #,2.1806,2.5058,2.972,2.851,2.95078,3.05056,3.15034,3.25012,3.3499]\n",
    "illdepth=[5]# ,5,5,5,5,5,5,5,5,5]\n",
    "ilicatch=[0.4532]# ,0.7663,0.6392,0.4856,0.5786,0.57561,0.57262,0.56963,0.56664,0.56365]\n",
    "df18_row=['ilratk','ilratp','illdepth','ilicatch']\n",
    "df18=pd.DataFrame([ilratk,ilratp,illdepth,ilicatch], index=df18_row)"
   ]
  },
  {
   "cell_type": "code",
   "execution_count": 85,
   "id": "4789cf07-8c24-4e69-9790-67b900322eff",
   "metadata": {},
   "outputs": [],
   "source": [
    "# create the corresponding comments\n",
    "c88 = [\n",
    "    \"!! parameter of rating curve for ilake outflow \",\n",
    "    \"!! parameter of rating curve for ilake outflow\",\n",
    "    \"!! depth for ilakes\",\n",
    "    \"!! fraction of local runoff that goes through the ilake\"\n",
    "]\n",
    "    "
   ]
  },
  {
   "cell_type": "code",
   "execution_count": 86,
   "id": "c5ee0e92-860d-40b1-ac16-922097ca154b",
   "metadata": {},
   "outputs": [],
   "source": [
    "# append c88 and df18\n",
    "with open(output_file, 'a') as file:\n",
    "    # Iterate over DataFrame rows\n",
    "    for i, (index, row) in enumerate(df18.iterrows()):\n",
    "        # Check if there is a comment line for the current row\n",
    "        if i < len(c88):\n",
    "            # Write the row name, values, and comment on the same line\n",
    "            line = str(index) + '\\t' + '\\t'.join(str(val) for val in row.values) + '\\t' + c88[i] + '\\n'\n",
    "        else:\n",
    "            # Write the row name and values without comment on the same line\n",
    "            line = str(index) + '\\t' + '\\t'.join(str(val) for val in row.values) + '\\n'\n",
    "        \n",
    "        # Write the line to the file\n",
    "        file.write(line)"
   ]
  },
  {
   "cell_type": "code",
   "execution_count": 87,
   "id": "94cd65ff-0975-4af3-b134-de228447e8de",
   "metadata": {},
   "outputs": [],
   "source": [
    "# create s18\n",
    "s18= [\n",
    "\"\"\"!! \tOLAKE parameters\t\t\t\t\t\t\t\t\t\t\t\t\t\t\t\t\n",
    "!! Olregion\tolregion 1\tolregion 2\tolregion 3\tolregion 4\tolregion 5\t\t\t\n",
    "!! regions are not defined in GeoData so will try to comment out the extra ones\"\"\"\n",
    "]"
   ]
  },
  {
   "cell_type": "code",
   "execution_count": 88,
   "id": "43048cc1-c999-4ffe-91ae-3df869e8f067",
   "metadata": {},
   "outputs": [],
   "source": [
    "# write s18 in output file\n",
    "with open(output_file, 'a') as file:\n",
    "    # Write the commented lines\n",
    "    for line in s18:\n",
    "        file.write(line + '\\n')"
   ]
  },
  {
   "cell_type": "code",
   "execution_count": 89,
   "id": "34fd801e-ec0d-4177-958f-bd4aa0eab9fa",
   "metadata": {},
   "outputs": [],
   "source": [
    "# create df19 for region 1-5\n",
    "olratk=[94.2695] #,55.6461,97.1992,93.3254,56.2436]\n",
    "olratp=[1.3325] #,3.8671,1.5373,4.351,3.0474]\n",
    "olldepth=[15]# ,15,15,15,15]\n",
    "df19_row=['olratk','olratp','olldepth']\n",
    "df19=pd.DataFrame([olratk,olratp,olldepth], index=df19_row)"
   ]
  },
  {
   "cell_type": "code",
   "execution_count": 90,
   "id": "8292319a-1cf3-4b07-9d67-d279ac0e5cf6",
   "metadata": {},
   "outputs": [],
   "source": [
    "# create the corresponding comments\n",
    "c99 = [\n",
    "    \"!! parameter of rating curve for outlet lake outflow\",\n",
    "    \"!! parameter of rating curve for outlet lake outflow\",\n",
    "    \"!! depth for outlet lake\"\n",
    "]"
   ]
  },
  {
   "cell_type": "code",
   "execution_count": 91,
   "id": "65fcd5e8-0521-47f9-96c5-6a5d0b7dbac2",
   "metadata": {},
   "outputs": [],
   "source": [
    "# append c99 and df19\n",
    "with open(output_file, 'a') as file:\n",
    "    # Iterate over DataFrame rows\n",
    "    for i, (index, row) in enumerate(df19.iterrows()):\n",
    "        # Check if there is a comment line for the current row\n",
    "        if i < len(c99):\n",
    "            # Write the row name, values, and comment on the same line\n",
    "            line = str(index) + '\\t' + '\\t'.join(str(val) for val in row.values) + '\\t' + c99[i] + '\\n'\n",
    "        else:\n",
    "            # Write the row name and values without comment on the same line\n",
    "            line = str(index) + '\\t' + '\\t'.join(str(val) for val in row.values) + '\\n'\n",
    "        \n",
    "        # Write the line to the file\n",
    "        file.write(line)"
   ]
  },
  {
   "cell_type": "markdown",
   "id": "4487ed74-c398-453d-9987-de452fa2d41f",
   "metadata": {},
   "source": [
    "River routing parameters"
   ]
  },
  {
   "cell_type": "code",
   "execution_count": 92,
   "id": "37f5b7b9-643d-4b79-9e79-383dadfb79bc",
   "metadata": {},
   "outputs": [],
   "source": [
    "# create s19\n",
    "s19= [\n",
    "\"\"\"!!\t\t\t\t\t\t\t\t\t\t\t\t\t\t\t\t\t\n",
    "!!\t=======================================================================================================\t\t\t\t\t\t\t\t\t\t\t\t\t\t\t\t\n",
    "!!\tRIVER ROUTING\t\t\t\t\t\t\t\t\t\t\t\t\t\t\t\t\n",
    "!!\t-----\t\t\t\n",
    "!! for riverflow submodel:1?\"\"\"\n",
    "]"
   ]
  },
  {
   "cell_type": "code",
   "execution_count": 93,
   "id": "c2e94c67-71dd-41e3-a601-0040fa2862f9",
   "metadata": {},
   "outputs": [],
   "source": [
    "# write s19 in output file\n",
    "with open(output_file, 'a') as file:\n",
    "    # Write the commented lines\n",
    "    for line in s19:\n",
    "        file.write(line + '\\n')"
   ]
  },
  {
   "cell_type": "code",
   "execution_count": 94,
   "id": "20a72e8d-27f7-4629-8d03-43f4817d5a69",
   "metadata": {},
   "outputs": [],
   "source": [
    "# create df19\n",
    "df19_row=['damp','rivvel','qmean']\n",
    "df19_val=[0.1614,9.9267,200]\n",
    "df19=pd.DataFrame(df19_val, index=df19_row, columns=None)"
   ]
  },
  {
   "cell_type": "code",
   "execution_count": 95,
   "id": "555af63b-d329-4895-a213-2a166f3b5660",
   "metadata": {},
   "outputs": [],
   "source": [
    "# create the corresponding comments\n",
    "c9 = [\n",
    "    \"!! fraction of delay in the watercourse which also causes damping\",\n",
    "    \"!! celerity of flood in watercourse\",\n",
    "    \"!! initial value for calculation of mean flow \",\n",
    "]"
   ]
  },
  {
   "cell_type": "code",
   "execution_count": 96,
   "id": "a73c61d1-bba3-4874-87de-3f44e308f560",
   "metadata": {},
   "outputs": [],
   "source": [
    "# append c9 and df19\n",
    "with open(output_file, 'a') as file:\n",
    "    # Iterate over DataFrame rows\n",
    "    for i, (index, row) in enumerate(df19.iterrows()):\n",
    "        # Check if there is a comment line for the current row\n",
    "        if i < len(c9):\n",
    "            # Write the row name, values, and comment on the same line\n",
    "            line = str(index) + '\\t' + '\\t'.join(str(val) for val in row.values) + '\\t' + c9[i] + '\\n'\n",
    "        else:\n",
    "            # Write the row name and values without comment on the same line\n",
    "            line = str(index) + '\\t' + '\\t'.join(str(val) for val in row.values) + '\\n'\n",
    "        \n",
    "        # Write the line to the file\n",
    "        file.write(line)"
   ]
  },
  {
   "cell_type": "code",
   "execution_count": 97,
   "id": "ad46f232-476a-44f8-8a88-65d556c7a9c0",
   "metadata": {},
   "outputs": [],
   "source": [
    "# create s20\n",
    "s20= [\n",
    "\"\"\"!!\t=======================================================================================================\t\t\t\t\t\t\t\t\t\t\t\t\t\t\t\t\n",
    "!!\t\"WATER TEMPERATURE - initial water temperature is set by iniT2, sorted under soil temperature\"\t\t\t\t\t\t\t\t\t\t\t\t\t\t\t\t\n",
    "!!\t-----\t\n",
    "!! for lakeriverice submodel, we are using 0 so this is UNIMPORTANT\"\"\"\n",
    "]"
   ]
  },
  {
   "cell_type": "code",
   "execution_count": 98,
   "id": "19301af1-d459-4fc6-8eed-55c087f21a08",
   "metadata": {},
   "outputs": [],
   "source": [
    "# write s20 in output file\n",
    "with open(output_file, 'a') as file:\n",
    "    # Write the commented lines\n",
    "    for line in s20:\n",
    "        file.write(line + '\\n')"
   ]
  },
  {
   "cell_type": "code",
   "execution_count": 99,
   "id": "5c7d88c4-8111-4f69-8c9d-bcc38233bb23",
   "metadata": {},
   "outputs": [],
   "source": [
    "# create df20\n",
    "df20_row=['upper2deep','tcfriver','scfriver','ccfriver','lcfriver','tcflake','scflake','ccflake','lcflake','stbcorr1','stbcorr2','stbcorr3']\n",
    "df20_val=[2.5,30,0.4,-0.3,-0.1,40,0.63,0,0,0.4,0.25,0]\n",
    "df20=pd.DataFrame(df20_val, index=df20_row, columns=None)"
   ]
  },
  {
   "cell_type": "code",
   "execution_count": 100,
   "id": "baa2ae9c-0ed3-439b-a59d-83c24006dcdc",
   "metadata": {},
   "outputs": [],
   "source": [
    "# create the corresponding comments\n",
    "c10 = [\n",
    "    \"!! heat transfer parameter for water temperature T two between lake parts\",\n",
    "    \"!! air-riverwater heat flow temperature difference coefficient\",\n",
    "    \"!! air-riverwater heat flow solar radiation coefficient\",\n",
    "    \"!! air-riverwater heat flow constant coefficient\",\n",
    "    \"!! air-riverwater heat flow linear coefficient\",\n",
    "    \"!! air-lakewater heat flow temperature difference coefficient\",\n",
    "    \"!! air-lakewater heat flow solar radiation coefficient\",\n",
    "    \"!! air-lakewater heat flow constant coefficient\",\n",
    "    \"!! air-lakewater heat flow linear coefficient\",\n",
    "    \"!! parameter for stability correction\",\n",
    "    \"!! parameter for stability correction\",\n",
    "    \"!! parameter for stability correction\"\n",
    "]"
   ]
  },
  {
   "cell_type": "code",
   "execution_count": 101,
   "id": "db69d62f-2e9c-41a8-8138-063ce1b13544",
   "metadata": {},
   "outputs": [],
   "source": [
    "# append c10 and df20\n",
    "with open(output_file, 'a') as file:\n",
    "    # Iterate over DataFrame rows\n",
    "    for i, (index, row) in enumerate(df20.iterrows()):\n",
    "        # Check if there is a comment line for the current row\n",
    "        if i < len(c10):\n",
    "            # Write the row name, values, and comment on the same line\n",
    "            line = str(index) + '\\t' + '\\t'.join(str(val) for val in row.values) + '\\t' + c10[i] + '\\n'\n",
    "        else:\n",
    "            # Write the row name and values without comment on the same line\n",
    "            line = str(index) + '\\t' + '\\t'.join(str(val) for val in row.values) + '\\n'\n",
    "        \n",
    "        # Write the line to the file\n",
    "        file.write(line)"
   ]
  },
  {
   "cell_type": "code",
   "execution_count": 102,
   "id": "604fedb1-6ad8-4453-b490-51fedabcd54b",
   "metadata": {},
   "outputs": [],
   "source": [
    "# create s21\n",
    "s21= [\n",
    "\"\"\"!!\t=======================================================================================================\t\t\t\t\t\t\t\t\t\t\t\t\t\t\t\t\n",
    "!!\tLAKE AND RIVER ICE\t\t\t\t\t\t\t\t\t\t\t\t\t\t\t\t\n",
    "!!\t-----\t\"\"\"\n",
    "]"
   ]
  },
  {
   "cell_type": "code",
   "execution_count": 103,
   "id": "01cc61fc-1f76-4816-b480-09ccc1061838",
   "metadata": {},
   "outputs": [],
   "source": [
    "# write s21 in output file\n",
    "with open(output_file, 'a') as file:\n",
    "    # Write the commented lines\n",
    "    for line in s21:\n",
    "        file.write(line + '\\n')"
   ]
  },
  {
   "cell_type": "code",
   "execution_count": 104,
   "id": "89d9378b-0e96-4442-8582-610cb2a88fbc",
   "metadata": {},
   "outputs": [],
   "source": [
    "# create df21\n",
    "df21_row=['licewme','licetf','licesndens','licekika','licekexp','licetmelt','licewcorr']\n",
    "df21_val=[0.1,0,0.0024,10,1.88,1.25,0.5]\n",
    "df21=pd.DataFrame(df21_val, index=df21_row, columns=None)"
   ]
  },
  {
   "cell_type": "code",
   "execution_count": 105,
   "id": "9a7c92c6-6374-4faf-8b7e-72d6777a9788",
   "metadata": {},
   "outputs": [],
   "source": [
    "# create the corresponding comments\n",
    "c11 = [\n",
    "    \"!! lake ice, water temperature melt efficiency (licewme)??\",\n",
    "    \"!! lake ice, freezing temperature\",\n",
    "    \"!! lake ice, snow compaction parameter\",\n",
    "    \"!! lake ice\",\n",
    "    \"!! lake ice\",\n",
    "    \"!! lake ice, degreeday factor for ice melt\",\n",
    "    \"!! lake ice, snow fall reduction for winddrift (multiplicative)\",\n",
    "]"
   ]
  },
  {
   "cell_type": "code",
   "execution_count": 106,
   "id": "d4f56d7b-891b-4725-97d4-26bda4370342",
   "metadata": {},
   "outputs": [],
   "source": [
    "# append c11 and df21\n",
    "with open(output_file, 'a') as file:\n",
    "    # Iterate over DataFrame rows\n",
    "    for i, (index, row) in enumerate(df21.iterrows()):\n",
    "        # Check if there is a comment line for the current row\n",
    "        if i < len(c11):\n",
    "            # Write the row name, values, and comment on the same line\n",
    "            line = str(index) + '\\t' + '\\t'.join(str(val) for val in row.values) + '\\t' + c11[i] + '\\n'\n",
    "        else:\n",
    "            # Write the row name and values without comment on the same line\n",
    "            line = str(index) + '\\t' + '\\t'.join(str(val) for val in row.values) + '\\n'\n",
    "        \n",
    "        # Write the line to the file\n",
    "        file.write(line)"
   ]
  },
  {
   "cell_type": "code",
   "execution_count": 107,
   "id": "0c6a065a-4475-43b4-9d2d-6506d49aa60d",
   "metadata": {},
   "outputs": [],
   "source": [
    "# create s22\n",
    "s22= [\n",
    "\"\"\"!!\t-----\t\t\"\"\"\n",
    "]"
   ]
  },
  {
   "cell_type": "code",
   "execution_count": 108,
   "id": "46a69aa6-bdb0-43e9-b230-250b466af801",
   "metadata": {},
   "outputs": [],
   "source": [
    "# write s22 in output file\n",
    "with open(output_file, 'a') as file:\n",
    "    # Write the commented lines\n",
    "    for line in s22:\n",
    "        file.write(line + '\\n')"
   ]
  },
  {
   "cell_type": "code",
   "execution_count": 109,
   "id": "aa99cd6d-60e2-4f1e-8bbd-a7ccd86bc2a9",
   "metadata": {},
   "outputs": [],
   "source": [
    "# create df22\n",
    "df22_row=['ricewme','ricetf','ricesndens','ricekika','ricekexp','ricetmelt']\n",
    "df22_val=[0.2,0,0.0024,10,1.88,1.25]\n",
    "df22=pd.DataFrame(df22_val, index=df22_row, columns=None)"
   ]
  },
  {
   "cell_type": "code",
   "execution_count": 110,
   "id": "a3ce59df-8ade-4536-89a2-c0a72edda544",
   "metadata": {},
   "outputs": [],
   "source": [
    "# create the corresponding comments\n",
    "c12 = [\n",
    "    \"!! river ice water temperature melt efficiency\",\n",
    "    \"!! river ice freezing temperature\",\n",
    "    \"!! river ice snow compaction parameter\",\n",
    "    \"!! river ice \",\n",
    "    \"!! river ice\",\n",
    "    \"!! river ice degreeday factor for ice melt\",\n",
    "]"
   ]
  },
  {
   "cell_type": "code",
   "execution_count": 111,
   "id": "1ac73f1b-d251-4a2c-9160-974565b81962",
   "metadata": {},
   "outputs": [],
   "source": [
    "# append c12 and df22\n",
    "with open(output_file, 'a') as file:\n",
    "    # Iterate over DataFrame rows\n",
    "    for i, (index, row) in enumerate(df22.iterrows()):\n",
    "        # Check if there is a comment line for the current row\n",
    "        if i < len(c12):\n",
    "            # Write the row name, values, and comment on the same line\n",
    "            line = str(index) + '\\t' + '\\t'.join(str(val) for val in row.values) + '\\t' + c12[i] + '\\n'\n",
    "        else:\n",
    "            # Write the row name and values without comment on the same line\n",
    "            line = str(index) + '\\t' + '\\t'.join(str(val) for val in row.values) + '\\n'\n",
    "        \n",
    "        # Write the line to the file\n",
    "        file.write(line)"
   ]
  },
  {
   "cell_type": "code",
   "execution_count": 112,
   "id": "a2d84866-cf1b-43b6-a785-dcbfe4c6cc5c",
   "metadata": {},
   "outputs": [],
   "source": [
    "# create s23\n",
    "s23= [\n",
    "\"\"\"!!\t\t\t\t\t\t\t\t\t\t\t\t\t\t\t\t\t\n",
    "!!=======================================================================================================\t\t\t\t\t\t\t\t\t\t\t\t\t\t\t\t\t\n",
    "!!  IRRIGATION:\t\t\t\t\t\t\t\t\t\t\t\t\t\t\t\t\t\n",
    "!!__________\t\"\"\"\n",
    "]"
   ]
  },
  {
   "cell_type": "code",
   "execution_count": 113,
   "id": "ea3a3faa-bbf1-4ede-9a82-d44126f8775b",
   "metadata": {},
   "outputs": [],
   "source": [
    "# write s23 in output file\n",
    "with open(output_file, 'a') as file:\n",
    "    # Write the commented lines\n",
    "    for line in s23:\n",
    "        file.write(line + '\\n')"
   ]
  },
  {
   "cell_type": "code",
   "execution_count": 114,
   "id": "4b15bc3a-a739-4c7d-a6fe-25952b780f0a",
   "metadata": {},
   "outputs": [],
   "source": [
    "# create df23\n",
    "df23_row=['sswcorr','iwdfrac','regirr','immdepth','irrcomp']\n",
    "df23_val=[0.66,1,1,30,0]\n",
    "df23=pd.DataFrame(df23_val, index=df23_row, columns=None)"
   ]
  },
  {
   "cell_type": "code",
   "execution_count": 115,
   "id": "5c4f2776-01f7-4da0-a51e-e56b9bc2b745",
   "metadata": {},
   "outputs": [],
   "source": [
    "# append df23\n",
    "with open(output_file, 'a') as file:\n",
    "    # Write the DataFrame to the file\n",
    "    df23.to_csv(file, sep='\\t', index=True, header=False, line_terminator='\\n')"
   ]
  },
  {
   "cell_type": "code",
   "execution_count": 116,
   "id": "98bf409d-7c2b-4af5-ac02-b334a44cccc9",
   "metadata": {},
   "outputs": [],
   "source": [
    "# create s24\n",
    "s24= [\n",
    "\"\"\"!!\t\t\t\t\t\t\t\t\t\t\t\t\t\t\t\t\t\n",
    "!!\t=======================================================================================================\t\t\t\t\t\t\t\t\t\t\t\t\t\t\t\t\n",
    "!!\tParameters introduced for T2 model purposes - they are not calibrated\t\"\"\"\n",
    "]"
   ]
  },
  {
   "cell_type": "code",
   "execution_count": 117,
   "id": "2ff60e06-ae45-406e-a5de-a21eb6e2e2fe",
   "metadata": {},
   "outputs": [],
   "source": [
    "# write s24 in output file\n",
    "with open(output_file, 'a') as file:\n",
    "    # Write the commented lines\n",
    "    for line in s24:\n",
    "        file.write(line + '\\n')"
   ]
  },
  {
   "cell_type": "code",
   "execution_count": 118,
   "id": "939115b4-7805-4597-b597-341c9e96e446",
   "metadata": {},
   "outputs": [],
   "source": [
    "# create df24\n",
    "df24_row=['maxwidth','limt2exch','deadl','deadm','fraxe','fraxm','t2mix']\n",
    "df24_val=[1000,0.05,0.005,0.005,1,0,0]\n",
    "df24=pd.DataFrame(df24_val, index=df24_row, columns=None)"
   ]
  },
  {
   "cell_type": "code",
   "execution_count": 119,
   "id": "53f07968-3b26-47d3-99e3-a937d24fdc76",
   "metadata": {},
   "outputs": [],
   "source": [
    "# append df24\n",
    "with open(output_file, 'a') as file:\n",
    "    # Write the DataFrame to the file\n",
    "    df24.to_csv(file, sep='\\t', index=True, header=False, line_terminator='\\n')"
   ]
  }
 ],
 "metadata": {
  "kernelspec": {
   "display_name": "easymore-env",
   "language": "python",
   "name": "easymore-env"
  },
  "language_info": {
   "codemirror_mode": {
    "name": "ipython",
    "version": 3
   },
   "file_extension": ".py",
   "mimetype": "text/x-python",
   "name": "python",
   "nbconvert_exporter": "python",
   "pygments_lexer": "ipython3",
   "version": "3.8.10"
  }
 },
 "nbformat": 4,
 "nbformat_minor": 5
}
