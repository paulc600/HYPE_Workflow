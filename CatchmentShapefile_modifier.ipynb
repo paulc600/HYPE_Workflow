{
 "cells": [
  {
   "cell_type": "markdown",
   "id": "88287bc3-15b5-4665-bf21-17473ed25846",
   "metadata": {},
   "source": [
    "# Necessary imports\n",
    "\n",
    "We import libraries that are needed for this simple process. This program imports a catchment shapefile in a form of a `geopandas` GeoDataFrame containing catchment IDs with no rivers within them (i.e., catchments with missing values for their corresponding river segments.) It then assigns a river ID (not real and fictitious) so it can be used as the common river and catchment ID (or a column ID) in the HYPE's input `GeoData.txt` file."
   ]
  },
  {
   "cell_type": "code",
   "execution_count": null,
   "id": "dcd314d7-233e-44ea-9df2-8aaf83717119",
   "metadata": {},
   "outputs": [],
   "source": [
    "import geopandas as gpd # version 0.13.2"
   ]
  },
  {
   "cell_type": "markdown",
   "id": "146ad783-ee56-46ba-b347-3cebb5898436",
   "metadata": {},
   "source": [
    "Reading the Shapefile of interest. For the IJC St. Mary and Milk Hydrological modelling study, we have used the geofabric of the following link: https://github.com/kasra-keshavarz/StMaryMilk2023-UofC (with commit hash [cfe40d4\n",
    "](https://github.com/kasra-keshavarz/StMaryMilk2023-UofC/tree/cfe40d4acb2762ff43b02570d1ae82ee726988e4))"
   ]
  },
  {
   "cell_type": "code",
   "execution_count": null,
   "id": "1a3aa3d4-cbed-469b-9261-fe6e1539114e",
   "metadata": {},
   "outputs": [],
   "source": [
    "# read shapefile with river ID 0\n",
    "shapefile_path = '/home/paulc600/github/StMaryMilk2023-UofC/modified_TGF/smm_tgf_modified/smm_cat.shp' # modify as needed\n",
    "shp=gpd.read_file(shapefile_path) # reading shapefile in form of a GeoPandas GeoDataFrame"
   ]
  },
  {
   "cell_type": "markdown",
   "id": "d374af31-b35f-47b8-b7da-cbac7e26f72e",
   "metadata": {},
   "source": [
    "# Necessary assumptions"
   ]
  },
  {
   "cell_type": "code",
   "execution_count": null,
   "id": "19538ca1-7d29-4beb-942a-70d42ad0f916",
   "metadata": {},
   "outputs": [],
   "source": [
    "river_seg_col = 'seg_nhm' # river segment column name in the `shp` object\n",
    "river_miss_val = 0 # missing values corresponding to missing river segment (mainly for non-contributing catchments)"
   ]
  },
  {
   "cell_type": "markdown",
   "id": "d183e284-a7b5-47a4-8c1a-a335ae730f55",
   "metadata": {},
   "source": [
    "# Modifying catchment shapefile"
   ]
  },
  {
   "cell_type": "code",
   "execution_count": null,
   "id": "58ddaf60-5861-4104-9410-91377dafd5b0",
   "metadata": {},
   "outputs": [],
   "source": [
    "# check how many 0s or `river_miss_val` there are in the river IDs (row number)\n",
    "no_missing_rivs = shp[shp[river_seg_col] == river_miss_val].shape"
   ]
  },
  {
   "cell_type": "code",
   "execution_count": null,
   "id": "ac3e774f-2825-4dc2-916f-e721c632e684",
   "metadata": {
    "tags": []
   },
   "outputs": [],
   "source": [
    "# check maximum value of river ID, we will add to it\n",
    "len_rivs = shp[river_seg_col].max()"
   ]
  },
  {
   "cell_type": "code",
   "execution_count": null,
   "id": "00c795aa-4ce2-4106-ab7c-704f6d90ce54",
   "metadata": {},
   "outputs": [],
   "source": [
    "# adds values starting at the maximum river ID. 14 is added because that is how many zero \n",
    "# values there are, modify as needed\n",
    "shp.loc[shp[river_seg_col]==0 , river_seg_col]=range(len_rivs+1, len_rivs+1+no_missing_rivs)"
   ]
  },
  {
   "cell_type": "code",
   "execution_count": null,
   "id": "e84129df-76c1-40c5-b6af-bdcc498be130",
   "metadata": {},
   "outputs": [],
   "source": [
    "# check that there are no 0s\n",
    "print(shp)"
   ]
  },
  {
   "cell_type": "code",
   "execution_count": null,
   "id": "d4e2eb5a-c73c-4988-a89b-0554562114df",
   "metadata": {},
   "outputs": [],
   "source": [
    "# output new shapefile\n",
    "shp.to_file('Modified_SMMcat.shp')"
   ]
  }
 ],
 "metadata": {
  "kernelspec": {
   "display_name": "easymore-env",
   "language": "python",
   "name": "easymore-env"
  },
  "language_info": {
   "codemirror_mode": {
    "name": "ipython",
    "version": 3
   },
   "file_extension": ".py",
   "mimetype": "text/x-python",
   "name": "python",
   "nbconvert_exporter": "python",
   "pygments_lexer": "ipython3",
   "version": "3.11.2"
  }
 },
 "nbformat": 4,
 "nbformat_minor": 5
}
