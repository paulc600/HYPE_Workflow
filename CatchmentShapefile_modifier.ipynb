{
 "cells": [
  {
   "cell_type": "markdown",
   "id": "c4b22063-6e0e-4712-b952-7282d45c4b67",
   "metadata": {},
   "source": [
    "This program imports a catchment shapefile containing catchment ID with no rivers within them. It then assigns a river ID (not real) so it can be used as the column ID in HYPE input"
   ]
  },
  {
   "cell_type": "code",
   "execution_count": null,
   "id": "dcd314d7-233e-44ea-9df2-8aaf83717119",
   "metadata": {},
   "outputs": [],
   "source": [
    "import geopandas as gpd"
   ]
  },
  {
   "cell_type": "code",
   "execution_count": null,
   "id": "1a3aa3d4-cbed-469b-9261-fe6e1539114e",
   "metadata": {},
   "outputs": [],
   "source": [
    "# read shapefile with river ID 0\n",
    "shp=gpd.read_file('/home/paulc600/github/StMaryMilk2023-UofC/modified_TGF/smm_tgf_modified/smm_cat.shp')"
   ]
  },
  {
   "cell_type": "code",
   "execution_count": null,
   "id": "58ddaf60-5861-4104-9410-91377dafd5b0",
   "metadata": {},
   "outputs": [],
   "source": [
    "#check how many 0s there are in the river IDs (row number)\n",
    "shp[shp['seg_nhm']==0].shape"
   ]
  },
  {
   "cell_type": "code",
   "execution_count": null,
   "id": "ac3e774f-2825-4dc2-916f-e721c632e684",
   "metadata": {
    "tags": []
   },
   "outputs": [],
   "source": [
    "# check maximum value of river ID, we will add to it\n",
    "shp['seg_nhm'].max()"
   ]
  },
  {
   "cell_type": "code",
   "execution_count": null,
   "id": "00c795aa-4ce2-4106-ab7c-704f6d90ce54",
   "metadata": {},
   "outputs": [],
   "source": [
    "# adds values starting at the maximum river ID. 14 is added because that is how many zero \n",
    "# values there are, modify as needed\n",
    "shp.loc[shp['seg_nhm']==0 , 'seg_nhm']=range(shp['seg_nhm'].max()+1, shp['seg_nhm'].max()+15)"
   ]
  },
  {
   "cell_type": "code",
   "execution_count": null,
   "id": "e84129df-76c1-40c5-b6af-bdcc498be130",
   "metadata": {},
   "outputs": [],
   "source": [
    "#check that there are no 0s\n",
    "shp"
   ]
  },
  {
   "cell_type": "code",
   "execution_count": null,
   "id": "d4e2eb5a-c73c-4988-a89b-0554562114df",
   "metadata": {},
   "outputs": [],
   "source": [
    "#output new shapefile\n",
    "shp.to_file('Modified_SMMcat.shp')"
   ]
  }
 ],
 "metadata": {
  "kernelspec": {
   "display_name": "easymore-env",
   "language": "python",
   "name": "easymore-env"
  },
  "language_info": {
   "codemirror_mode": {
    "name": "ipython",
    "version": 3
   },
   "file_extension": ".py",
   "mimetype": "text/x-python",
   "name": "python",
   "nbconvert_exporter": "python",
   "pygments_lexer": "ipython3",
   "version": "3.8.10"
  }
 },
 "nbformat": 4,
 "nbformat_minor": 5
}
