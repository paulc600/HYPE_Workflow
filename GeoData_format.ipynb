{
 "cells": [
  {
   "cell_type": "markdown",
   "id": "f9968399-179c-479e-8a9f-82de0ec7140a",
   "metadata": {},
   "source": [
    "# Importing necessary libraries"
   ]
  },
  {
   "cell_type": "code",
   "execution_count": null,
   "id": "27e90f7a-323b-4456-abf9-340b809063d0",
   "metadata": {},
   "outputs": [],
   "source": [
    "import os\n",
    "import geopandas as gpd\n",
    "import pandas as pd"
   ]
  },
  {
   "cell_type": "code",
   "execution_count": null,
   "id": "35860d4f-f1ef-46c6-8483-d7627105c4bf",
   "metadata": {},
   "outputs": [],
   "source": [
    "# Read the modified catchment shapefile\n",
    "mod_cat_path = '/home/paulc600/SMM/SMM HYPE files/Modified_SMMcat.shp' # modify if necessary\n",
    "modifiedcat = gpd.read_file(mod_cat_path)"
   ]
  },
  {
   "cell_type": "code",
   "execution_count": null,
   "id": "ac4d0bbd-a06f-4803-aad6-00875044ce76",
   "metadata": {},
   "outputs": [],
   "source": [
    "# Read the river shapefile\n",
    "riv_path = '/home/paulc600/github/StMaryMilk2023-UofC/modified_TGF/smm_tgf_modified/smm_riv.shp' # modify if necessary\n",
    "riv = gpd.read_file(riv_path)"
   ]
  },
  {
   "cell_type": "code",
   "execution_count": null,
   "id": "e78fcf03-e4ab-4512-9bd3-b4bf506d3391",
   "metadata": {},
   "outputs": [],
   "source": [
    "# Set the output folder path where you want to save the text files\n",
    "output_folder_path = '/home/paulc600/local/HYPE Inputs/' # modify as needed"
   ]
  },
  {
   "cell_type": "code",
   "execution_count": null,
   "id": "fe56d5e3-4962-4e81-bf41-935ce5af3798",
   "metadata": {},
   "outputs": [],
   "source": [
    "# slc path\n",
    "slc_path = '/home/paulc600/SMM/HYPE_geospatial/HYPE_output.csv'"
   ]
  },
  {
   "cell_type": "code",
   "execution_count": null,
   "id": "7f8df7d0-9501-426b-8308-5dc2c16a13bf",
   "metadata": {},
   "outputs": [],
   "source": [
    "# assumptions\n",
    "riv_seg_str = 'seg_nhm'\n",
    "riv_ds_seg_str = 'ds_seg_nhm'\n",
    "riv_seg_slope = 'seg_slope'\n",
    "riv_seg_len = 'Shape_Leng'\n",
    "\n",
    "cat_area = 'Shape_Area'\n",
    "cat_str = 'hru_nhm'"
   ]
  },
  {
   "cell_type": "code",
   "execution_count": null,
   "id": "274ac831-f8f1-474c-a121-ec6c946fa98e",
   "metadata": {},
   "outputs": [],
   "source": [
    "# Sort the GeoDataFrame by a specific column\n",
    "sorted_modifiedcat = modifiedcat.sort_values(by=riv_seg_str)\n",
    "sorted_riv = riv.sort_values(by=riv_seg_str)"
   ]
  },
  {
   "cell_type": "markdown",
   "id": "12c3536b-abc1-4222-852e-cfe849154a6e",
   "metadata": {},
   "source": [
    "Checking a few outputs:"
   ]
  },
  {
   "cell_type": "code",
   "execution_count": null,
   "id": "33ad3cc0-96ca-4fa3-b7dd-3f8f7bf60059",
   "metadata": {},
   "outputs": [],
   "source": [
    "# checking\n",
    "sorted_modifiedcat"
   ]
  },
  {
   "cell_type": "code",
   "execution_count": null,
   "id": "d15816cb-f65a-4334-9940-ab6fc3384d7d",
   "metadata": {},
   "outputs": [],
   "source": [
    "# checking\n",
    "sorted_riv"
   ]
  },
  {
   "cell_type": "code",
   "execution_count": null,
   "id": "33a03b74-e32a-4f03-8202-50c442963c76",
   "metadata": {},
   "outputs": [],
   "source": [
    "# Select the specific rows based on the range in a column\n",
    "selected_rows = modifiedcat[(modifiedcat[riv_seg_str] >= 58662 )]"
   ]
  },
  {
   "cell_type": "code",
   "execution_count": null,
   "id": "9f9a61f7-f976-4ef3-81a7-638070a59607",
   "metadata": {},
   "outputs": [],
   "source": [
    "# Concatenate the selected rows with the river shapefile\n",
    "merged_data = pd.concat([riv, selected_rows], ignore_index=True)"
   ]
  },
  {
   "cell_type": "code",
   "execution_count": null,
   "id": "78bfda73-5469-4ef7-9a49-d13400b2f5ef",
   "metadata": {},
   "outputs": [],
   "source": [
    "# Convert the merged data to a GeoDataFrame\n",
    "merged_riv = gpd.GeoDataFrame(merged_data, crs=riv.crs)"
   ]
  },
  {
   "cell_type": "code",
   "execution_count": null,
   "id": "8d40f2ec-d665-48ba-bb46-4818d774b31f",
   "metadata": {},
   "outputs": [],
   "source": [
    "# fill na values\n",
    "merged_riv=merged_riv.fillna(0)"
   ]
  },
  {
   "cell_type": "code",
   "execution_count": null,
   "id": "707752d1-fbd4-4381-813b-a6806bdadd0c",
   "metadata": {},
   "outputs": [],
   "source": [
    "# checking\n",
    "merged_riv"
   ]
  },
  {
   "cell_type": "markdown",
   "id": "d787a79d-199d-4ba8-8046-e46265dc92a1",
   "metadata": {},
   "source": [
    "Start to create GeoData.txt"
   ]
  },
  {
   "cell_type": "code",
   "execution_count": null,
   "id": "be948f34-089f-4773-ba37-6894b5372f5c",
   "metadata": {},
   "outputs": [],
   "source": [
    "merged_riv"
   ]
  },
  {
   "cell_type": "code",
   "execution_count": null,
   "id": "fac21ad3-b841-4899-9d48-3e6932a90bfc",
   "metadata": {},
   "outputs": [],
   "source": [
    "# Extract the first two columns from the merged_riv GeoDataFrame (subid and maindown)\n",
    "geodata = merged_riv.iloc[:, :2]"
   ]
  },
  {
   "cell_type": "code",
   "execution_count": null,
   "id": "909f5c47-7a95-4bbb-b6f5-9d363396a76d",
   "metadata": {},
   "outputs": [],
   "source": [
    "# Perform the merge based on a common column\n",
    "geodata = pd.merge(geodata, modifiedcat[[riv_seg_str, cat_area]], on=riv_seg_str)"
   ]
  },
  {
   "cell_type": "markdown",
   "id": "9437651c-87c1-46be-9c85-582f509bb3b9",
   "metadata": {},
   "source": [
    "____"
   ]
  },
  {
   "cell_type": "markdown",
   "id": "e6c257f4-0be5-424c-a141-481641f894bc",
   "metadata": {},
   "source": [
    "Add coordinate of sub-basins' centroid `lat` and `lon` statistics from gistool (optional):"
   ]
  },
  {
   "cell_type": "code",
   "execution_count": null,
   "id": "cb4d6239-1121-4d99-8b77-930ca10ac5d7",
   "metadata": {},
   "outputs": [],
   "source": [
    "# FIXME: add gistool script here"
   ]
  },
  {
   "cell_type": "markdown",
   "id": "9eee60d2-936c-43c3-9a38-c01c5853deab",
   "metadata": {},
   "source": [
    "Add `elev_mean` from Merit-Hydro in gistool with the `smm_cat.shp` file (optional)"
   ]
  },
  {
   "cell_type": "code",
   "execution_count": null,
   "id": "7a76f76a-d06b-4f71-b247-841ef40f0805",
   "metadata": {},
   "outputs": [],
   "source": [
    "# FIXME: add gistool script here"
   ]
  },
  {
   "cell_type": "markdown",
   "id": "f996b682-d90e-4b6f-b081-0bdebd722951",
   "metadata": {},
   "source": [
    "____"
   ]
  },
  {
   "cell_type": "code",
   "execution_count": null,
   "id": "76b00730-2471-45f6-9337-2991cd21613a",
   "metadata": {},
   "outputs": [],
   "source": [
    "# merge slope to the dataframe from merged_riv\n",
    "geodata = pd.merge(geodata, merged_riv[[riv_seg_str, riv_seg_slope]], on=riv_seg_str)"
   ]
  },
  {
   "cell_type": "code",
   "execution_count": null,
   "id": "9043108f-c253-44e1-a2c2-1e6ed861adc1",
   "metadata": {},
   "outputs": [],
   "source": [
    "# merge length to the dataframe from merged_riv\n",
    "geodata = pd.merge(geodata, merged_riv[[riv_seg_str, riv_seg_len]], on=riv_seg_str)"
   ]
  },
  {
   "cell_type": "code",
   "execution_count": null,
   "id": "f1dc64ac-4eef-4940-a2a1-a127011aa30b",
   "metadata": {},
   "outputs": [],
   "source": [
    "# checking\n",
    "geodata"
   ]
  },
  {
   "cell_type": "code",
   "execution_count": null,
   "id": "68470263-0214-4de9-9f36-02b0235af464",
   "metadata": {},
   "outputs": [],
   "source": [
    "# read the slc information\n",
    "slc = pd.read_csv(slc_path)"
   ]
  },
  {
   "cell_type": "code",
   "execution_count": null,
   "id": "195d3044-d0d2-4983-9f27-7962f61cf663",
   "metadata": {},
   "outputs": [],
   "source": [
    "# checking\n",
    "slc"
   ]
  },
  {
   "cell_type": "code",
   "execution_count": null,
   "id": "16a8cb58-9986-446a-91c8-92c1563c17b8",
   "metadata": {},
   "outputs": [],
   "source": [
    "# Merge the data from the CSV file with modifiedcat matching the hru ids\n",
    "merged_cat = pd.merge(modifiedcat, slc, left_on=cat_str, right_on='Unnamed: 0', how='inner')"
   ]
  },
  {
   "cell_type": "code",
   "execution_count": null,
   "id": "b81656a2-a67b-4ef2-9def-4e8210132055",
   "metadata": {},
   "outputs": [],
   "source": [
    "# checking\n",
    "merged_cat"
   ]
  },
  {
   "cell_type": "code",
   "execution_count": null,
   "id": "6ca5da8f-8259-407b-909f-db376e13b0ac",
   "metadata": {},
   "outputs": [],
   "source": [
    "# Get the columns to merge based on a range or condition\n",
    "column_range = merged_cat.columns[14:]  "
   ]
  },
  {
   "cell_type": "code",
   "execution_count": null,
   "id": "f25f40aa-4aeb-4917-9798-5fe444410daa",
   "metadata": {},
   "outputs": [],
   "source": [
    "# checking\n",
    "column_range"
   ]
  },
  {
   "cell_type": "code",
   "execution_count": null,
   "id": "6485d7d2-5f79-4d4c-a323-083c96d8432b",
   "metadata": {
    "tags": []
   },
   "outputs": [],
   "source": [
    "# Merge the selected columns from merged_data with data_to_write matching seg ids\n",
    "final_geodata = pd.merge(geodata, merged_cat[[riv_seg_str] + list(column_range)],  on=riv_seg_str)\n",
    "final_geodata"
   ]
  },
  {
   "cell_type": "code",
   "execution_count": null,
   "id": "c05cab4d-e67d-4bc5-956b-b1b0a064ba67",
   "metadata": {},
   "outputs": [],
   "source": [
    "# changing downstream values of nca\n",
    "# FIXME: improve this method\n",
    "final_geodata.loc[final_geodata[riv_seg_str] >= 58662, riv_ds_seg_str] = -9999"
   ]
  },
  {
   "cell_type": "code",
   "execution_count": null,
   "id": "1b4aac71-414a-4e80-a622-b1e8b6daf015",
   "metadata": {},
   "outputs": [],
   "source": [
    "# zero the rest of the columns for nca\n",
    "# FIXME: improve this method\n",
    "final_geodata.loc[final_geodata[riv_seg_str] >= 58662, cat_area:riv_seg_len] = 0"
   ]
  },
  {
   "cell_type": "code",
   "execution_count": null,
   "id": "ec44444c-c5ec-4e96-9f3d-337515ec30b2",
   "metadata": {},
   "outputs": [],
   "source": [
    "# checking\n",
    "final_geodata"
   ]
  },
  {
   "cell_type": "code",
   "execution_count": null,
   "id": "e0632db2-71a4-42b9-90aa-161c744231f4",
   "metadata": {},
   "outputs": [],
   "source": [
    "#Rename the first columns to HYPE GeoData format\n",
    "final_geodata.rename(columns={riv_seg_str:'subid' , riv_ds_seg_str:'maindown', cat_area:'area', riv_seg_slope:'slope_mean', riv_seg_len:'rivlen'}, inplace=True)   "
   ]
  },
  {
   "cell_type": "code",
   "execution_count": null,
   "id": "3db32a48-7c4b-4a29-b7ed-7b3aa51cd840",
   "metadata": {},
   "outputs": [],
   "source": [
    "# Define the range of columns to rename\n",
    "# FIXME: find a method to automate the numbers here\n",
    "start_index = 5\n",
    "end_index = 76\n",
    "offset=start_index-1"
   ]
  },
  {
   "cell_type": "code",
   "execution_count": null,
   "id": "f4dc924b-065d-4376-81ea-5eade9eff526",
   "metadata": {},
   "outputs": [],
   "source": [
    "# Generate the new column names\n",
    "new_column_names = ['SLC_' + str(i - offset) for i in range(start_index, end_index + 1)]"
   ]
  },
  {
   "cell_type": "code",
   "execution_count": null,
   "id": "04424e47-095c-461b-8082-a1fdcd44a085",
   "metadata": {},
   "outputs": [],
   "source": [
    "# checking\n",
    "new_column_names"
   ]
  },
  {
   "cell_type": "code",
   "execution_count": null,
   "id": "f13d3179-33ba-49ae-b79f-460313680c8f",
   "metadata": {},
   "outputs": [],
   "source": [
    "# Rename the columns in merged_data\n",
    "final_geodata.columns.values[start_index:end_index + 1] = new_column_names"
   ]
  },
  {
   "cell_type": "code",
   "execution_count": null,
   "id": "f2e1410e-63de-4490-be78-1d79d98dea48",
   "metadata": {},
   "outputs": [],
   "source": [
    "# checking\n",
    "final_geodata"
   ]
  },
  {
   "cell_type": "code",
   "execution_count": null,
   "id": "a469f331-9913-438f-ab08-e722b147c1b1",
   "metadata": {},
   "outputs": [],
   "source": [
    "# Create a custom sorting key based on 'upstream' and 'downstream' columns\n",
    "final_geodata['sorting_key'] = final_geodata.apply(lambda row: (row['subid'], row.name)\n",
    "                                       if row['subid'] not in final_geodata['maindown'].values\n",
    "                                       else (float('inf'), row.name), axis=1)"
   ]
  },
  {
   "cell_type": "code",
   "execution_count": null,
   "id": "a7dd4666-705d-4107-8016-2f9ffa7ead5d",
   "metadata": {},
   "outputs": [],
   "source": [
    "# Sort the DataFrame from upstream to downstream\n",
    "geodata_sorted = final_geodata.sort_values('sorting_key', ascending=False)"
   ]
  },
  {
   "cell_type": "code",
   "execution_count": null,
   "id": "09486367-e8ab-48a2-a568-4ec5984a2fcb",
   "metadata": {},
   "outputs": [],
   "source": [
    "# Remove the sorting key column\n",
    "geodata_sorted = geodata_sorted.drop('sorting_key', axis=1)"
   ]
  },
  {
   "cell_type": "code",
   "execution_count": null,
   "id": "15eb6cb6-69e3-45e7-ba5b-dbf69fa968c7",
   "metadata": {},
   "outputs": [],
   "source": [
    "# checking\n",
    "geodata_sorted"
   ]
  },
  {
   "cell_type": "code",
   "execution_count": null,
   "id": "a49f0aa2-a99f-4072-9629-6279033046b4",
   "metadata": {},
   "outputs": [],
   "source": [
    "geodata_sorted.to_csv(os.path.join(output_folder_path,'GeoData.txt'), sep='\\t', index=False)"
   ]
  }
 ],
 "metadata": {
  "kernelspec": {
   "display_name": "easymore-env",
   "language": "python",
   "name": "easymore-env"
  },
  "language_info": {
   "codemirror_mode": {
    "name": "ipython",
    "version": 3
   },
   "file_extension": ".py",
   "mimetype": "text/x-python",
   "name": "python",
   "nbconvert_exporter": "python",
   "pygments_lexer": "ipython3",
   "version": "3.11.2"
  }
 },
 "nbformat": 4,
 "nbformat_minor": 5
}
