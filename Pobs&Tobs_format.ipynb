{
 "cells": [
  {
   "cell_type": "code",
   "execution_count": null,
   "id": "819f2aaf-cb61-4e9d-887e-354f5a4926b0",
   "metadata": {},
   "outputs": [],
   "source": [
    "import os\n",
    "import xarray as xr\n",
    "import pandas as pd\n",
    "import numpy as np\n",
    "import geopandas as gpd\n",
    "import glob "
   ]
  },
  {
   "cell_type": "markdown",
   "id": "093dc5b5-4e4e-4f28-bd20-6272594ea173",
   "metadata": {},
   "source": [
    "Before reading the *.nc files, it is important to use `cdo` to `merge` all the `.nc` files for each year, and then read them:"
   ]
  },
  {
   "cell_type": "code",
   "execution_count": null,
   "id": "5161c302-55a7-4ac7-b649-694141056c8d",
   "metadata": {},
   "outputs": [],
   "source": [
    "# FIXME: Put the `cdo` code here as an example"
   ]
  },
  {
   "cell_type": "code",
   "execution_count": null,
   "id": "cd81060d-0b17-4825-be36-ebb42babf35e",
   "metadata": {},
   "outputs": [],
   "source": [
    "# Set the folder path where your .nc files are located\n",
    "folder_path = '/home/paulc600/scratch/HYPE_easymore/merged_easymore/*.nc'"
   ]
  },
  {
   "cell_type": "code",
   "execution_count": null,
   "id": "3949c4eb-a783-42c8-94cb-41070785538c",
   "metadata": {},
   "outputs": [],
   "source": [
    "# Set the output folder path where you want to save the text files\n",
    "output_folder_path = '/home/paulc600/local/'"
   ]
  },
  {
   "cell_type": "code",
   "execution_count": null,
   "id": "beba5b98-8971-4cbb-8425-7eb5b53492c8",
   "metadata": {},
   "outputs": [],
   "source": [
    "# Get a list of all .nc files in the folder\n",
    "file_list = glob.glob(folder_path)"
   ]
  },
  {
   "cell_type": "code",
   "execution_count": null,
   "id": "9b34f4d5-d698-44d1-b8c5-1bf9b022c03a",
   "metadata": {},
   "outputs": [],
   "source": [
    "# Open the .nc files using xarray's open_mfdataset\n",
    "dataset = xr.open_mfdataset(file_list, combine='by_coords')\n"
   ]
  },
  {
   "cell_type": "code",
   "execution_count": null,
   "id": "da7b2ff1-adb8-405f-bc75-f26347f6a02b",
   "metadata": {},
   "outputs": [],
   "source": [
    "# easymore names\n",
    "time_id = 'time'\n",
    "easymore_id = 'ID'\n",
    "prec_esmr_name = 'precipitation'\n",
    "temp_esmr_name = 'temperature'"
   ]
  },
  {
   "cell_type": "code",
   "execution_count": null,
   "id": "167ed567-edda-4fd1-bc9c-940ae383f8b2",
   "metadata": {},
   "outputs": [],
   "source": [
    "# Extract the time, precipitation, and temperature variables from the dataset\n",
    "time = dataset[time_id]\n",
    "precipitation = dataset[prec_esmr_name]\n",
    "temperature = dataset[temp_esmr_name]\n",
    "ID = dataset[easymore_id]"
   ]
  },
  {
   "cell_type": "code",
   "execution_count": null,
   "id": "d08220b4-1ece-478e-b725-e8c2514f52d6",
   "metadata": {},
   "outputs": [],
   "source": [
    "# path to the modified catchment file (if modifications were necessary)\n",
    "cat_path = '/home/paulc600/SMM/SMM HYPE files/Modified_SMMcat.shp'"
   ]
  },
  {
   "cell_type": "code",
   "execution_count": null,
   "id": "18054d6f-fb44-43a9-9c02-fe4777f6b009",
   "metadata": {},
   "outputs": [],
   "source": [
    "# read shapefile with extra river ID given to catchments without rivers\n",
    "New_ID=gpd.read_file(cat_path)"
   ]
  },
  {
   "cell_type": "code",
   "execution_count": null,
   "id": "5109d214-704b-4a79-8d9b-c6ef53506bff",
   "metadata": {},
   "outputs": [],
   "source": [
    "# checking\n",
    "New_ID"
   ]
  },
  {
   "cell_type": "code",
   "execution_count": null,
   "id": "2a5d3737-fd01-45d4-b89d-fc16c0c31a44",
   "metadata": {},
   "outputs": [],
   "source": [
    "# Resample the precipitation array to daily sum\n",
    "precipitation_daily = precipitation.resample(time='D').sum(dim=time_id)"
   ]
  },
  {
   "cell_type": "code",
   "execution_count": null,
   "id": "a6722f42-7bd2-471b-b827-0caf41c71170",
   "metadata": {},
   "outputs": [],
   "source": [
    "# Resample the temperature array to daily mean\n",
    "temperature_daily = temperature.resample(time='D').mean(dim=time_id)"
   ]
  },
  {
   "cell_type": "code",
   "execution_count": null,
   "id": "4a67ccc1-e7ac-4c03-8007-f755db171da4",
   "metadata": {},
   "outputs": [],
   "source": [
    "# FIXME: put your easymore and datatoole configuration and scripts in a folder inside this repository!"
   ]
  },
  {
   "cell_type": "code",
   "execution_count": null,
   "id": "7abac3a6-8b8a-4a7c-b63f-901042da86b3",
   "metadata": {},
   "outputs": [],
   "source": [
    "# Convert precipitation_daily and temperature_daily to DataFrames\n",
    "precipitation_df = precipitation_daily.to_dataframe(name=prec_esmr_name)\n",
    "temperature_df = temperature_daily.to_dataframe(name=temp_esmr_name)"
   ]
  },
  {
   "cell_type": "code",
   "execution_count": null,
   "id": "6ccd2013-97dc-4fb8-851e-13bc0b831e5d",
   "metadata": {},
   "outputs": [],
   "source": [
    "# Reset the index of the DataFrames\n",
    "precipitation_df = precipitation_df.reset_index()\n",
    "temperature_df = temperature_df.reset_index()"
   ]
  },
  {
   "cell_type": "code",
   "execution_count": null,
   "id": "1611057b-ea00-4636-b94c-54aec7eb0061",
   "metadata": {},
   "outputs": [],
   "source": [
    "# Assumptions\n",
    "riv_seg_str = 'seg_nhm'\n",
    "cat_str = 'hru_nhm'"
   ]
  },
  {
   "cell_type": "code",
   "execution_count": null,
   "id": "ae433775-5106-4f8c-a4e5-38ba1c34e586",
   "metadata": {},
   "outputs": [],
   "source": [
    "# Convert ID column to integer\n",
    "precipitation_df[easymore_id] = precipitation_df[easymore_id].astype(int)\n",
    "temperature_df[easymore_id] = temperature_df[easymore_id].astype(int)\n",
    "New_ID[riv_seg_str] = New_ID[riv_seg_str].astype(int)"
   ]
  },
  {
   "cell_type": "code",
   "execution_count": null,
   "id": "f4544e57-6901-4661-a444-657d800194f1",
   "metadata": {},
   "outputs": [],
   "source": [
    "# Format precipitation and temperature data to 3 significant figures\n",
    "precipitation_df[prec_esmr_name] = precipitation_df[prec_esmr_name].apply(lambda x: '{:.3g}'.format(x) if not np.isnan(x) else '')\n",
    "temperature_df[temp_esmr_name] = temperature_df[temp_esmr_name].apply(lambda x: '{:.3g}'.format(x) if not np.isnan(x) else '')"
   ]
  },
  {
   "cell_type": "code",
   "execution_count": null,
   "id": "6b500a77-056f-4b8d-a29e-ed0c75a8333c",
   "metadata": {},
   "outputs": [],
   "source": [
    "# Pivot the DataFrames to have each ID as a separate column\n",
    "precipitation_pivoted = precipitation_df.pivot(index=time_id, columns=easymore_id, values=prec_esmr_name)\n",
    "temperature_pivoted = temperature_df.pivot(index=time_id, columns=easymore_id, values=temp_esmr_name)"
   ]
  },
  {
   "cell_type": "code",
   "execution_count": null,
   "id": "cee03ff6-f238-434f-b8ea-d741150cc80b",
   "metadata": {
    "tags": []
   },
   "outputs": [],
   "source": [
    "New_ID.set_index(cat_str).loc[precipitation_pivoted.columns, riv_seg_str]"
   ]
  },
  {
   "cell_type": "code",
   "execution_count": null,
   "id": "40d27c37-a4a6-4baf-bb85-2bd055649698",
   "metadata": {},
   "outputs": [],
   "source": [
    "# replace ID with river ID from modified shapefile (including imaginary rivers)\n",
    "precipitation_pivoted.columns=New_ID.set_index(cat_str).loc[precipitation_pivoted.columns, riv_seg_str]\n",
    "temperature_pivoted.columns=New_ID.set_index(cat_str).loc[temperature_pivoted.columns, riv_seg_str]"
   ]
  },
  {
   "cell_type": "code",
   "execution_count": null,
   "id": "359216b0-73cb-4489-bee0-5d9c4b1b7db3",
   "metadata": {},
   "outputs": [],
   "source": [
    "# Convert precipitation from meters to millimeters\n",
    "precipitation_pivoted *= 1000"
   ]
  },
  {
   "cell_type": "code",
   "execution_count": null,
   "id": "ab6a9624-bc62-44ff-a7b1-9cea9b369f9c",
   "metadata": {
    "tags": []
   },
   "outputs": [],
   "source": [
    "#checking\n",
    "precipitation_pivoted"
   ]
  },
  {
   "cell_type": "code",
   "execution_count": null,
   "id": "e9b068a2-9146-4660-9cc3-3833ac2a4b67",
   "metadata": {},
   "outputs": [],
   "source": [
    "#checking\n",
    "temperature_pivoted"
   ]
  },
  {
   "cell_type": "code",
   "execution_count": null,
   "id": "cbd25050-d251-44a4-b59f-baec46132a83",
   "metadata": {},
   "outputs": [],
   "source": [
    "# Save the DataFrames to text files with time and separate columns for each ID\n",
    "precipitation_pivoted.to_csv(os.path.join(output_folder_path, 'Pobs.txt'), sep='\\t', na_rep='', index_label='time')\n",
    "temperature_pivoted.to_csv(os.path.join(output_folder_path, 'Tobs.txt'), sep='\\t', na_rep='', index_label='time')"
   ]
  },
  {
   "cell_type": "markdown",
   "id": "6a4e8e9b-64f9-4fc6-a9d7-a8a0994043b5",
   "metadata": {},
   "source": [
    "Disclaimer: this workflow will finally become fully automated and placed into a new Python package."
   ]
  }
 ],
 "metadata": {
  "kernelspec": {
   "display_name": "easymore-env",
   "language": "python",
   "name": "easymore-env"
  },
  "language_info": {
   "codemirror_mode": {
    "name": "ipython",
    "version": 3
   },
   "file_extension": ".py",
   "mimetype": "text/x-python",
   "name": "python",
   "nbconvert_exporter": "python",
   "pygments_lexer": "ipython3",
   "version": "3.11.2"
  }
 },
 "nbformat": 4,
 "nbformat_minor": 5
}
