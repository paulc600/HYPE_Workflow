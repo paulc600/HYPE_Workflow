{
 "cells": [
  {
   "cell_type": "code",
   "execution_count": null,
   "id": "819f2aaf-cb61-4e9d-887e-354f5a4926b0",
   "metadata": {},
   "outputs": [],
   "source": [
    "import os\n",
    "import xarray as xr\n",
    "import pandas as pd\n",
    "import numpy as np\n",
    "import geopandas as gpd\n",
    "import glob "
   ]
  },
  {
   "cell_type": "code",
   "execution_count": null,
   "id": "cd81060d-0b17-4825-be36-ebb42babf35e",
   "metadata": {},
   "outputs": [],
   "source": [
    "# Set the folder path where your .nc files are located\n",
    "folder_path = '/home/paulc600/scratch/HYPE_easymore/merged_easymore/*.nc'"
   ]
  },
  {
   "cell_type": "code",
   "execution_count": null,
   "id": "3949c4eb-a783-42c8-94cb-41070785538c",
   "metadata": {},
   "outputs": [],
   "source": [
    "# Set the output folder path where you want to save the text files\n",
    "output_folder_path = '/home/paulc600/local/'"
   ]
  },
  {
   "cell_type": "code",
   "execution_count": null,
   "id": "beba5b98-8971-4cbb-8425-7eb5b53492c8",
   "metadata": {},
   "outputs": [],
   "source": [
    "# Get a list of all .nc files in the folder\n",
    "file_list = glob.glob(folder_path)"
   ]
  },
  {
   "cell_type": "code",
   "execution_count": null,
   "id": "9b34f4d5-d698-44d1-b8c5-1bf9b022c03a",
   "metadata": {},
   "outputs": [],
   "source": [
    "# Open the .nc files using xarray's open_mfdataset\n",
    "dataset = xr.open_mfdataset(file_list, combine='by_coords')\n"
   ]
  },
  {
   "cell_type": "code",
   "execution_count": null,
   "id": "167ed567-edda-4fd1-bc9c-940ae383f8b2",
   "metadata": {},
   "outputs": [],
   "source": [
    "# Extract the time, precipitation, and temperature variables from the dataset\n",
    "time = dataset['time']\n",
    "precipitation = dataset['precipitation']\n",
    "temperature = dataset['temperature']\n",
    "ID = dataset['ID']"
   ]
  },
  {
   "cell_type": "code",
   "execution_count": null,
   "id": "18054d6f-fb44-43a9-9c02-fe4777f6b009",
   "metadata": {},
   "outputs": [],
   "source": [
    "# read shapefile with extra river ID given to catchments without rivers\n",
    "New_ID=gpd.read_file('/home/paulc600/SMM/SMM HYPE files/Modified_SMMcat.shp')"
   ]
  },
  {
   "cell_type": "code",
   "execution_count": null,
   "id": "5109d214-704b-4a79-8d9b-c6ef53506bff",
   "metadata": {},
   "outputs": [],
   "source": [
    "New_ID"
   ]
  },
  {
   "cell_type": "code",
   "execution_count": null,
   "id": "2a5d3737-fd01-45d4-b89d-fc16c0c31a44",
   "metadata": {},
   "outputs": [],
   "source": [
    "# Resample the precipitation array to daily sum\n",
    "precipitation_daily = precipitation.resample(time='D').sum(dim='time')"
   ]
  },
  {
   "cell_type": "code",
   "execution_count": null,
   "id": "a6722f42-7bd2-471b-b827-0caf41c71170",
   "metadata": {},
   "outputs": [],
   "source": [
    "# Resample the temperature array to daily mean\n",
    "temperature_daily = temperature.resample(time='D').mean(dim='time')"
   ]
  },
  {
   "cell_type": "code",
   "execution_count": null,
   "id": "7abac3a6-8b8a-4a7c-b63f-901042da86b3",
   "metadata": {},
   "outputs": [],
   "source": [
    "# Convert precipitation_daily and temperature_daily to DataFrames\n",
    "precipitation_df = precipitation_daily.to_dataframe(name='precipitation')\n",
    "temperature_df = temperature_daily.to_dataframe(name='temperature')"
   ]
  },
  {
   "cell_type": "code",
   "execution_count": null,
   "id": "6ccd2013-97dc-4fb8-851e-13bc0b831e5d",
   "metadata": {},
   "outputs": [],
   "source": [
    "# Reset the index of the DataFrames\n",
    "precipitation_df = precipitation_df.reset_index()\n",
    "temperature_df = temperature_df.reset_index()"
   ]
  },
  {
   "cell_type": "code",
   "execution_count": null,
   "id": "ae433775-5106-4f8c-a4e5-38ba1c34e586",
   "metadata": {},
   "outputs": [],
   "source": [
    "# Convert ID column to integer\n",
    "precipitation_df['ID'] = precipitation_df['ID'].astype(int)\n",
    "temperature_df['ID'] = temperature_df['ID'].astype(int)\n",
    "New_ID['seg_nhm'] = New_ID['seg_nhm'].astype(int)"
   ]
  },
  {
   "cell_type": "code",
   "execution_count": null,
   "id": "f4544e57-6901-4661-a444-657d800194f1",
   "metadata": {},
   "outputs": [],
   "source": [
    "# Format precipitation and temperature data to 3 significant figures\n",
    "precipitation_df['precipitation'] = precipitation_df['precipitation'].apply(lambda x: '{:.3g}'.format(x) if not np.isnan(x) else '')\n",
    "temperature_df['temperature'] = temperature_df['temperature'].apply(lambda x: '{:.3g}'.format(x) if not np.isnan(x) else '')"
   ]
  },
  {
   "cell_type": "code",
   "execution_count": null,
   "id": "6b500a77-056f-4b8d-a29e-ed0c75a8333c",
   "metadata": {},
   "outputs": [],
   "source": [
    "# Pivot the DataFrames to have each ID as a separate column\n",
    "precipitation_pivoted = precipitation_df.pivot(index='time', columns='ID', values='precipitation')\n",
    "temperature_pivoted = temperature_df.pivot(index='time', columns='ID', values='temperature')"
   ]
  },
  {
   "cell_type": "code",
   "execution_count": null,
   "id": "cee03ff6-f238-434f-b8ea-d741150cc80b",
   "metadata": {
    "tags": []
   },
   "outputs": [],
   "source": [
    "New_ID.set_index('hru_nhm').loc[precipitation_pivoted.columns, 'seg_nhm']"
   ]
  },
  {
   "cell_type": "code",
   "execution_count": null,
   "id": "40d27c37-a4a6-4baf-bb85-2bd055649698",
   "metadata": {},
   "outputs": [],
   "source": [
    "# replace ID with river ID from modified shapefile (including imaginary rivers)\n",
    "precipitation_pivoted.columns=New_ID.set_index('hru_nhm').loc[precipitation_pivoted.columns, 'seg_nhm']\n",
    "temperature_pivoted.columns=New_ID.set_index('hru_nhm').loc[temperature_pivoted.columns, 'seg_nhm']"
   ]
  },
  {
   "cell_type": "code",
   "execution_count": null,
   "id": "359216b0-73cb-4489-bee0-5d9c4b1b7db3",
   "metadata": {},
   "outputs": [],
   "source": [
    "# Convert precipitation from meters to millimeters\n",
    "precipitation_pivoted *= 1000"
   ]
  },
  {
   "cell_type": "code",
   "execution_count": null,
   "id": "ab6a9624-bc62-44ff-a7b1-9cea9b369f9c",
   "metadata": {
    "tags": []
   },
   "outputs": [],
   "source": [
    "precipitation_pivoted"
   ]
  },
  {
   "cell_type": "code",
   "execution_count": null,
   "id": "e9b068a2-9146-4660-9cc3-3833ac2a4b67",
   "metadata": {},
   "outputs": [],
   "source": [
    "temperature_pivoted"
   ]
  },
  {
   "cell_type": "code",
   "execution_count": null,
   "id": "cbd25050-d251-44a4-b59f-baec46132a83",
   "metadata": {},
   "outputs": [],
   "source": [
    "# Save the DataFrames to text files with time and separate columns for each ID\n",
    "precipitation_pivoted.to_csv(os.path.join(output_folder_path, 'Pobs.txt'), sep='\\t', na_rep='', index_label='time')\n",
    "temperature_pivoted.to_csv(os.path.join(output_folder_path, 'Tobs.txt'), sep='\\t', na_rep='', index_label='time')"
   ]
  }
 ],
 "metadata": {
  "kernelspec": {
   "display_name": "easymore-env",
   "language": "python",
   "name": "easymore-env"
  },
  "language_info": {
   "codemirror_mode": {
    "name": "ipython",
    "version": 3
   },
   "file_extension": ".py",
   "mimetype": "text/x-python",
   "name": "python",
   "nbconvert_exporter": "python",
   "pygments_lexer": "ipython3",
   "version": "3.8.10"
  }
 },
 "nbformat": 4,
 "nbformat_minor": 5
}
