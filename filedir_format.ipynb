{
 "cells": [
  {
   "cell_type": "markdown",
   "id": "977c9a1f-0f14-4d75-a1a2-6530e45b7aa3",
   "metadata": {},
   "source": [
    "# Intro\n",
    "\n",
    "Method to print strings to files:"
   ]
  },
  {
   "cell_type": "code",
   "execution_count": null,
   "id": "ccd56032-61a7-4ddc-9fed-d92f68ad6cfb",
   "metadata": {},
   "outputs": [],
   "source": [
    "import os"
   ]
  },
  {
   "cell_type": "code",
   "execution_count": null,
   "id": "568f5994-6905-4d32-a355-ae9994ec9089",
   "metadata": {},
   "outputs": [],
   "source": [
    "# define output and contents\n",
    "file_path = '/home/paulc600/local/HYPE Inputs/filedir.txt'\n",
    "string_to_write = './'"
   ]
  },
  {
   "cell_type": "code",
   "execution_count": null,
   "id": "58022097-5978-48f6-93fd-bbae9ab9f2b2",
   "metadata": {},
   "outputs": [],
   "source": [
    "# write file\n",
    "def write_string_to_file(file_path, string):\n",
    "    with open(file_path, 'w') as file:\n",
    "        file.write(string)"
   ]
  },
  {
   "cell_type": "code",
   "execution_count": null,
   "id": "710e477b-a24e-4b91-9420-20811282edcf",
   "metadata": {},
   "outputs": [],
   "source": [
    "# output file\n",
    "write_string_to_file(file_path, string_to_write)"
   ]
  }
 ],
 "metadata": {
  "kernelspec": {
   "display_name": "easymore-env",
   "language": "python",
   "name": "easymore-env"
  },
  "language_info": {
   "codemirror_mode": {
    "name": "ipython",
    "version": 3
   },
   "file_extension": ".py",
   "mimetype": "text/x-python",
   "name": "python",
   "nbconvert_exporter": "python",
   "pygments_lexer": "ipython3",
   "version": "3.11.2"
  }
 },
 "nbformat": 4,
 "nbformat_minor": 5
}
